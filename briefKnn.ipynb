{
 "cells": [
  {
   "cell_type": "code",
   "execution_count": 828,
   "metadata": {},
   "outputs": [],
   "source": [
    "import seaborn as sns\n",
    "import pandas as pd\n",
    "import matplotlib.pyplot as plt \n",
    "from sklearn.neighbors import KNeighborsClassifier \n",
    "from sklearn.decomposition import PCA"
   ]
  },
  {
   "cell_type": "code",
   "execution_count": 829,
   "metadata": {},
   "outputs": [],
   "source": [
    "from sklearn.preprocessing import StandardScaler\n",
    "\n",
    "from sklearn.metrics import confusion_matrix\n",
    "from sklearn.metrics import accuracy_score\n",
    "\n",
    "from sklearn.metrics import classification_report\n",
    "from sklearn.metrics import f1_score\n",
    "\n",
    "\n",
    "from sklearn import metrics\n",
    "from  sklearn.model_selection import train_test_split\n",
    "\n",
    "\n",
    "from time import time"
   ]
  },
  {
   "cell_type": "code",
   "execution_count": 830,
   "metadata": {},
   "outputs": [],
   "source": [
    "\n",
    "data = pd.read_csv('kNN.csv')\n"
   ]
  },
  {
   "cell_type": "markdown",
   "metadata": {},
   "source": [
    "### Réaliser l'analyse exploratoire des données\n"
   ]
  },
  {
   "cell_type": "code",
   "execution_count": 831,
   "metadata": {},
   "outputs": [
    {
     "data": {
      "text/html": [
       "<div>\n",
       "<style scoped>\n",
       "    .dataframe tbody tr th:only-of-type {\n",
       "        vertical-align: middle;\n",
       "    }\n",
       "\n",
       "    .dataframe tbody tr th {\n",
       "        vertical-align: top;\n",
       "    }\n",
       "\n",
       "    .dataframe thead th {\n",
       "        text-align: right;\n",
       "    }\n",
       "</style>\n",
       "<table border=\"1\" class=\"dataframe\">\n",
       "  <thead>\n",
       "    <tr style=\"text-align: right;\">\n",
       "      <th></th>\n",
       "      <th>id</th>\n",
       "      <th>diagnosis</th>\n",
       "      <th>radius_mean</th>\n",
       "      <th>texture_mean</th>\n",
       "      <th>perimeter_mean</th>\n",
       "      <th>area_mean</th>\n",
       "      <th>smoothness_mean</th>\n",
       "      <th>compactness_mean</th>\n",
       "      <th>concavity_mean</th>\n",
       "      <th>concave points_mean</th>\n",
       "      <th>...</th>\n",
       "      <th>texture_worst</th>\n",
       "      <th>perimeter_worst</th>\n",
       "      <th>area_worst</th>\n",
       "      <th>smoothness_worst</th>\n",
       "      <th>compactness_worst</th>\n",
       "      <th>concavity_worst</th>\n",
       "      <th>concave points_worst</th>\n",
       "      <th>symmetry_worst</th>\n",
       "      <th>fractal_dimension_worst</th>\n",
       "      <th>Unnamed: 32</th>\n",
       "    </tr>\n",
       "  </thead>\n",
       "  <tbody>\n",
       "    <tr>\n",
       "      <th>0</th>\n",
       "      <td>842302</td>\n",
       "      <td>M</td>\n",
       "      <td>17.99</td>\n",
       "      <td>10.38</td>\n",
       "      <td>122.80</td>\n",
       "      <td>1001.0</td>\n",
       "      <td>0.11840</td>\n",
       "      <td>0.27760</td>\n",
       "      <td>0.3001</td>\n",
       "      <td>0.14710</td>\n",
       "      <td>...</td>\n",
       "      <td>17.33</td>\n",
       "      <td>184.60</td>\n",
       "      <td>2019.0</td>\n",
       "      <td>0.1622</td>\n",
       "      <td>0.6656</td>\n",
       "      <td>0.7119</td>\n",
       "      <td>0.2654</td>\n",
       "      <td>0.4601</td>\n",
       "      <td>0.11890</td>\n",
       "      <td>NaN</td>\n",
       "    </tr>\n",
       "    <tr>\n",
       "      <th>1</th>\n",
       "      <td>842517</td>\n",
       "      <td>M</td>\n",
       "      <td>20.57</td>\n",
       "      <td>17.77</td>\n",
       "      <td>132.90</td>\n",
       "      <td>1326.0</td>\n",
       "      <td>0.08474</td>\n",
       "      <td>0.07864</td>\n",
       "      <td>0.0869</td>\n",
       "      <td>0.07017</td>\n",
       "      <td>...</td>\n",
       "      <td>23.41</td>\n",
       "      <td>158.80</td>\n",
       "      <td>1956.0</td>\n",
       "      <td>0.1238</td>\n",
       "      <td>0.1866</td>\n",
       "      <td>0.2416</td>\n",
       "      <td>0.1860</td>\n",
       "      <td>0.2750</td>\n",
       "      <td>0.08902</td>\n",
       "      <td>NaN</td>\n",
       "    </tr>\n",
       "    <tr>\n",
       "      <th>2</th>\n",
       "      <td>84300903</td>\n",
       "      <td>M</td>\n",
       "      <td>19.69</td>\n",
       "      <td>21.25</td>\n",
       "      <td>130.00</td>\n",
       "      <td>1203.0</td>\n",
       "      <td>0.10960</td>\n",
       "      <td>0.15990</td>\n",
       "      <td>0.1974</td>\n",
       "      <td>0.12790</td>\n",
       "      <td>...</td>\n",
       "      <td>25.53</td>\n",
       "      <td>152.50</td>\n",
       "      <td>1709.0</td>\n",
       "      <td>0.1444</td>\n",
       "      <td>0.4245</td>\n",
       "      <td>0.4504</td>\n",
       "      <td>0.2430</td>\n",
       "      <td>0.3613</td>\n",
       "      <td>0.08758</td>\n",
       "      <td>NaN</td>\n",
       "    </tr>\n",
       "    <tr>\n",
       "      <th>3</th>\n",
       "      <td>84348301</td>\n",
       "      <td>M</td>\n",
       "      <td>11.42</td>\n",
       "      <td>20.38</td>\n",
       "      <td>77.58</td>\n",
       "      <td>386.1</td>\n",
       "      <td>0.14250</td>\n",
       "      <td>0.28390</td>\n",
       "      <td>0.2414</td>\n",
       "      <td>0.10520</td>\n",
       "      <td>...</td>\n",
       "      <td>26.50</td>\n",
       "      <td>98.87</td>\n",
       "      <td>567.7</td>\n",
       "      <td>0.2098</td>\n",
       "      <td>0.8663</td>\n",
       "      <td>0.6869</td>\n",
       "      <td>0.2575</td>\n",
       "      <td>0.6638</td>\n",
       "      <td>0.17300</td>\n",
       "      <td>NaN</td>\n",
       "    </tr>\n",
       "    <tr>\n",
       "      <th>4</th>\n",
       "      <td>84358402</td>\n",
       "      <td>M</td>\n",
       "      <td>20.29</td>\n",
       "      <td>14.34</td>\n",
       "      <td>135.10</td>\n",
       "      <td>1297.0</td>\n",
       "      <td>0.10030</td>\n",
       "      <td>0.13280</td>\n",
       "      <td>0.1980</td>\n",
       "      <td>0.10430</td>\n",
       "      <td>...</td>\n",
       "      <td>16.67</td>\n",
       "      <td>152.20</td>\n",
       "      <td>1575.0</td>\n",
       "      <td>0.1374</td>\n",
       "      <td>0.2050</td>\n",
       "      <td>0.4000</td>\n",
       "      <td>0.1625</td>\n",
       "      <td>0.2364</td>\n",
       "      <td>0.07678</td>\n",
       "      <td>NaN</td>\n",
       "    </tr>\n",
       "  </tbody>\n",
       "</table>\n",
       "<p>5 rows × 33 columns</p>\n",
       "</div>"
      ],
      "text/plain": [
       "         id diagnosis  radius_mean  texture_mean  perimeter_mean  area_mean  \\\n",
       "0    842302         M        17.99         10.38          122.80     1001.0   \n",
       "1    842517         M        20.57         17.77          132.90     1326.0   \n",
       "2  84300903         M        19.69         21.25          130.00     1203.0   \n",
       "3  84348301         M        11.42         20.38           77.58      386.1   \n",
       "4  84358402         M        20.29         14.34          135.10     1297.0   \n",
       "\n",
       "   smoothness_mean  compactness_mean  concavity_mean  concave points_mean  \\\n",
       "0          0.11840           0.27760          0.3001              0.14710   \n",
       "1          0.08474           0.07864          0.0869              0.07017   \n",
       "2          0.10960           0.15990          0.1974              0.12790   \n",
       "3          0.14250           0.28390          0.2414              0.10520   \n",
       "4          0.10030           0.13280          0.1980              0.10430   \n",
       "\n",
       "   ...  texture_worst  perimeter_worst  area_worst  smoothness_worst  \\\n",
       "0  ...          17.33           184.60      2019.0            0.1622   \n",
       "1  ...          23.41           158.80      1956.0            0.1238   \n",
       "2  ...          25.53           152.50      1709.0            0.1444   \n",
       "3  ...          26.50            98.87       567.7            0.2098   \n",
       "4  ...          16.67           152.20      1575.0            0.1374   \n",
       "\n",
       "   compactness_worst  concavity_worst  concave points_worst  symmetry_worst  \\\n",
       "0             0.6656           0.7119                0.2654          0.4601   \n",
       "1             0.1866           0.2416                0.1860          0.2750   \n",
       "2             0.4245           0.4504                0.2430          0.3613   \n",
       "3             0.8663           0.6869                0.2575          0.6638   \n",
       "4             0.2050           0.4000                0.1625          0.2364   \n",
       "\n",
       "   fractal_dimension_worst  Unnamed: 32  \n",
       "0                  0.11890          NaN  \n",
       "1                  0.08902          NaN  \n",
       "2                  0.08758          NaN  \n",
       "3                  0.17300          NaN  \n",
       "4                  0.07678          NaN  \n",
       "\n",
       "[5 rows x 33 columns]"
      ]
     },
     "execution_count": 831,
     "metadata": {},
     "output_type": "execute_result"
    }
   ],
   "source": [
    "data.head()"
   ]
  },
  {
   "cell_type": "code",
   "execution_count": 832,
   "metadata": {},
   "outputs": [
    {
     "name": "stdout",
     "output_type": "stream",
     "text": [
      "<class 'pandas.core.frame.DataFrame'>\n",
      "RangeIndex: 569 entries, 0 to 568\n",
      "Data columns (total 33 columns):\n",
      " #   Column                   Non-Null Count  Dtype  \n",
      "---  ------                   --------------  -----  \n",
      " 0   id                       569 non-null    int64  \n",
      " 1   diagnosis                569 non-null    object \n",
      " 2   radius_mean              569 non-null    float64\n",
      " 3   texture_mean             569 non-null    float64\n",
      " 4   perimeter_mean           569 non-null    float64\n",
      " 5   area_mean                569 non-null    float64\n",
      " 6   smoothness_mean          569 non-null    float64\n",
      " 7   compactness_mean         569 non-null    float64\n",
      " 8   concavity_mean           569 non-null    float64\n",
      " 9   concave points_mean      569 non-null    float64\n",
      " 10  symmetry_mean            569 non-null    float64\n",
      " 11  fractal_dimension_mean   569 non-null    float64\n",
      " 12  radius_se                569 non-null    float64\n",
      " 13  texture_se               569 non-null    float64\n",
      " 14  perimeter_se             569 non-null    float64\n",
      " 15  area_se                  569 non-null    float64\n",
      " 16  smoothness_se            569 non-null    float64\n",
      " 17  compactness_se           569 non-null    float64\n",
      " 18  concavity_se             569 non-null    float64\n",
      " 19  concave points_se        569 non-null    float64\n",
      " 20  symmetry_se              569 non-null    float64\n",
      " 21  fractal_dimension_se     569 non-null    float64\n",
      " 22  radius_worst             569 non-null    float64\n",
      " 23  texture_worst            569 non-null    float64\n",
      " 24  perimeter_worst          569 non-null    float64\n",
      " 25  area_worst               569 non-null    float64\n",
      " 26  smoothness_worst         569 non-null    float64\n",
      " 27  compactness_worst        569 non-null    float64\n",
      " 28  concavity_worst          569 non-null    float64\n",
      " 29  concave points_worst     569 non-null    float64\n",
      " 30  symmetry_worst           569 non-null    float64\n",
      " 31  fractal_dimension_worst  569 non-null    float64\n",
      " 32  Unnamed: 32              0 non-null      float64\n",
      "dtypes: float64(31), int64(1), object(1)\n",
      "memory usage: 146.8+ KB\n"
     ]
    }
   ],
   "source": [
    "data.info()"
   ]
  },
  {
   "cell_type": "code",
   "execution_count": 833,
   "metadata": {},
   "outputs": [
    {
     "name": "stdout",
     "output_type": "stream",
     "text": [
      "size : 18777      shape : (569, 33)\n"
     ]
    }
   ],
   "source": [
    "\n",
    "print(f\"size : {data.size}      shape : {data.shape}\")"
   ]
  },
  {
   "cell_type": "code",
   "execution_count": 834,
   "metadata": {},
   "outputs": [
    {
     "data": {
      "text/plain": [
       "id                           0\n",
       "diagnosis                    0\n",
       "radius_mean                  0\n",
       "texture_mean                 0\n",
       "perimeter_mean               0\n",
       "area_mean                    0\n",
       "smoothness_mean              0\n",
       "compactness_mean             0\n",
       "concavity_mean               0\n",
       "concave points_mean          0\n",
       "symmetry_mean                0\n",
       "fractal_dimension_mean       0\n",
       "radius_se                    0\n",
       "texture_se                   0\n",
       "perimeter_se                 0\n",
       "area_se                      0\n",
       "smoothness_se                0\n",
       "compactness_se               0\n",
       "concavity_se                 0\n",
       "concave points_se            0\n",
       "symmetry_se                  0\n",
       "fractal_dimension_se         0\n",
       "radius_worst                 0\n",
       "texture_worst                0\n",
       "perimeter_worst              0\n",
       "area_worst                   0\n",
       "smoothness_worst             0\n",
       "compactness_worst            0\n",
       "concavity_worst              0\n",
       "concave points_worst         0\n",
       "symmetry_worst               0\n",
       "fractal_dimension_worst      0\n",
       "Unnamed: 32                569\n",
       "dtype: int64"
      ]
     },
     "execution_count": 834,
     "metadata": {},
     "output_type": "execute_result"
    }
   ],
   "source": [
    "# vérifier si il y a des informations manquantes\n",
    "data.isna().sum() "
   ]
  },
  {
   "cell_type": "code",
   "execution_count": 835,
   "metadata": {},
   "outputs": [],
   "source": [
    "#la colonne Unnamed est completement vide, nous allons \n",
    "# l'enlever du data set\n",
    "data = data.drop(['id',\"Unnamed: 32\"], axis=1)"
   ]
  },
  {
   "cell_type": "code",
   "execution_count": 836,
   "metadata": {},
   "outputs": [
    {
     "data": {
      "text/html": [
       "<div>\n",
       "<style scoped>\n",
       "    .dataframe tbody tr th:only-of-type {\n",
       "        vertical-align: middle;\n",
       "    }\n",
       "\n",
       "    .dataframe tbody tr th {\n",
       "        vertical-align: top;\n",
       "    }\n",
       "\n",
       "    .dataframe thead th {\n",
       "        text-align: right;\n",
       "    }\n",
       "</style>\n",
       "<table border=\"1\" class=\"dataframe\">\n",
       "  <thead>\n",
       "    <tr style=\"text-align: right;\">\n",
       "      <th></th>\n",
       "      <th>radius_mean</th>\n",
       "      <th>texture_mean</th>\n",
       "      <th>perimeter_mean</th>\n",
       "      <th>area_mean</th>\n",
       "      <th>smoothness_mean</th>\n",
       "      <th>compactness_mean</th>\n",
       "      <th>concavity_mean</th>\n",
       "      <th>concave points_mean</th>\n",
       "      <th>symmetry_mean</th>\n",
       "      <th>fractal_dimension_mean</th>\n",
       "      <th>...</th>\n",
       "      <th>radius_worst</th>\n",
       "      <th>texture_worst</th>\n",
       "      <th>perimeter_worst</th>\n",
       "      <th>area_worst</th>\n",
       "      <th>smoothness_worst</th>\n",
       "      <th>compactness_worst</th>\n",
       "      <th>concavity_worst</th>\n",
       "      <th>concave points_worst</th>\n",
       "      <th>symmetry_worst</th>\n",
       "      <th>fractal_dimension_worst</th>\n",
       "    </tr>\n",
       "  </thead>\n",
       "  <tbody>\n",
       "    <tr>\n",
       "      <th>count</th>\n",
       "      <td>569.000000</td>\n",
       "      <td>569.000000</td>\n",
       "      <td>569.000000</td>\n",
       "      <td>569.000000</td>\n",
       "      <td>569.000000</td>\n",
       "      <td>569.000000</td>\n",
       "      <td>569.000000</td>\n",
       "      <td>569.000000</td>\n",
       "      <td>569.000000</td>\n",
       "      <td>569.000000</td>\n",
       "      <td>...</td>\n",
       "      <td>569.000000</td>\n",
       "      <td>569.000000</td>\n",
       "      <td>569.000000</td>\n",
       "      <td>569.000000</td>\n",
       "      <td>569.000000</td>\n",
       "      <td>569.000000</td>\n",
       "      <td>569.000000</td>\n",
       "      <td>569.000000</td>\n",
       "      <td>569.000000</td>\n",
       "      <td>569.000000</td>\n",
       "    </tr>\n",
       "    <tr>\n",
       "      <th>mean</th>\n",
       "      <td>14.127292</td>\n",
       "      <td>19.289649</td>\n",
       "      <td>91.969033</td>\n",
       "      <td>654.889104</td>\n",
       "      <td>0.096360</td>\n",
       "      <td>0.104341</td>\n",
       "      <td>0.088799</td>\n",
       "      <td>0.048919</td>\n",
       "      <td>0.181162</td>\n",
       "      <td>0.062798</td>\n",
       "      <td>...</td>\n",
       "      <td>16.269190</td>\n",
       "      <td>25.677223</td>\n",
       "      <td>107.261213</td>\n",
       "      <td>880.583128</td>\n",
       "      <td>0.132369</td>\n",
       "      <td>0.254265</td>\n",
       "      <td>0.272188</td>\n",
       "      <td>0.114606</td>\n",
       "      <td>0.290076</td>\n",
       "      <td>0.083946</td>\n",
       "    </tr>\n",
       "    <tr>\n",
       "      <th>std</th>\n",
       "      <td>3.524049</td>\n",
       "      <td>4.301036</td>\n",
       "      <td>24.298981</td>\n",
       "      <td>351.914129</td>\n",
       "      <td>0.014064</td>\n",
       "      <td>0.052813</td>\n",
       "      <td>0.079720</td>\n",
       "      <td>0.038803</td>\n",
       "      <td>0.027414</td>\n",
       "      <td>0.007060</td>\n",
       "      <td>...</td>\n",
       "      <td>4.833242</td>\n",
       "      <td>6.146258</td>\n",
       "      <td>33.602542</td>\n",
       "      <td>569.356993</td>\n",
       "      <td>0.022832</td>\n",
       "      <td>0.157336</td>\n",
       "      <td>0.208624</td>\n",
       "      <td>0.065732</td>\n",
       "      <td>0.061867</td>\n",
       "      <td>0.018061</td>\n",
       "    </tr>\n",
       "    <tr>\n",
       "      <th>min</th>\n",
       "      <td>6.981000</td>\n",
       "      <td>9.710000</td>\n",
       "      <td>43.790000</td>\n",
       "      <td>143.500000</td>\n",
       "      <td>0.052630</td>\n",
       "      <td>0.019380</td>\n",
       "      <td>0.000000</td>\n",
       "      <td>0.000000</td>\n",
       "      <td>0.106000</td>\n",
       "      <td>0.049960</td>\n",
       "      <td>...</td>\n",
       "      <td>7.930000</td>\n",
       "      <td>12.020000</td>\n",
       "      <td>50.410000</td>\n",
       "      <td>185.200000</td>\n",
       "      <td>0.071170</td>\n",
       "      <td>0.027290</td>\n",
       "      <td>0.000000</td>\n",
       "      <td>0.000000</td>\n",
       "      <td>0.156500</td>\n",
       "      <td>0.055040</td>\n",
       "    </tr>\n",
       "    <tr>\n",
       "      <th>25%</th>\n",
       "      <td>11.700000</td>\n",
       "      <td>16.170000</td>\n",
       "      <td>75.170000</td>\n",
       "      <td>420.300000</td>\n",
       "      <td>0.086370</td>\n",
       "      <td>0.064920</td>\n",
       "      <td>0.029560</td>\n",
       "      <td>0.020310</td>\n",
       "      <td>0.161900</td>\n",
       "      <td>0.057700</td>\n",
       "      <td>...</td>\n",
       "      <td>13.010000</td>\n",
       "      <td>21.080000</td>\n",
       "      <td>84.110000</td>\n",
       "      <td>515.300000</td>\n",
       "      <td>0.116600</td>\n",
       "      <td>0.147200</td>\n",
       "      <td>0.114500</td>\n",
       "      <td>0.064930</td>\n",
       "      <td>0.250400</td>\n",
       "      <td>0.071460</td>\n",
       "    </tr>\n",
       "    <tr>\n",
       "      <th>50%</th>\n",
       "      <td>13.370000</td>\n",
       "      <td>18.840000</td>\n",
       "      <td>86.240000</td>\n",
       "      <td>551.100000</td>\n",
       "      <td>0.095870</td>\n",
       "      <td>0.092630</td>\n",
       "      <td>0.061540</td>\n",
       "      <td>0.033500</td>\n",
       "      <td>0.179200</td>\n",
       "      <td>0.061540</td>\n",
       "      <td>...</td>\n",
       "      <td>14.970000</td>\n",
       "      <td>25.410000</td>\n",
       "      <td>97.660000</td>\n",
       "      <td>686.500000</td>\n",
       "      <td>0.131300</td>\n",
       "      <td>0.211900</td>\n",
       "      <td>0.226700</td>\n",
       "      <td>0.099930</td>\n",
       "      <td>0.282200</td>\n",
       "      <td>0.080040</td>\n",
       "    </tr>\n",
       "    <tr>\n",
       "      <th>75%</th>\n",
       "      <td>15.780000</td>\n",
       "      <td>21.800000</td>\n",
       "      <td>104.100000</td>\n",
       "      <td>782.700000</td>\n",
       "      <td>0.105300</td>\n",
       "      <td>0.130400</td>\n",
       "      <td>0.130700</td>\n",
       "      <td>0.074000</td>\n",
       "      <td>0.195700</td>\n",
       "      <td>0.066120</td>\n",
       "      <td>...</td>\n",
       "      <td>18.790000</td>\n",
       "      <td>29.720000</td>\n",
       "      <td>125.400000</td>\n",
       "      <td>1084.000000</td>\n",
       "      <td>0.146000</td>\n",
       "      <td>0.339100</td>\n",
       "      <td>0.382900</td>\n",
       "      <td>0.161400</td>\n",
       "      <td>0.317900</td>\n",
       "      <td>0.092080</td>\n",
       "    </tr>\n",
       "    <tr>\n",
       "      <th>max</th>\n",
       "      <td>28.110000</td>\n",
       "      <td>39.280000</td>\n",
       "      <td>188.500000</td>\n",
       "      <td>2501.000000</td>\n",
       "      <td>0.163400</td>\n",
       "      <td>0.345400</td>\n",
       "      <td>0.426800</td>\n",
       "      <td>0.201200</td>\n",
       "      <td>0.304000</td>\n",
       "      <td>0.097440</td>\n",
       "      <td>...</td>\n",
       "      <td>36.040000</td>\n",
       "      <td>49.540000</td>\n",
       "      <td>251.200000</td>\n",
       "      <td>4254.000000</td>\n",
       "      <td>0.222600</td>\n",
       "      <td>1.058000</td>\n",
       "      <td>1.252000</td>\n",
       "      <td>0.291000</td>\n",
       "      <td>0.663800</td>\n",
       "      <td>0.207500</td>\n",
       "    </tr>\n",
       "  </tbody>\n",
       "</table>\n",
       "<p>8 rows × 30 columns</p>\n",
       "</div>"
      ],
      "text/plain": [
       "       radius_mean  texture_mean  perimeter_mean    area_mean  \\\n",
       "count   569.000000    569.000000      569.000000   569.000000   \n",
       "mean     14.127292     19.289649       91.969033   654.889104   \n",
       "std       3.524049      4.301036       24.298981   351.914129   \n",
       "min       6.981000      9.710000       43.790000   143.500000   \n",
       "25%      11.700000     16.170000       75.170000   420.300000   \n",
       "50%      13.370000     18.840000       86.240000   551.100000   \n",
       "75%      15.780000     21.800000      104.100000   782.700000   \n",
       "max      28.110000     39.280000      188.500000  2501.000000   \n",
       "\n",
       "       smoothness_mean  compactness_mean  concavity_mean  concave points_mean  \\\n",
       "count       569.000000        569.000000      569.000000           569.000000   \n",
       "mean          0.096360          0.104341        0.088799             0.048919   \n",
       "std           0.014064          0.052813        0.079720             0.038803   \n",
       "min           0.052630          0.019380        0.000000             0.000000   \n",
       "25%           0.086370          0.064920        0.029560             0.020310   \n",
       "50%           0.095870          0.092630        0.061540             0.033500   \n",
       "75%           0.105300          0.130400        0.130700             0.074000   \n",
       "max           0.163400          0.345400        0.426800             0.201200   \n",
       "\n",
       "       symmetry_mean  fractal_dimension_mean  ...  radius_worst  \\\n",
       "count     569.000000              569.000000  ...    569.000000   \n",
       "mean        0.181162                0.062798  ...     16.269190   \n",
       "std         0.027414                0.007060  ...      4.833242   \n",
       "min         0.106000                0.049960  ...      7.930000   \n",
       "25%         0.161900                0.057700  ...     13.010000   \n",
       "50%         0.179200                0.061540  ...     14.970000   \n",
       "75%         0.195700                0.066120  ...     18.790000   \n",
       "max         0.304000                0.097440  ...     36.040000   \n",
       "\n",
       "       texture_worst  perimeter_worst   area_worst  smoothness_worst  \\\n",
       "count     569.000000       569.000000   569.000000        569.000000   \n",
       "mean       25.677223       107.261213   880.583128          0.132369   \n",
       "std         6.146258        33.602542   569.356993          0.022832   \n",
       "min        12.020000        50.410000   185.200000          0.071170   \n",
       "25%        21.080000        84.110000   515.300000          0.116600   \n",
       "50%        25.410000        97.660000   686.500000          0.131300   \n",
       "75%        29.720000       125.400000  1084.000000          0.146000   \n",
       "max        49.540000       251.200000  4254.000000          0.222600   \n",
       "\n",
       "       compactness_worst  concavity_worst  concave points_worst  \\\n",
       "count         569.000000       569.000000            569.000000   \n",
       "mean            0.254265         0.272188              0.114606   \n",
       "std             0.157336         0.208624              0.065732   \n",
       "min             0.027290         0.000000              0.000000   \n",
       "25%             0.147200         0.114500              0.064930   \n",
       "50%             0.211900         0.226700              0.099930   \n",
       "75%             0.339100         0.382900              0.161400   \n",
       "max             1.058000         1.252000              0.291000   \n",
       "\n",
       "       symmetry_worst  fractal_dimension_worst  \n",
       "count      569.000000               569.000000  \n",
       "mean         0.290076                 0.083946  \n",
       "std          0.061867                 0.018061  \n",
       "min          0.156500                 0.055040  \n",
       "25%          0.250400                 0.071460  \n",
       "50%          0.282200                 0.080040  \n",
       "75%          0.317900                 0.092080  \n",
       "max          0.663800                 0.207500  \n",
       "\n",
       "[8 rows x 30 columns]"
      ]
     },
     "execution_count": 836,
     "metadata": {},
     "output_type": "execute_result"
    }
   ],
   "source": [
    "data.describe()\n",
    "# les statiques rapides de base, les données ne sont pas sur la même échelle, \n",
    "#une standadisation s'impose par la suite"
   ]
  },
  {
   "cell_type": "code",
   "execution_count": 837,
   "metadata": {},
   "outputs": [
    {
     "data": {
      "text/plain": [
       "(569, 31)"
      ]
     },
     "execution_count": 837,
     "metadata": {},
     "output_type": "execute_result"
    }
   ],
   "source": [
    "data.shape"
   ]
  },
  {
   "cell_type": "code",
   "execution_count": 838,
   "metadata": {},
   "outputs": [
    {
     "name": "stdout",
     "output_type": "stream",
     "text": [
      "Encodage de M et B par  [1 0]\n"
     ]
    }
   ],
   "source": [
    "data['diagnosis']= data['diagnosis'].astype('category').cat.codes\n",
    "print(\"Encodage de M et B par \", data['diagnosis'].unique())"
   ]
  },
  {
   "cell_type": "code",
   "execution_count": 839,
   "metadata": {},
   "outputs": [
    {
     "data": {
      "text/plain": [
       "(569,)"
      ]
     },
     "execution_count": 839,
     "metadata": {},
     "output_type": "execute_result"
    }
   ],
   "source": [
    "# définition des labels 'y' et X les features\n",
    "y = data['diagnosis'].astype('category').cat.codes \n",
    "\n",
    "X = data.drop([\"diagnosis\"], axis=1)\n",
    "\n",
    "#Y = Y.reshape(Y.shape[0],1)\n",
    "y.shape"
   ]
  },
  {
   "cell_type": "code",
   "execution_count": 840,
   "metadata": {},
   "outputs": [],
   "source": [
    "import numpy as np\n",
    "#y=np.array(y)\n",
    "#y = y.reshape(y.shape[0],1)"
   ]
  },
  {
   "cell_type": "code",
   "execution_count": 841,
   "metadata": {},
   "outputs": [],
   "source": [
    "#y.shape"
   ]
  },
  {
   "cell_type": "markdown",
   "metadata": {},
   "source": [
    "### Visualiser les données et Déclarer le vecteur de caractéristiques et la variable cible"
   ]
  },
  {
   "cell_type": "markdown",
   "metadata": {},
   "source": [
    "La variable cible ou target est: y = \"diagostics\".\n",
    "le vecteur des caratéristiques ou les features : X sont le reste des varaibles.\n",
    "Pour la visualisation des données, nous commençons par visualiser les variables qui possède une forte corrélation avec la target. Ce qui révèle la distinction de deux catégories bien distinctes.\n",
    "Par contre quand la corrélation est faible, les données restent compactes \n"
   ]
  },
  {
   "cell_type": "code",
   "execution_count": 842,
   "metadata": {},
   "outputs": [
    {
     "data": {
      "text/plain": [
       "<seaborn.axisgrid.FacetGrid at 0x7f5ace861090>"
      ]
     },
     "execution_count": 842,
     "metadata": {},
     "output_type": "execute_result"
    },
    {
     "data": {
      "image/png": "[encoded data removed]",
      "text/plain": [
       "<Figure size 360x360 with 1 Axes>"
      ]
     },
     "metadata": {
      "needs_background": "light"
     },
     "output_type": "display_data"
    }
   ],
   "source": [
    "sns.displot(data=data, x= \"perimeter_worst\" , y=\"diagnosis\", kind=\"kde\")\n"
   ]
  },
  {
   "cell_type": "code",
   "execution_count": 843,
   "metadata": {},
   "outputs": [
    {
     "data": {
      "text/plain": [
       "<seaborn.axisgrid.FacetGrid at 0x7f5ace83abd0>"
      ]
     },
     "execution_count": 843,
     "metadata": {},
     "output_type": "execute_result"
    },
    {
     "data": {
      "image/png": "[encoded data removed]",
      "text/plain": [
       "<Figure size 360x360 with 1 Axes>"
      ]
     },
     "metadata": {
      "needs_background": "light"
     },
     "output_type": "display_data"
    }
   ],
   "source": [
    "sns.displot( data =  data, x= \"concave points_mean\", y=\"diagnosis\", kind=\"kde\")\n",
    " "
   ]
  },
  {
   "cell_type": "code",
   "execution_count": 844,
   "metadata": {},
   "outputs": [
    {
     "data": {
      "text/plain": [
       "<matplotlib.collections.PathCollection at 0x7f5ace716650>"
      ]
     },
     "execution_count": 844,
     "metadata": {},
     "output_type": "execute_result"
    },
    {
     "data": {
      "image/png": "[encoded data removed]",
      "text/plain": [
       "<Figure size 432x288 with 1 Axes>"
      ]
     },
     "metadata": {
      "needs_background": "light"
     },
     "output_type": "display_data"
    }
   ],
   "source": [
    "plt.scatter(data.perimeter_worst,data.area_worst, c=data.diagnosis)"
   ]
  },
  {
   "cell_type": "code",
   "execution_count": 845,
   "metadata": {},
   "outputs": [
    {
     "data": {
      "text/plain": [
       "<matplotlib.collections.PathCollection at 0x7f5ace6c4fd0>"
      ]
     },
     "execution_count": 845,
     "metadata": {},
     "output_type": "execute_result"
    },
    {
     "data": {
      "image/png": "[encoded data removed]",
      "text/plain": [
       "<Figure size 432x288 with 1 Axes>"
      ]
     },
     "metadata": {
      "needs_background": "light"
     },
     "output_type": "display_data"
    }
   ],
   "source": [
    "plt.scatter(data = data, x =\"perimeter_worst\",y = \"concave points_mean\", c=data.diagnosis) "
   ]
  },
  {
   "cell_type": "code",
   "execution_count": 846,
   "metadata": {},
   "outputs": [
    {
     "data": {
      "text/plain": [
       "<matplotlib.collections.PathCollection at 0x7f5ace6ff090>"
      ]
     },
     "execution_count": 846,
     "metadata": {},
     "output_type": "execute_result"
    },
    {
     "data": {
      "image/png": "[encoded data removed]",
      "text/plain": [
       "<Figure size 432x288 with 1 Axes>"
      ]
     },
     "metadata": {
      "needs_background": "light"
     },
     "output_type": "display_data"
    }
   ],
   "source": [
    "# visualiser 2 variables qui possèdent une trés faible correlation \n",
    "# avec le digostics\n",
    "plt.scatter(data = data, x =\"smoothness_se\",y = \"fractal_dimension_se\", c=data.diagnosis) "
   ]
  },
  {
   "cell_type": "code",
   "execution_count": 847,
   "metadata": {},
   "outputs": [],
   "source": [
    "\n",
    "\n",
    "#  Réduction de dimension à 2 dimensions utilisation de la PCA seule\n",
    "from sklearn.decomposition import PCA\n",
    "pca_model = PCA(n_components=2)\n",
    "data_reduit = pca_model.fit_transform(X)\n",
    "\n"
   ]
  },
  {
   "cell_type": "code",
   "execution_count": 848,
   "metadata": {
    "scrolled": true
   },
   "outputs": [
    {
     "data": {
      "text/plain": [
       "<matplotlib.collections.PathCollection at 0x7f5ace5e5090>"
      ]
     },
     "execution_count": 848,
     "metadata": {},
     "output_type": "execute_result"
    },
    {
     "data": {
      "image/png": "[encoded data removed]",
      "text/plain": [
       "<Figure size 432x288 with 1 Axes>"
      ]
     },
     "metadata": {
      "needs_background": "light"
     },
     "output_type": "display_data"
    }
   ],
   "source": [
    "#  Réduction de dimension à 2 dimensions utilisation de la PCA seule\n",
    "# pour visualiser nos données ds un  espace de 2 dimension\n",
    "\n",
    "#pca_model = PCA(n_components=2)\n",
    "#data_reduit = pca_model.fit_transform(X)\n",
    "\n",
    "plt.scatter(data_reduit[:,0],data_reduit[:,1], c=y)"
   ]
  },
  {
   "cell_type": "code",
   "execution_count": 849,
   "metadata": {},
   "outputs": [
    {
     "data": {
      "text/plain": [
       "([<matplotlib.patches.Wedge at 0x7f5ace50c6d0>,\n",
       "  <matplotlib.patches.Wedge at 0x7f5ace50ccd0>],\n",
       " [Text(0.428654794805217, 1.013042480299073, 'Maligne'),\n",
       "  Text(-0.4286548896530974, -1.01304244016551, 'Bénigne')])"
      ]
     },
     "execution_count": 849,
     "metadata": {},
     "output_type": "execute_result"
    },
    {
     "data": {
      "image/png": "[encoded data removed]",
      "text/plain": [
       "<Figure size 432x288 with 1 Axes>"
      ]
     },
     "metadata": {},
     "output_type": "display_data"
    }
   ],
   "source": [
    "m= y[y== 1].size\n",
    "b= y[y== 0].size\n",
    " \n",
    "plt.pie([m, b], labels= [\"Maligne\",\"Bénigne\"])"
   ]
  },
  {
   "cell_type": "code",
   "execution_count": 850,
   "metadata": {},
   "outputs": [
    {
     "data": {
      "text/plain": [
       "<AxesSubplot:>"
      ]
     },
     "execution_count": 850,
     "metadata": {},
     "output_type": "execute_result"
    },
    {
     "data": {
      "image/png": "[encoded data removed]",
      "text/plain": [
       "<Figure size 432x288 with 1 Axes>"
      ]
     },
     "metadata": {
      "needs_background": "light"
     },
     "output_type": "display_data"
    }
   ],
   "source": [
    "y.value_counts().plot.bar()"
   ]
  },
  {
   "cell_type": "code",
   "execution_count": 851,
   "metadata": {
    "scrolled": true
   },
   "outputs": [
    {
     "data": {
      "text/html": [
       "<style  type=\"text/css\" >\n",
       "#T_1873d7cc_599d_11eb_afb3_cba9d8b76a84row0_col0,#T_1873d7cc_599d_11eb_afb3_cba9d8b76a84row1_col1,#T_1873d7cc_599d_11eb_afb3_cba9d8b76a84row1_col3,#T_1873d7cc_599d_11eb_afb3_cba9d8b76a84row1_col4,#T_1873d7cc_599d_11eb_afb3_cba9d8b76a84row2_col2,#T_1873d7cc_599d_11eb_afb3_cba9d8b76a84row3_col1,#T_1873d7cc_599d_11eb_afb3_cba9d8b76a84row3_col3,#T_1873d7cc_599d_11eb_afb3_cba9d8b76a84row3_col4,#T_1873d7cc_599d_11eb_afb3_cba9d8b76a84row4_col1,#T_1873d7cc_599d_11eb_afb3_cba9d8b76a84row4_col3,#T_1873d7cc_599d_11eb_afb3_cba9d8b76a84row4_col4,#T_1873d7cc_599d_11eb_afb3_cba9d8b76a84row5_col5,#T_1873d7cc_599d_11eb_afb3_cba9d8b76a84row6_col6,#T_1873d7cc_599d_11eb_afb3_cba9d8b76a84row7_col7,#T_1873d7cc_599d_11eb_afb3_cba9d8b76a84row8_col8,#T_1873d7cc_599d_11eb_afb3_cba9d8b76a84row9_col9,#T_1873d7cc_599d_11eb_afb3_cba9d8b76a84row10_col10,#T_1873d7cc_599d_11eb_afb3_cba9d8b76a84row11_col11,#T_1873d7cc_599d_11eb_afb3_cba9d8b76a84row12_col12,#T_1873d7cc_599d_11eb_afb3_cba9d8b76a84row13_col13,#T_1873d7cc_599d_11eb_afb3_cba9d8b76a84row14_col14,#T_1873d7cc_599d_11eb_afb3_cba9d8b76a84row15_col15,#T_1873d7cc_599d_11eb_afb3_cba9d8b76a84row16_col16,#T_1873d7cc_599d_11eb_afb3_cba9d8b76a84row17_col17,#T_1873d7cc_599d_11eb_afb3_cba9d8b76a84row18_col18,#T_1873d7cc_599d_11eb_afb3_cba9d8b76a84row19_col19,#T_1873d7cc_599d_11eb_afb3_cba9d8b76a84row20_col20,#T_1873d7cc_599d_11eb_afb3_cba9d8b76a84row21_col21,#T_1873d7cc_599d_11eb_afb3_cba9d8b76a84row21_col24,#T_1873d7cc_599d_11eb_afb3_cba9d8b76a84row22_col22,#T_1873d7cc_599d_11eb_afb3_cba9d8b76a84row23_col23,#T_1873d7cc_599d_11eb_afb3_cba9d8b76a84row24_col21,#T_1873d7cc_599d_11eb_afb3_cba9d8b76a84row24_col24,#T_1873d7cc_599d_11eb_afb3_cba9d8b76a84row25_col25,#T_1873d7cc_599d_11eb_afb3_cba9d8b76a84row26_col26,#T_1873d7cc_599d_11eb_afb3_cba9d8b76a84row27_col27,#T_1873d7cc_599d_11eb_afb3_cba9d8b76a84row28_col28,#T_1873d7cc_599d_11eb_afb3_cba9d8b76a84row29_col29,#T_1873d7cc_599d_11eb_afb3_cba9d8b76a84row30_col30{\n",
       "            background-color:  #b40426;\n",
       "            color:  #f1f1f1;\n",
       "        }#T_1873d7cc_599d_11eb_afb3_cba9d8b76a84row0_col1,#T_1873d7cc_599d_11eb_afb3_cba9d8b76a84row0_col4,#T_1873d7cc_599d_11eb_afb3_cba9d8b76a84row5_col25,#T_1873d7cc_599d_11eb_afb3_cba9d8b76a84row24_col28{\n",
       "            background-color:  #ed8366;\n",
       "            color:  #000000;\n",
       "        }#T_1873d7cc_599d_11eb_afb3_cba9d8b76a84row0_col2,#T_1873d7cc_599d_11eb_afb3_cba9d8b76a84row5_col27,#T_1873d7cc_599d_11eb_afb3_cba9d8b76a84row20_col27{\n",
       "            background-color:  #dadce0;\n",
       "            color:  #000000;\n",
       "        }#T_1873d7cc_599d_11eb_afb3_cba9d8b76a84row0_col3,#T_1873d7cc_599d_11eb_afb3_cba9d8b76a84row14_col1,#T_1873d7cc_599d_11eb_afb3_cba9d8b76a84row14_col3,#T_1873d7cc_599d_11eb_afb3_cba9d8b76a84row16_col26,#T_1873d7cc_599d_11eb_afb3_cba9d8b76a84row21_col0,#T_1873d7cc_599d_11eb_afb3_cba9d8b76a84row21_col28,#T_1873d7cc_599d_11eb_afb3_cba9d8b76a84row24_col0{\n",
       "            background-color:  #ec8165;\n",
       "            color:  #000000;\n",
       "        }#T_1873d7cc_599d_11eb_afb3_cba9d8b76a84row0_col5,#T_1873d7cc_599d_11eb_afb3_cba9d8b76a84row3_col18,#T_1873d7cc_599d_11eb_afb3_cba9d8b76a84row10_col9,#T_1873d7cc_599d_11eb_afb3_cba9d8b76a84row11_col20,#T_1873d7cc_599d_11eb_afb3_cba9d8b76a84row18_col12,#T_1873d7cc_599d_11eb_afb3_cba9d8b76a84row23_col29,#T_1873d7cc_599d_11eb_afb3_cba9d8b76a84row25_col3,#T_1873d7cc_599d_11eb_afb3_cba9d8b76a84row28_col2{\n",
       "            background-color:  #b2ccfb;\n",
       "            color:  #000000;\n",
       "        }#T_1873d7cc_599d_11eb_afb3_cba9d8b76a84row0_col6,#T_1873d7cc_599d_11eb_afb3_cba9d8b76a84row6_col14,#T_1873d7cc_599d_11eb_afb3_cba9d8b76a84row24_col26{\n",
       "            background-color:  #f0cdbb;\n",
       "            color:  #000000;\n",
       "        }#T_1873d7cc_599d_11eb_afb3_cba9d8b76a84row0_col7,#T_1873d7cc_599d_11eb_afb3_cba9d8b76a84row16_col18,#T_1873d7cc_599d_11eb_afb3_cba9d8b76a84row18_col28{\n",
       "            background-color:  #f6a283;\n",
       "            color:  #000000;\n",
       "        }#T_1873d7cc_599d_11eb_afb3_cba9d8b76a84row0_col8,#T_1873d7cc_599d_11eb_afb3_cba9d8b76a84row16_col20,#T_1873d7cc_599d_11eb_afb3_cba9d8b76a84row30_col26{\n",
       "            background-color:  #f08b6e;\n",
       "            color:  #000000;\n",
       "        }#T_1873d7cc_599d_11eb_afb3_cba9d8b76a84row0_col9,#T_1873d7cc_599d_11eb_afb3_cba9d8b76a84row22_col25{\n",
       "            background-color:  #8caffe;\n",
       "            color:  #000000;\n",
       "        }#T_1873d7cc_599d_11eb_afb3_cba9d8b76a84row0_col10,#T_1873d7cc_599d_11eb_afb3_cba9d8b76a84row10_col28,#T_1873d7cc_599d_11eb_afb3_cba9d8b76a84row14_col29,#T_1873d7cc_599d_11eb_afb3_cba9d8b76a84row15_col18,#T_1873d7cc_599d_11eb_afb3_cba9d8b76a84row24_col25,#T_1873d7cc_599d_11eb_afb3_cba9d8b76a84row29_col14{\n",
       "            background-color:  #8badfd;\n",
       "            color:  #000000;\n",
       "        }#T_1873d7cc_599d_11eb_afb3_cba9d8b76a84row0_col11,#T_1873d7cc_599d_11eb_afb3_cba9d8b76a84row18_col20{\n",
       "            background-color:  #f3c7b1;\n",
       "            color:  #000000;\n",
       "        }#T_1873d7cc_599d_11eb_afb3_cba9d8b76a84row0_col12,#T_1873d7cc_599d_11eb_afb3_cba9d8b76a84row12_col18,#T_1873d7cc_599d_11eb_afb3_cba9d8b76a84row26_col19,#T_1873d7cc_599d_11eb_afb3_cba9d8b76a84row29_col11{\n",
       "            background-color:  #688aef;\n",
       "            color:  #000000;\n",
       "        }#T_1873d7cc_599d_11eb_afb3_cba9d8b76a84row0_col13{\n",
       "            background-color:  #f2c9b4;\n",
       "            color:  #000000;\n",
       "        }#T_1873d7cc_599d_11eb_afb3_cba9d8b76a84row0_col14{\n",
       "            background-color:  #f59c7d;\n",
       "            color:  #000000;\n",
       "        }#T_1873d7cc_599d_11eb_afb3_cba9d8b76a84row0_col15,#T_1873d7cc_599d_11eb_afb3_cba9d8b76a84row5_col12,#T_1873d7cc_599d_11eb_afb3_cba9d8b76a84row26_col15{\n",
       "            background-color:  #7ea1fa;\n",
       "            color:  #000000;\n",
       "        }#T_1873d7cc_599d_11eb_afb3_cba9d8b76a84row0_col16,#T_1873d7cc_599d_11eb_afb3_cba9d8b76a84row1_col17,#T_1873d7cc_599d_11eb_afb3_cba9d8b76a84row2_col19,#T_1873d7cc_599d_11eb_afb3_cba9d8b76a84row22_col6,#T_1873d7cc_599d_11eb_afb3_cba9d8b76a84row23_col30{\n",
       "            background-color:  #81a4fb;\n",
       "            color:  #000000;\n",
       "        }#T_1873d7cc_599d_11eb_afb3_cba9d8b76a84row0_col17,#T_1873d7cc_599d_11eb_afb3_cba9d8b76a84row8_col2,#T_1873d7cc_599d_11eb_afb3_cba9d8b76a84row16_col29,#T_1873d7cc_599d_11eb_afb3_cba9d8b76a84row20_col11,#T_1873d7cc_599d_11eb_afb3_cba9d8b76a84row30_col15{\n",
       "            background-color:  #aec9fc;\n",
       "            color:  #000000;\n",
       "        }#T_1873d7cc_599d_11eb_afb3_cba9d8b76a84row0_col18,#T_1873d7cc_599d_11eb_afb3_cba9d8b76a84row20_col28,#T_1873d7cc_599d_11eb_afb3_cba9d8b76a84row23_col2{\n",
       "            background-color:  #c4d5f3;\n",
       "            color:  #000000;\n",
       "        }#T_1873d7cc_599d_11eb_afb3_cba9d8b76a84row0_col19,#T_1873d7cc_599d_11eb_afb3_cba9d8b76a84row2_col25,#T_1873d7cc_599d_11eb_afb3_cba9d8b76a84row8_col12,#T_1873d7cc_599d_11eb_afb3_cba9d8b76a84row25_col16,#T_1873d7cc_599d_11eb_afb3_cba9d8b76a84row30_col13{\n",
       "            background-color:  #6687ed;\n",
       "            color:  #000000;\n",
       "        }#T_1873d7cc_599d_11eb_afb3_cba9d8b76a84row0_col20,#T_1873d7cc_599d_11eb_afb3_cba9d8b76a84row2_col29,#T_1873d7cc_599d_11eb_afb3_cba9d8b76a84row4_col17{\n",
       "            background-color:  #80a3fa;\n",
       "            color:  #000000;\n",
       "        }#T_1873d7cc_599d_11eb_afb3_cba9d8b76a84row0_col21,#T_1873d7cc_599d_11eb_afb3_cba9d8b76a84row0_col24,#T_1873d7cc_599d_11eb_afb3_cba9d8b76a84row8_col3,#T_1873d7cc_599d_11eb_afb3_cba9d8b76a84row8_col21,#T_1873d7cc_599d_11eb_afb3_cba9d8b76a84row23_col28{\n",
       "            background-color:  #e67259;\n",
       "            color:  #000000;\n",
       "        }#T_1873d7cc_599d_11eb_afb3_cba9d8b76a84row0_col22,#T_1873d7cc_599d_11eb_afb3_cba9d8b76a84row5_col26,#T_1873d7cc_599d_11eb_afb3_cba9d8b76a84row14_col18,#T_1873d7cc_599d_11eb_afb3_cba9d8b76a84row22_col21,#T_1873d7cc_599d_11eb_afb3_cba9d8b76a84row22_col23,#T_1873d7cc_599d_11eb_afb3_cba9d8b76a84row22_col24,#T_1873d7cc_599d_11eb_afb3_cba9d8b76a84row25_col15,#T_1873d7cc_599d_11eb_afb3_cba9d8b76a84row29_col28{\n",
       "            background-color:  #e3d9d3;\n",
       "            color:  #000000;\n",
       "        }#T_1873d7cc_599d_11eb_afb3_cba9d8b76a84row0_col23,#T_1873d7cc_599d_11eb_afb3_cba9d8b76a84row6_col28,#T_1873d7cc_599d_11eb_afb3_cba9d8b76a84row8_col27,#T_1873d7cc_599d_11eb_afb3_cba9d8b76a84row26_col7{\n",
       "            background-color:  #e46e56;\n",
       "            color:  #000000;\n",
       "        }#T_1873d7cc_599d_11eb_afb3_cba9d8b76a84row0_col25,#T_1873d7cc_599d_11eb_afb3_cba9d8b76a84row8_col30,#T_1873d7cc_599d_11eb_afb3_cba9d8b76a84row9_col25,#T_1873d7cc_599d_11eb_afb3_cba9d8b76a84row29_col0{\n",
       "            background-color:  #cedaeb;\n",
       "            color:  #000000;\n",
       "        }#T_1873d7cc_599d_11eb_afb3_cba9d8b76a84row0_col26,#T_1873d7cc_599d_11eb_afb3_cba9d8b76a84row1_col7,#T_1873d7cc_599d_11eb_afb3_cba9d8b76a84row1_col27,#T_1873d7cc_599d_11eb_afb3_cba9d8b76a84row13_col7,#T_1873d7cc_599d_11eb_afb3_cba9d8b76a84row16_col28,#T_1873d7cc_599d_11eb_afb3_cba9d8b76a84row26_col0,#T_1873d7cc_599d_11eb_afb3_cba9d8b76a84row27_col30{\n",
       "            background-color:  #f5c0a7;\n",
       "            color:  #000000;\n",
       "        }#T_1873d7cc_599d_11eb_afb3_cba9d8b76a84row0_col27,#T_1873d7cc_599d_11eb_afb3_cba9d8b76a84row7_col1,#T_1873d7cc_599d_11eb_afb3_cba9d8b76a84row7_col4,#T_1873d7cc_599d_11eb_afb3_cba9d8b76a84row14_col8,#T_1873d7cc_599d_11eb_afb3_cba9d8b76a84row27_col24{\n",
       "            background-color:  #f59f80;\n",
       "            color:  #000000;\n",
       "        }#T_1873d7cc_599d_11eb_afb3_cba9d8b76a84row0_col28,#T_1873d7cc_599d_11eb_afb3_cba9d8b76a84row14_col4,#T_1873d7cc_599d_11eb_afb3_cba9d8b76a84row16_col6{\n",
       "            background-color:  #ec7f63;\n",
       "            color:  #000000;\n",
       "        }#T_1873d7cc_599d_11eb_afb3_cba9d8b76a84row0_col29,#T_1873d7cc_599d_11eb_afb3_cba9d8b76a84row4_col6,#T_1873d7cc_599d_11eb_afb3_cba9d8b76a84row14_col26,#T_1873d7cc_599d_11eb_afb3_cba9d8b76a84row16_col15{\n",
       "            background-color:  #d3dbe7;\n",
       "            color:  #000000;\n",
       "        }#T_1873d7cc_599d_11eb_afb3_cba9d8b76a84row0_col30,#T_1873d7cc_599d_11eb_afb3_cba9d8b76a84row6_col15,#T_1873d7cc_599d_11eb_afb3_cba9d8b76a84row10_col16,#T_1873d7cc_599d_11eb_afb3_cba9d8b76a84row20_col25{\n",
       "            background-color:  #adc9fd;\n",
       "            color:  #000000;\n",
       "        }#T_1873d7cc_599d_11eb_afb3_cba9d8b76a84row1_col0,#T_1873d7cc_599d_11eb_afb3_cba9d8b76a84row4_col0,#T_1873d7cc_599d_11eb_afb3_cba9d8b76a84row4_col28,#T_1873d7cc_599d_11eb_afb3_cba9d8b76a84row7_col0,#T_1873d7cc_599d_11eb_afb3_cba9d8b76a84row7_col3,#T_1873d7cc_599d_11eb_afb3_cba9d8b76a84row7_col24,#T_1873d7cc_599d_11eb_afb3_cba9d8b76a84row8_col14,#T_1873d7cc_599d_11eb_afb3_cba9d8b76a84row16_col7{\n",
       "            background-color:  #f39778;\n",
       "            color:  #000000;\n",
       "        }#T_1873d7cc_599d_11eb_afb3_cba9d8b76a84row1_col2,#T_1873d7cc_599d_11eb_afb3_cba9d8b76a84row5_col3,#T_1873d7cc_599d_11eb_afb3_cba9d8b76a84row7_col9,#T_1873d7cc_599d_11eb_afb3_cba9d8b76a84row16_col5,#T_1873d7cc_599d_11eb_afb3_cba9d8b76a84row27_col2,#T_1873d7cc_599d_11eb_afb3_cba9d8b76a84row29_col5{\n",
       "            background-color:  #b9d0f9;\n",
       "            color:  #000000;\n",
       "        }#T_1873d7cc_599d_11eb_afb3_cba9d8b76a84row1_col5,#T_1873d7cc_599d_11eb_afb3_cba9d8b76a84row12_col23,#T_1873d7cc_599d_11eb_afb3_cba9d8b76a84row22_col19{\n",
       "            background-color:  #6282ea;\n",
       "            color:  #000000;\n",
       "        }#T_1873d7cc_599d_11eb_afb3_cba9d8b76a84row1_col6,#T_1873d7cc_599d_11eb_afb3_cba9d8b76a84row9_col28{\n",
       "            background-color:  #d5dbe5;\n",
       "            color:  #000000;\n",
       "        }#T_1873d7cc_599d_11eb_afb3_cba9d8b76a84row1_col8,#T_1873d7cc_599d_11eb_afb3_cba9d8b76a84row1_col14,#T_1873d7cc_599d_11eb_afb3_cba9d8b76a84row4_col14,#T_1873d7cc_599d_11eb_afb3_cba9d8b76a84row6_col16,#T_1873d7cc_599d_11eb_afb3_cba9d8b76a84row18_col7,#T_1873d7cc_599d_11eb_afb3_cba9d8b76a84row20_col10,#T_1873d7cc_599d_11eb_afb3_cba9d8b76a84row27_col17{\n",
       "            background-color:  #f29274;\n",
       "            color:  #000000;\n",
       "        }#T_1873d7cc_599d_11eb_afb3_cba9d8b76a84row1_col9,#T_1873d7cc_599d_11eb_afb3_cba9d8b76a84row3_col12,#T_1873d7cc_599d_11eb_afb3_cba9d8b76a84row22_col9{\n",
       "            background-color:  #3d50c3;\n",
       "            color:  #f1f1f1;\n",
       "        }#T_1873d7cc_599d_11eb_afb3_cba9d8b76a84row1_col10,#T_1873d7cc_599d_11eb_afb3_cba9d8b76a84row1_col20,#T_1873d7cc_599d_11eb_afb3_cba9d8b76a84row4_col9,#T_1873d7cc_599d_11eb_afb3_cba9d8b76a84row4_col12,#T_1873d7cc_599d_11eb_afb3_cba9d8b76a84row10_col3,#T_1873d7cc_599d_11eb_afb3_cba9d8b76a84row19_col26,#T_1873d7cc_599d_11eb_afb3_cba9d8b76a84row21_col15,#T_1873d7cc_599d_11eb_afb3_cba9d8b76a84row21_col19,#T_1873d7cc_599d_11eb_afb3_cba9d8b76a84row23_col12{\n",
       "            background-color:  #3c4ec2;\n",
       "            color:  #f1f1f1;\n",
       "        }#T_1873d7cc_599d_11eb_afb3_cba9d8b76a84row1_col11,#T_1873d7cc_599d_11eb_afb3_cba9d8b76a84row10_col15,#T_1873d7cc_599d_11eb_afb3_cba9d8b76a84row18_col24{\n",
       "            background-color:  #e9d5cb;\n",
       "            color:  #000000;\n",
       "        }#T_1873d7cc_599d_11eb_afb3_cba9d8b76a84row1_col12,#T_1873d7cc_599d_11eb_afb3_cba9d8b76a84row1_col15,#T_1873d7cc_599d_11eb_afb3_cba9d8b76a84row2_col5,#T_1873d7cc_599d_11eb_afb3_cba9d8b76a84row2_col9,#T_1873d7cc_599d_11eb_afb3_cba9d8b76a84row4_col10,#T_1873d7cc_599d_11eb_afb3_cba9d8b76a84row4_col15,#T_1873d7cc_599d_11eb_afb3_cba9d8b76a84row4_col20,#T_1873d7cc_599d_11eb_afb3_cba9d8b76a84row10_col1,#T_1873d7cc_599d_11eb_afb3_cba9d8b76a84row10_col2,#T_1873d7cc_599d_11eb_afb3_cba9d8b76a84row10_col4,#T_1873d7cc_599d_11eb_afb3_cba9d8b76a84row10_col11,#T_1873d7cc_599d_11eb_afb3_cba9d8b76a84row10_col13,#T_1873d7cc_599d_11eb_afb3_cba9d8b76a84row10_col14,#T_1873d7cc_599d_11eb_afb3_cba9d8b76a84row12_col6,#T_1873d7cc_599d_11eb_afb3_cba9d8b76a84row12_col17,#T_1873d7cc_599d_11eb_afb3_cba9d8b76a84row12_col26,#T_1873d7cc_599d_11eb_afb3_cba9d8b76a84row12_col29,#T_1873d7cc_599d_11eb_afb3_cba9d8b76a84row12_col30,#T_1873d7cc_599d_11eb_afb3_cba9d8b76a84row15_col3,#T_1873d7cc_599d_11eb_afb3_cba9d8b76a84row15_col21,#T_1873d7cc_599d_11eb_afb3_cba9d8b76a84row15_col23,#T_1873d7cc_599d_11eb_afb3_cba9d8b76a84row15_col24,#T_1873d7cc_599d_11eb_afb3_cba9d8b76a84row19_col0,#T_1873d7cc_599d_11eb_afb3_cba9d8b76a84row19_col7,#T_1873d7cc_599d_11eb_afb3_cba9d8b76a84row19_col8,#T_1873d7cc_599d_11eb_afb3_cba9d8b76a84row19_col17,#T_1873d7cc_599d_11eb_afb3_cba9d8b76a84row19_col22,#T_1873d7cc_599d_11eb_afb3_cba9d8b76a84row19_col25,#T_1873d7cc_599d_11eb_afb3_cba9d8b76a84row19_col27,#T_1873d7cc_599d_11eb_afb3_cba9d8b76a84row19_col28,#T_1873d7cc_599d_11eb_afb3_cba9d8b76a84row21_col12,#T_1873d7cc_599d_11eb_afb3_cba9d8b76a84row22_col16,#T_1873d7cc_599d_11eb_afb3_cba9d8b76a84row24_col12,#T_1873d7cc_599d_11eb_afb3_cba9d8b76a84row24_col15,#T_1873d7cc_599d_11eb_afb3_cba9d8b76a84row24_col19,#T_1873d7cc_599d_11eb_afb3_cba9d8b76a84row29_col18{\n",
       "            background-color:  #3b4cc0;\n",
       "            color:  #f1f1f1;\n",
       "        }#T_1873d7cc_599d_11eb_afb3_cba9d8b76a84row1_col13,#T_1873d7cc_599d_11eb_afb3_cba9d8b76a84row4_col13,#T_1873d7cc_599d_11eb_afb3_cba9d8b76a84row27_col25{\n",
       "            background-color:  #e7d7ce;\n",
       "            color:  #000000;\n",
       "        }#T_1873d7cc_599d_11eb_afb3_cba9d8b76a84row1_col16,#T_1873d7cc_599d_11eb_afb3_cba9d8b76a84row2_col16,#T_1873d7cc_599d_11eb_afb3_cba9d8b76a84row12_col5,#T_1873d7cc_599d_11eb_afb3_cba9d8b76a84row27_col12{\n",
       "            background-color:  #4f69d9;\n",
       "            color:  #000000;\n",
       "        }#T_1873d7cc_599d_11eb_afb3_cba9d8b76a84row1_col18,#T_1873d7cc_599d_11eb_afb3_cba9d8b76a84row10_col27,#T_1873d7cc_599d_11eb_afb3_cba9d8b76a84row15_col5,#T_1873d7cc_599d_11eb_afb3_cba9d8b76a84row18_col25,#T_1873d7cc_599d_11eb_afb3_cba9d8b76a84row22_col7,#T_1873d7cc_599d_11eb_afb3_cba9d8b76a84row25_col20,#T_1873d7cc_599d_11eb_afb3_cba9d8b76a84row28_col9{\n",
       "            background-color:  #a6c4fe;\n",
       "            color:  #000000;\n",
       "        }#T_1873d7cc_599d_11eb_afb3_cba9d8b76a84row1_col19,#T_1873d7cc_599d_11eb_afb3_cba9d8b76a84row10_col21,#T_1873d7cc_599d_11eb_afb3_cba9d8b76a84row15_col4,#T_1873d7cc_599d_11eb_afb3_cba9d8b76a84row24_col20{\n",
       "            background-color:  #4055c8;\n",
       "            color:  #f1f1f1;\n",
       "        }#T_1873d7cc_599d_11eb_afb3_cba9d8b76a84row1_col21,#T_1873d7cc_599d_11eb_afb3_cba9d8b76a84row1_col24,#T_1873d7cc_599d_11eb_afb3_cba9d8b76a84row3_col23,#T_1873d7cc_599d_11eb_afb3_cba9d8b76a84row4_col21,#T_1873d7cc_599d_11eb_afb3_cba9d8b76a84row21_col1,#T_1873d7cc_599d_11eb_afb3_cba9d8b76a84row23_col3,#T_1873d7cc_599d_11eb_afb3_cba9d8b76a84row24_col1{\n",
       "            background-color:  #ba162b;\n",
       "            color:  #f1f1f1;\n",
       "        }#T_1873d7cc_599d_11eb_afb3_cba9d8b76a84row1_col22,#T_1873d7cc_599d_11eb_afb3_cba9d8b76a84row4_col2,#T_1873d7cc_599d_11eb_afb3_cba9d8b76a84row4_col22,#T_1873d7cc_599d_11eb_afb3_cba9d8b76a84row7_col2,#T_1873d7cc_599d_11eb_afb3_cba9d8b76a84row9_col23,#T_1873d7cc_599d_11eb_afb3_cba9d8b76a84row12_col10{\n",
       "            background-color:  #bad0f8;\n",
       "            color:  #000000;\n",
       "        }#T_1873d7cc_599d_11eb_afb3_cba9d8b76a84row1_col23,#T_1873d7cc_599d_11eb_afb3_cba9d8b76a84row4_col23,#T_1873d7cc_599d_11eb_afb3_cba9d8b76a84row23_col1,#T_1873d7cc_599d_11eb_afb3_cba9d8b76a84row23_col4{\n",
       "            background-color:  #bb1b2c;\n",
       "            color:  #f1f1f1;\n",
       "        }#T_1873d7cc_599d_11eb_afb3_cba9d8b76a84row1_col25,#T_1873d7cc_599d_11eb_afb3_cba9d8b76a84row3_col5,#T_1873d7cc_599d_11eb_afb3_cba9d8b76a84row15_col13{\n",
       "            background-color:  #6e90f2;\n",
       "            color:  #000000;\n",
       "        }#T_1873d7cc_599d_11eb_afb3_cba9d8b76a84row1_col26,#T_1873d7cc_599d_11eb_afb3_cba9d8b76a84row5_col30,#T_1873d7cc_599d_11eb_afb3_cba9d8b76a84row11_col18,#T_1873d7cc_599d_11eb_afb3_cba9d8b76a84row17_col21,#T_1873d7cc_599d_11eb_afb3_cba9d8b76a84row18_col0,#T_1873d7cc_599d_11eb_afb3_cba9d8b76a84row26_col20,#T_1873d7cc_599d_11eb_afb3_cba9d8b76a84row27_col29,#T_1873d7cc_599d_11eb_afb3_cba9d8b76a84row29_col27{\n",
       "            background-color:  #e5d8d1;\n",
       "            color:  #000000;\n",
       "        }#T_1873d7cc_599d_11eb_afb3_cba9d8b76a84row1_col28,#T_1873d7cc_599d_11eb_afb3_cba9d8b76a84row7_col21,#T_1873d7cc_599d_11eb_afb3_cba9d8b76a84row17_col6,#T_1873d7cc_599d_11eb_afb3_cba9d8b76a84row18_col17{\n",
       "            background-color:  #f39577;\n",
       "            color:  #000000;\n",
       "        }#T_1873d7cc_599d_11eb_afb3_cba9d8b76a84row1_col29,#T_1873d7cc_599d_11eb_afb3_cba9d8b76a84row3_col17,#T_1873d7cc_599d_11eb_afb3_cba9d8b76a84row11_col10,#T_1873d7cc_599d_11eb_afb3_cba9d8b76a84row12_col13,#T_1873d7cc_599d_11eb_afb3_cba9d8b76a84row20_col3,#T_1873d7cc_599d_11eb_afb3_cba9d8b76a84row22_col13{\n",
       "            background-color:  #92b4fe;\n",
       "            color:  #000000;\n",
       "        }#T_1873d7cc_599d_11eb_afb3_cba9d8b76a84row1_col30,#T_1873d7cc_599d_11eb_afb3_cba9d8b76a84row24_col16,#T_1873d7cc_599d_11eb_afb3_cba9d8b76a84row30_col12{\n",
       "            background-color:  #5572df;\n",
       "            color:  #000000;\n",
       "        }#T_1873d7cc_599d_11eb_afb3_cba9d8b76a84row2_col0,#T_1873d7cc_599d_11eb_afb3_cba9d8b76a84row5_col7,#T_1873d7cc_599d_11eb_afb3_cba9d8b76a84row6_col11,#T_1873d7cc_599d_11eb_afb3_cba9d8b76a84row7_col5,#T_1873d7cc_599d_11eb_afb3_cba9d8b76a84row8_col16,#T_1873d7cc_599d_11eb_afb3_cba9d8b76a84row16_col13,#T_1873d7cc_599d_11eb_afb3_cba9d8b76a84row18_col15,#T_1873d7cc_599d_11eb_afb3_cba9d8b76a84row25_col8{\n",
       "            background-color:  #dedcdb;\n",
       "            color:  #000000;\n",
       "        }#T_1873d7cc_599d_11eb_afb3_cba9d8b76a84row2_col1,#T_1873d7cc_599d_11eb_afb3_cba9d8b76a84row9_col19,#T_1873d7cc_599d_11eb_afb3_cba9d8b76a84row10_col25,#T_1873d7cc_599d_11eb_afb3_cba9d8b76a84row15_col12,#T_1873d7cc_599d_11eb_afb3_cba9d8b76a84row17_col0,#T_1873d7cc_599d_11eb_afb3_cba9d8b76a84row29_col30{\n",
       "            background-color:  #e0dbd8;\n",
       "            color:  #000000;\n",
       "        }#T_1873d7cc_599d_11eb_afb3_cba9d8b76a84row2_col3,#T_1873d7cc_599d_11eb_afb3_cba9d8b76a84row5_col15,#T_1873d7cc_599d_11eb_afb3_cba9d8b76a84row20_col7{\n",
       "            background-color:  #dddcdc;\n",
       "            color:  #000000;\n",
       "        }#T_1873d7cc_599d_11eb_afb3_cba9d8b76a84row2_col4,#T_1873d7cc_599d_11eb_afb3_cba9d8b76a84row12_col19,#T_1873d7cc_599d_11eb_afb3_cba9d8b76a84row14_col6,#T_1873d7cc_599d_11eb_afb3_cba9d8b76a84row17_col10,#T_1873d7cc_599d_11eb_afb3_cba9d8b76a84row17_col14,#T_1873d7cc_599d_11eb_afb3_cba9d8b76a84row28_col29{\n",
       "            background-color:  #e1dad6;\n",
       "            color:  #000000;\n",
       "        }#T_1873d7cc_599d_11eb_afb3_cba9d8b76a84row2_col6,#T_1873d7cc_599d_11eb_afb3_cba9d8b76a84row7_col19,#T_1873d7cc_599d_11eb_afb3_cba9d8b76a84row22_col10,#T_1873d7cc_599d_11eb_afb3_cba9d8b76a84row22_col30{\n",
       "            background-color:  #85a8fc;\n",
       "            color:  #000000;\n",
       "        }#T_1873d7cc_599d_11eb_afb3_cba9d8b76a84row2_col7,#T_1873d7cc_599d_11eb_afb3_cba9d8b76a84row2_col8,#T_1873d7cc_599d_11eb_afb3_cba9d8b76a84row6_col22,#T_1873d7cc_599d_11eb_afb3_cba9d8b76a84row11_col17,#T_1873d7cc_599d_11eb_afb3_cba9d8b76a84row17_col2{\n",
       "            background-color:  #a7c5fe;\n",
       "            color:  #000000;\n",
       "        }#T_1873d7cc_599d_11eb_afb3_cba9d8b76a84row2_col10,#T_1873d7cc_599d_11eb_afb3_cba9d8b76a84row9_col17,#T_1873d7cc_599d_11eb_afb3_cba9d8b76a84row14_col25,#T_1873d7cc_599d_11eb_afb3_cba9d8b76a84row15_col11,#T_1873d7cc_599d_11eb_afb3_cba9d8b76a84row22_col15,#T_1873d7cc_599d_11eb_afb3_cba9d8b76a84row30_col19{\n",
       "            background-color:  #82a6fb;\n",
       "            color:  #000000;\n",
       "        }#T_1873d7cc_599d_11eb_afb3_cba9d8b76a84row2_col11,#T_1873d7cc_599d_11eb_afb3_cba9d8b76a84row9_col24,#T_1873d7cc_599d_11eb_afb3_cba9d8b76a84row17_col19,#T_1873d7cc_599d_11eb_afb3_cba9d8b76a84row19_col29{\n",
       "            background-color:  #b3cdfb;\n",
       "            color:  #000000;\n",
       "        }#T_1873d7cc_599d_11eb_afb3_cba9d8b76a84row2_col12,#T_1873d7cc_599d_11eb_afb3_cba9d8b76a84row2_col21,#T_1873d7cc_599d_11eb_afb3_cba9d8b76a84row2_col23,#T_1873d7cc_599d_11eb_afb3_cba9d8b76a84row2_col24,#T_1873d7cc_599d_11eb_afb3_cba9d8b76a84row3_col6,#T_1873d7cc_599d_11eb_afb3_cba9d8b76a84row7_col20,#T_1873d7cc_599d_11eb_afb3_cba9d8b76a84row17_col13,#T_1873d7cc_599d_11eb_afb3_cba9d8b76a84row21_col6,#T_1873d7cc_599d_11eb_afb3_cba9d8b76a84row22_col0,#T_1873d7cc_599d_11eb_afb3_cba9d8b76a84row26_col18,#T_1873d7cc_599d_11eb_afb3_cba9d8b76a84row29_col25{\n",
       "            background-color:  #e2dad5;\n",
       "            color:  #000000;\n",
       "        }#T_1873d7cc_599d_11eb_afb3_cba9d8b76a84row2_col13,#T_1873d7cc_599d_11eb_afb3_cba9d8b76a84row2_col26,#T_1873d7cc_599d_11eb_afb3_cba9d8b76a84row9_col1,#T_1873d7cc_599d_11eb_afb3_cba9d8b76a84row9_col4,#T_1873d7cc_599d_11eb_afb3_cba9d8b76a84row11_col22,#T_1873d7cc_599d_11eb_afb3_cba9d8b76a84row16_col25{\n",
       "            background-color:  #afcafc;\n",
       "            color:  #000000;\n",
       "        }#T_1873d7cc_599d_11eb_afb3_cba9d8b76a84row2_col14,#T_1873d7cc_599d_11eb_afb3_cba9d8b76a84row5_col29,#T_1873d7cc_599d_11eb_afb3_cba9d8b76a84row9_col27,#T_1873d7cc_599d_11eb_afb3_cba9d8b76a84row10_col19,#T_1873d7cc_599d_11eb_afb3_cba9d8b76a84row16_col21,#T_1873d7cc_599d_11eb_afb3_cba9d8b76a84row27_col13{\n",
       "            background-color:  #d2dbe8;\n",
       "            color:  #000000;\n",
       "        }#T_1873d7cc_599d_11eb_afb3_cba9d8b76a84row2_col15,#T_1873d7cc_599d_11eb_afb3_cba9d8b76a84row11_col16,#T_1873d7cc_599d_11eb_afb3_cba9d8b76a84row13_col9,#T_1873d7cc_599d_11eb_afb3_cba9d8b76a84row25_col14{\n",
       "            background-color:  #96b7ff;\n",
       "            color:  #000000;\n",
       "        }#T_1873d7cc_599d_11eb_afb3_cba9d8b76a84row2_col17,#T_1873d7cc_599d_11eb_afb3_cba9d8b76a84row27_col19,#T_1873d7cc_599d_11eb_afb3_cba9d8b76a84row29_col13{\n",
       "            background-color:  #5f7fe8;\n",
       "            color:  #000000;\n",
       "        }#T_1873d7cc_599d_11eb_afb3_cba9d8b76a84row2_col18,#T_1873d7cc_599d_11eb_afb3_cba9d8b76a84row3_col16{\n",
       "            background-color:  #6180e9;\n",
       "            color:  #000000;\n",
       "        }#T_1873d7cc_599d_11eb_afb3_cba9d8b76a84row2_col20,#T_1873d7cc_599d_11eb_afb3_cba9d8b76a84row2_col30,#T_1873d7cc_599d_11eb_afb3_cba9d8b76a84row9_col2,#T_1873d7cc_599d_11eb_afb3_cba9d8b76a84row12_col4,#T_1873d7cc_599d_11eb_afb3_cba9d8b76a84row24_col30{\n",
       "            background-color:  #6c8ff1;\n",
       "            color:  #000000;\n",
       "        }#T_1873d7cc_599d_11eb_afb3_cba9d8b76a84row2_col22,#T_1873d7cc_599d_11eb_afb3_cba9d8b76a84row7_col28,#T_1873d7cc_599d_11eb_afb3_cba9d8b76a84row22_col2,#T_1873d7cc_599d_11eb_afb3_cba9d8b76a84row27_col28{\n",
       "            background-color:  #d1493f;\n",
       "            color:  #f1f1f1;\n",
       "        }#T_1873d7cc_599d_11eb_afb3_cba9d8b76a84row2_col27,#T_1873d7cc_599d_11eb_afb3_cba9d8b76a84row5_col23,#T_1873d7cc_599d_11eb_afb3_cba9d8b76a84row9_col20,#T_1873d7cc_599d_11eb_afb3_cba9d8b76a84row13_col16,#T_1873d7cc_599d_11eb_afb3_cba9d8b76a84row25_col21{\n",
       "            background-color:  #c3d5f4;\n",
       "            color:  #000000;\n",
       "        }#T_1873d7cc_599d_11eb_afb3_cba9d8b76a84row2_col28,#T_1873d7cc_599d_11eb_afb3_cba9d8b76a84row13_col15,#T_1873d7cc_599d_11eb_afb3_cba9d8b76a84row24_col2,#T_1873d7cc_599d_11eb_afb3_cba9d8b76a84row25_col24,#T_1873d7cc_599d_11eb_afb3_cba9d8b76a84row26_col13,#T_1873d7cc_599d_11eb_afb3_cba9d8b76a84row26_col22,#T_1873d7cc_599d_11eb_afb3_cba9d8b76a84row27_col11{\n",
       "            background-color:  #c1d4f4;\n",
       "            color:  #000000;\n",
       "        }#T_1873d7cc_599d_11eb_afb3_cba9d8b76a84row3_col0,#T_1873d7cc_599d_11eb_afb3_cba9d8b76a84row3_col14,#T_1873d7cc_599d_11eb_afb3_cba9d8b76a84row10_col30,#T_1873d7cc_599d_11eb_afb3_cba9d8b76a84row26_col30,#T_1873d7cc_599d_11eb_afb3_cba9d8b76a84row27_col23{\n",
       "            background-color:  #f29072;\n",
       "            color:  #000000;\n",
       "        }#T_1873d7cc_599d_11eb_afb3_cba9d8b76a84row3_col2,#T_1873d7cc_599d_11eb_afb3_cba9d8b76a84row8_col20,#T_1873d7cc_599d_11eb_afb3_cba9d8b76a84row18_col30,#T_1873d7cc_599d_11eb_afb3_cba9d8b76a84row20_col13{\n",
       "            background-color:  #bbd1f8;\n",
       "            color:  #000000;\n",
       "        }#T_1873d7cc_599d_11eb_afb3_cba9d8b76a84row3_col7,#T_1873d7cc_599d_11eb_afb3_cba9d8b76a84row17_col20,#T_1873d7cc_599d_11eb_afb3_cba9d8b76a84row21_col7,#T_1873d7cc_599d_11eb_afb3_cba9d8b76a84row29_col9,#T_1873d7cc_599d_11eb_afb3_cba9d8b76a84row30_col6{\n",
       "            background-color:  #f7b599;\n",
       "            color:  #000000;\n",
       "        }#T_1873d7cc_599d_11eb_afb3_cba9d8b76a84row3_col8,#T_1873d7cc_599d_11eb_afb3_cba9d8b76a84row8_col0,#T_1873d7cc_599d_11eb_afb3_cba9d8b76a84row21_col8,#T_1873d7cc_599d_11eb_afb3_cba9d8b76a84row23_col14,#T_1873d7cc_599d_11eb_afb3_cba9d8b76a84row28_col4{\n",
       "            background-color:  #ee8669;\n",
       "            color:  #000000;\n",
       "        }#T_1873d7cc_599d_11eb_afb3_cba9d8b76a84row3_col9,#T_1873d7cc_599d_11eb_afb3_cba9d8b76a84row3_col20,#T_1873d7cc_599d_11eb_afb3_cba9d8b76a84row10_col23,#T_1873d7cc_599d_11eb_afb3_cba9d8b76a84row15_col8,#T_1873d7cc_599d_11eb_afb3_cba9d8b76a84row19_col21,#T_1873d7cc_599d_11eb_afb3_cba9d8b76a84row19_col24,#T_1873d7cc_599d_11eb_afb3_cba9d8b76a84row28_col12{\n",
       "            background-color:  #485fd1;\n",
       "            color:  #f1f1f1;\n",
       "        }#T_1873d7cc_599d_11eb_afb3_cba9d8b76a84row3_col10,#T_1873d7cc_599d_11eb_afb3_cba9d8b76a84row12_col27,#T_1873d7cc_599d_11eb_afb3_cba9d8b76a84row24_col10{\n",
       "            background-color:  #465ecf;\n",
       "            color:  #f1f1f1;\n",
       "        }#T_1873d7cc_599d_11eb_afb3_cba9d8b76a84row3_col11,#T_1873d7cc_599d_11eb_afb3_cba9d8b76a84row5_col28,#T_1873d7cc_599d_11eb_afb3_cba9d8b76a84row6_col13,#T_1873d7cc_599d_11eb_afb3_cba9d8b76a84row15_col10,#T_1873d7cc_599d_11eb_afb3_cba9d8b76a84row22_col12,#T_1873d7cc_599d_11eb_afb3_cba9d8b76a84row26_col10{\n",
       "            background-color:  #ebd3c6;\n",
       "            color:  #000000;\n",
       "        }#T_1873d7cc_599d_11eb_afb3_cba9d8b76a84row3_col13,#T_1873d7cc_599d_11eb_afb3_cba9d8b76a84row25_col6{\n",
       "            background-color:  #ead4c8;\n",
       "            color:  #000000;\n",
       "        }#T_1873d7cc_599d_11eb_afb3_cba9d8b76a84row3_col15,#T_1873d7cc_599d_11eb_afb3_cba9d8b76a84row10_col24,#T_1873d7cc_599d_11eb_afb3_cba9d8b76a84row23_col15{\n",
       "            background-color:  #3e51c5;\n",
       "            color:  #f1f1f1;\n",
       "        }#T_1873d7cc_599d_11eb_afb3_cba9d8b76a84row3_col19,#T_1873d7cc_599d_11eb_afb3_cba9d8b76a84row12_col7,#T_1873d7cc_599d_11eb_afb3_cba9d8b76a84row22_col18{\n",
       "            background-color:  #4358cb;\n",
       "            color:  #f1f1f1;\n",
       "        }#T_1873d7cc_599d_11eb_afb3_cba9d8b76a84row3_col21,#T_1873d7cc_599d_11eb_afb3_cba9d8b76a84row3_col24,#T_1873d7cc_599d_11eb_afb3_cba9d8b76a84row4_col24,#T_1873d7cc_599d_11eb_afb3_cba9d8b76a84row21_col3,#T_1873d7cc_599d_11eb_afb3_cba9d8b76a84row21_col4,#T_1873d7cc_599d_11eb_afb3_cba9d8b76a84row24_col3,#T_1873d7cc_599d_11eb_afb3_cba9d8b76a84row24_col4{\n",
       "            background-color:  #b8122a;\n",
       "            color:  #f1f1f1;\n",
       "        }#T_1873d7cc_599d_11eb_afb3_cba9d8b76a84row3_col22,#T_1873d7cc_599d_11eb_afb3_cba9d8b76a84row5_col24,#T_1873d7cc_599d_11eb_afb3_cba9d8b76a84row9_col0,#T_1873d7cc_599d_11eb_afb3_cba9d8b76a84row19_col20,#T_1873d7cc_599d_11eb_afb3_cba9d8b76a84row29_col1,#T_1873d7cc_599d_11eb_afb3_cba9d8b76a84row29_col3,#T_1873d7cc_599d_11eb_afb3_cba9d8b76a84row29_col4,#T_1873d7cc_599d_11eb_afb3_cba9d8b76a84row30_col17{\n",
       "            background-color:  #bcd2f7;\n",
       "            color:  #000000;\n",
       "        }#T_1873d7cc_599d_11eb_afb3_cba9d8b76a84row3_col25,#T_1873d7cc_599d_11eb_afb3_cba9d8b76a84row8_col19,#T_1873d7cc_599d_11eb_afb3_cba9d8b76a84row10_col17,#T_1873d7cc_599d_11eb_afb3_cba9d8b76a84row19_col14,#T_1873d7cc_599d_11eb_afb3_cba9d8b76a84row28_col15,#T_1873d7cc_599d_11eb_afb3_cba9d8b76a84row30_col14{\n",
       "            background-color:  #779af7;\n",
       "            color:  #000000;\n",
       "        }#T_1873d7cc_599d_11eb_afb3_cba9d8b76a84row3_col26,#T_1873d7cc_599d_11eb_afb3_cba9d8b76a84row23_col6{\n",
       "            background-color:  #edd1c2;\n",
       "            color:  #000000;\n",
       "        }#T_1873d7cc_599d_11eb_afb3_cba9d8b76a84row3_col27,#T_1873d7cc_599d_11eb_afb3_cba9d8b76a84row6_col5,#T_1873d7cc_599d_11eb_afb3_cba9d8b76a84row11_col4,#T_1873d7cc_599d_11eb_afb3_cba9d8b76a84row24_col7,#T_1873d7cc_599d_11eb_afb3_cba9d8b76a84row26_col17{\n",
       "            background-color:  #f7b79b;\n",
       "            color:  #000000;\n",
       "        }#T_1873d7cc_599d_11eb_afb3_cba9d8b76a84row3_col28,#T_1873d7cc_599d_11eb_afb3_cba9d8b76a84row7_col23,#T_1873d7cc_599d_11eb_afb3_cba9d8b76a84row24_col8{\n",
       "            background-color:  #f08a6c;\n",
       "            color:  #000000;\n",
       "        }#T_1873d7cc_599d_11eb_afb3_cba9d8b76a84row3_col29,#T_1873d7cc_599d_11eb_afb3_cba9d8b76a84row14_col19,#T_1873d7cc_599d_11eb_afb3_cba9d8b76a84row16_col22,#T_1873d7cc_599d_11eb_afb3_cba9d8b76a84row20_col23,#T_1873d7cc_599d_11eb_afb3_cba9d8b76a84row22_col11{\n",
       "            background-color:  #98b9ff;\n",
       "            color:  #000000;\n",
       "        }#T_1873d7cc_599d_11eb_afb3_cba9d8b76a84row3_col30,#T_1873d7cc_599d_11eb_afb3_cba9d8b76a84row12_col3,#T_1873d7cc_599d_11eb_afb3_cba9d8b76a84row12_col21,#T_1873d7cc_599d_11eb_afb3_cba9d8b76a84row19_col5{\n",
       "            background-color:  #6384eb;\n",
       "            color:  #000000;\n",
       "        }#T_1873d7cc_599d_11eb_afb3_cba9d8b76a84row4_col5{\n",
       "            background-color:  #5e7de7;\n",
       "            color:  #000000;\n",
       "        }#T_1873d7cc_599d_11eb_afb3_cba9d8b76a84row4_col7,#T_1873d7cc_599d_11eb_afb3_cba9d8b76a84row4_col27,#T_1873d7cc_599d_11eb_afb3_cba9d8b76a84row8_col11,#T_1873d7cc_599d_11eb_afb3_cba9d8b76a84row14_col7,#T_1873d7cc_599d_11eb_afb3_cba9d8b76a84row18_col14{\n",
       "            background-color:  #f5c1a9;\n",
       "            color:  #000000;\n",
       "        }#T_1873d7cc_599d_11eb_afb3_cba9d8b76a84row4_col8,#T_1873d7cc_599d_11eb_afb3_cba9d8b76a84row18_col8,#T_1873d7cc_599d_11eb_afb3_cba9d8b76a84row26_col8{\n",
       "            background-color:  #f39475;\n",
       "            color:  #000000;\n",
       "        }#T_1873d7cc_599d_11eb_afb3_cba9d8b76a84row4_col11,#T_1873d7cc_599d_11eb_afb3_cba9d8b76a84row8_col5,#T_1873d7cc_599d_11eb_afb3_cba9d8b76a84row14_col27,#T_1873d7cc_599d_11eb_afb3_cba9d8b76a84row18_col21,#T_1873d7cc_599d_11eb_afb3_cba9d8b76a84row20_col18,#T_1873d7cc_599d_11eb_afb3_cba9d8b76a84row25_col29,#T_1873d7cc_599d_11eb_afb3_cba9d8b76a84row27_col14{\n",
       "            background-color:  #ead5c9;\n",
       "            color:  #000000;\n",
       "        }#T_1873d7cc_599d_11eb_afb3_cba9d8b76a84row4_col16,#T_1873d7cc_599d_11eb_afb3_cba9d8b76a84row19_col2,#T_1873d7cc_599d_11eb_afb3_cba9d8b76a84row19_col3{\n",
       "            background-color:  #4e68d8;\n",
       "            color:  #000000;\n",
       "        }#T_1873d7cc_599d_11eb_afb3_cba9d8b76a84row4_col18,#T_1873d7cc_599d_11eb_afb3_cba9d8b76a84row13_col5,#T_1873d7cc_599d_11eb_afb3_cba9d8b76a84row17_col29{\n",
       "            background-color:  #a3c2fe;\n",
       "            color:  #000000;\n",
       "        }#T_1873d7cc_599d_11eb_afb3_cba9d8b76a84row4_col19,#T_1873d7cc_599d_11eb_afb3_cba9d8b76a84row12_col25,#T_1873d7cc_599d_11eb_afb3_cba9d8b76a84row15_col1,#T_1873d7cc_599d_11eb_afb3_cba9d8b76a84row23_col19{\n",
       "            background-color:  #3f53c6;\n",
       "            color:  #f1f1f1;\n",
       "        }#T_1873d7cc_599d_11eb_afb3_cba9d8b76a84row4_col25{\n",
       "            background-color:  #6b8df0;\n",
       "            color:  #000000;\n",
       "        }#T_1873d7cc_599d_11eb_afb3_cba9d8b76a84row4_col26,#T_1873d7cc_599d_11eb_afb3_cba9d8b76a84row9_col5,#T_1873d7cc_599d_11eb_afb3_cba9d8b76a84row9_col6,#T_1873d7cc_599d_11eb_afb3_cba9d8b76a84row17_col1,#T_1873d7cc_599d_11eb_afb3_cba9d8b76a84row17_col4,#T_1873d7cc_599d_11eb_afb3_cba9d8b76a84row17_col24,#T_1873d7cc_599d_11eb_afb3_cba9d8b76a84row17_col30,#T_1873d7cc_599d_11eb_afb3_cba9d8b76a84row30_col7{\n",
       "            background-color:  #e4d9d2;\n",
       "            color:  #000000;\n",
       "        }#T_1873d7cc_599d_11eb_afb3_cba9d8b76a84row4_col29,#T_1873d7cc_599d_11eb_afb3_cba9d8b76a84row8_col15,#T_1873d7cc_599d_11eb_afb3_cba9d8b76a84row20_col29,#T_1873d7cc_599d_11eb_afb3_cba9d8b76a84row30_col18{\n",
       "            background-color:  #90b2fe;\n",
       "            color:  #000000;\n",
       "        }#T_1873d7cc_599d_11eb_afb3_cba9d8b76a84row4_col30,#T_1873d7cc_599d_11eb_afb3_cba9d8b76a84row15_col6,#T_1873d7cc_599d_11eb_afb3_cba9d8b76a84row19_col4{\n",
       "            background-color:  #5470de;\n",
       "            color:  #000000;\n",
       "        }#T_1873d7cc_599d_11eb_afb3_cba9d8b76a84row5_col0,#T_1873d7cc_599d_11eb_afb3_cba9d8b76a84row8_col29,#T_1873d7cc_599d_11eb_afb3_cba9d8b76a84row17_col15,#T_1873d7cc_599d_11eb_afb3_cba9d8b76a84row18_col5,#T_1873d7cc_599d_11eb_afb3_cba9d8b76a84row28_col22,#T_1873d7cc_599d_11eb_afb3_cba9d8b76a84row29_col6{\n",
       "            background-color:  #c7d7f0;\n",
       "            color:  #000000;\n",
       "        }#T_1873d7cc_599d_11eb_afb3_cba9d8b76a84row5_col1,#T_1873d7cc_599d_11eb_afb3_cba9d8b76a84row8_col10,#T_1873d7cc_599d_11eb_afb3_cba9d8b76a84row9_col21,#T_1873d7cc_599d_11eb_afb3_cba9d8b76a84row10_col29,#T_1873d7cc_599d_11eb_afb3_cba9d8b76a84row13_col22,#T_1873d7cc_599d_11eb_afb3_cba9d8b76a84row29_col7,#T_1873d7cc_599d_11eb_afb3_cba9d8b76a84row30_col0{\n",
       "            background-color:  #b6cefa;\n",
       "            color:  #000000;\n",
       "        }#T_1873d7cc_599d_11eb_afb3_cba9d8b76a84row5_col2,#T_1873d7cc_599d_11eb_afb3_cba9d8b76a84row19_col1,#T_1873d7cc_599d_11eb_afb3_cba9d8b76a84row19_col16,#T_1873d7cc_599d_11eb_afb3_cba9d8b76a84row23_col10{\n",
       "            background-color:  #536edd;\n",
       "            color:  #000000;\n",
       "        }#T_1873d7cc_599d_11eb_afb3_cba9d8b76a84row5_col4,#T_1873d7cc_599d_11eb_afb3_cba9d8b76a84row8_col22,#T_1873d7cc_599d_11eb_afb3_cba9d8b76a84row9_col14,#T_1873d7cc_599d_11eb_afb3_cba9d8b76a84row16_col9,#T_1873d7cc_599d_11eb_afb3_cba9d8b76a84row23_col18,#T_1873d7cc_599d_11eb_afb3_cba9d8b76a84row28_col10{\n",
       "            background-color:  #b5cdfa;\n",
       "            color:  #000000;\n",
       "        }#T_1873d7cc_599d_11eb_afb3_cba9d8b76a84row5_col6,#T_1873d7cc_599d_11eb_afb3_cba9d8b76a84row8_col13,#T_1873d7cc_599d_11eb_afb3_cba9d8b76a84row13_col0,#T_1873d7cc_599d_11eb_afb3_cba9d8b76a84row28_col14,#T_1873d7cc_599d_11eb_afb3_cba9d8b76a84row30_col27{\n",
       "            background-color:  #f7b99e;\n",
       "            color:  #000000;\n",
       "        }#T_1873d7cc_599d_11eb_afb3_cba9d8b76a84row5_col8,#T_1873d7cc_599d_11eb_afb3_cba9d8b76a84row7_col11,#T_1873d7cc_599d_11eb_afb3_cba9d8b76a84row10_col5,#T_1873d7cc_599d_11eb_afb3_cba9d8b76a84row18_col3,#T_1873d7cc_599d_11eb_afb3_cba9d8b76a84row26_col29,#T_1873d7cc_599d_11eb_afb3_cba9d8b76a84row28_col17,#T_1873d7cc_599d_11eb_afb3_cba9d8b76a84row30_col28{\n",
       "            background-color:  #eed0c0;\n",
       "            color:  #000000;\n",
       "        }#T_1873d7cc_599d_11eb_afb3_cba9d8b76a84row5_col9,#T_1873d7cc_599d_11eb_afb3_cba9d8b76a84row9_col26,#T_1873d7cc_599d_11eb_afb3_cba9d8b76a84row13_col26,#T_1873d7cc_599d_11eb_afb3_cba9d8b76a84row28_col5{\n",
       "            background-color:  #d9dce1;\n",
       "            color:  #000000;\n",
       "        }#T_1873d7cc_599d_11eb_afb3_cba9d8b76a84row5_col10,#T_1873d7cc_599d_11eb_afb3_cba9d8b76a84row7_col16,#T_1873d7cc_599d_11eb_afb3_cba9d8b76a84row11_col21,#T_1873d7cc_599d_11eb_afb3_cba9d8b76a84row17_col28{\n",
       "            background-color:  #f7ad90;\n",
       "            color:  #000000;\n",
       "        }#T_1873d7cc_599d_11eb_afb3_cba9d8b76a84row5_col11,#T_1873d7cc_599d_11eb_afb3_cba9d8b76a84row14_col17,#T_1873d7cc_599d_11eb_afb3_cba9d8b76a84row17_col25,#T_1873d7cc_599d_11eb_afb3_cba9d8b76a84row30_col24{\n",
       "            background-color:  #aac7fd;\n",
       "            color:  #000000;\n",
       "        }#T_1873d7cc_599d_11eb_afb3_cba9d8b76a84row5_col13,#T_1873d7cc_599d_11eb_afb3_cba9d8b76a84row17_col9,#T_1873d7cc_599d_11eb_afb3_cba9d8b76a84row25_col22,#T_1873d7cc_599d_11eb_afb3_cba9d8b76a84row30_col1,#T_1873d7cc_599d_11eb_afb3_cba9d8b76a84row30_col4{\n",
       "            background-color:  #9bbcff;\n",
       "            color:  #000000;\n",
       "        }#T_1873d7cc_599d_11eb_afb3_cba9d8b76a84row5_col14,#T_1873d7cc_599d_11eb_afb3_cba9d8b76a84row26_col9,#T_1873d7cc_599d_11eb_afb3_cba9d8b76a84row29_col8,#T_1873d7cc_599d_11eb_afb3_cba9d8b76a84row30_col23{\n",
       "            background-color:  #b7cff9;\n",
       "            color:  #000000;\n",
       "        }#T_1873d7cc_599d_11eb_afb3_cba9d8b76a84row5_col16,#T_1873d7cc_599d_11eb_afb3_cba9d8b76a84row13_col25,#T_1873d7cc_599d_11eb_afb3_cba9d8b76a84row24_col17{\n",
       "            background-color:  #86a9fc;\n",
       "            color:  #000000;\n",
       "        }#T_1873d7cc_599d_11eb_afb3_cba9d8b76a84row5_col17,#T_1873d7cc_599d_11eb_afb3_cba9d8b76a84row23_col5{\n",
       "            background-color:  #7da0f9;\n",
       "            color:  #000000;\n",
       "        }#T_1873d7cc_599d_11eb_afb3_cba9d8b76a84row5_col18,#T_1873d7cc_599d_11eb_afb3_cba9d8b76a84row8_col9,#T_1873d7cc_599d_11eb_afb3_cba9d8b76a84row9_col3,#T_1873d7cc_599d_11eb_afb3_cba9d8b76a84row25_col1,#T_1873d7cc_599d_11eb_afb3_cba9d8b76a84row25_col4,#T_1873d7cc_599d_11eb_afb3_cba9d8b76a84row25_col9{\n",
       "            background-color:  #b1cbfc;\n",
       "            color:  #000000;\n",
       "        }#T_1873d7cc_599d_11eb_afb3_cba9d8b76a84row5_col19,#T_1873d7cc_599d_11eb_afb3_cba9d8b76a84row16_col12,#T_1873d7cc_599d_11eb_afb3_cba9d8b76a84row20_col9,#T_1873d7cc_599d_11eb_afb3_cba9d8b76a84row24_col29,#T_1873d7cc_599d_11eb_afb3_cba9d8b76a84row26_col2{\n",
       "            background-color:  #a9c6fd;\n",
       "            color:  #000000;\n",
       "        }#T_1873d7cc_599d_11eb_afb3_cba9d8b76a84row5_col20,#T_1873d7cc_599d_11eb_afb3_cba9d8b76a84row13_col2,#T_1873d7cc_599d_11eb_afb3_cba9d8b76a84row25_col23{\n",
       "            background-color:  #c6d6f1;\n",
       "            color:  #000000;\n",
       "        }#T_1873d7cc_599d_11eb_afb3_cba9d8b76a84row5_col21,#T_1873d7cc_599d_11eb_afb3_cba9d8b76a84row15_col25,#T_1873d7cc_599d_11eb_afb3_cba9d8b76a84row20_col8,#T_1873d7cc_599d_11eb_afb3_cba9d8b76a84row22_col26{\n",
       "            background-color:  #bfd3f6;\n",
       "            color:  #000000;\n",
       "        }#T_1873d7cc_599d_11eb_afb3_cba9d8b76a84row5_col22,#T_1873d7cc_599d_11eb_afb3_cba9d8b76a84row11_col30,#T_1873d7cc_599d_11eb_afb3_cba9d8b76a84row12_col1,#T_1873d7cc_599d_11eb_afb3_cba9d8b76a84row19_col18,#T_1873d7cc_599d_11eb_afb3_cba9d8b76a84row25_col2,#T_1873d7cc_599d_11eb_afb3_cba9d8b76a84row25_col13{\n",
       "            background-color:  #6a8bef;\n",
       "            color:  #000000;\n",
       "        }#T_1873d7cc_599d_11eb_afb3_cba9d8b76a84row6_col0{\n",
       "            background-color:  #f6bfa6;\n",
       "            color:  #000000;\n",
       "        }#T_1873d7cc_599d_11eb_afb3_cba9d8b76a84row6_col1,#T_1873d7cc_599d_11eb_afb3_cba9d8b76a84row6_col20,#T_1873d7cc_599d_11eb_afb3_cba9d8b76a84row7_col13,#T_1873d7cc_599d_11eb_afb3_cba9d8b76a84row25_col10{\n",
       "            background-color:  #f5c4ac;\n",
       "            color:  #000000;\n",
       "        }#T_1873d7cc_599d_11eb_afb3_cba9d8b76a84row6_col2,#T_1873d7cc_599d_11eb_afb3_cba9d8b76a84row16_col2,#T_1873d7cc_599d_11eb_afb3_cba9d8b76a84row17_col22,#T_1873d7cc_599d_11eb_afb3_cba9d8b76a84row18_col9,#T_1873d7cc_599d_11eb_afb3_cba9d8b76a84row19_col9,#T_1873d7cc_599d_11eb_afb3_cba9d8b76a84row30_col3{\n",
       "            background-color:  #a1c0ff;\n",
       "            color:  #000000;\n",
       "        }#T_1873d7cc_599d_11eb_afb3_cba9d8b76a84row6_col3,#T_1873d7cc_599d_11eb_afb3_cba9d8b76a84row11_col0,#T_1873d7cc_599d_11eb_afb3_cba9d8b76a84row18_col13{\n",
       "            background-color:  #f6bda2;\n",
       "            color:  #000000;\n",
       "        }#T_1873d7cc_599d_11eb_afb3_cba9d8b76a84row6_col4,#T_1873d7cc_599d_11eb_afb3_cba9d8b76a84row13_col28,#T_1873d7cc_599d_11eb_afb3_cba9d8b76a84row16_col30,#T_1873d7cc_599d_11eb_afb3_cba9d8b76a84row26_col1,#T_1873d7cc_599d_11eb_afb3_cba9d8b76a84row26_col4,#T_1873d7cc_599d_11eb_afb3_cba9d8b76a84row27_col16{\n",
       "            background-color:  #f4c5ad;\n",
       "            color:  #000000;\n",
       "        }#T_1873d7cc_599d_11eb_afb3_cba9d8b76a84row6_col7,#T_1873d7cc_599d_11eb_afb3_cba9d8b76a84row7_col6{\n",
       "            background-color:  #d85646;\n",
       "            color:  #000000;\n",
       "        }#T_1873d7cc_599d_11eb_afb3_cba9d8b76a84row6_col8,#T_1873d7cc_599d_11eb_afb3_cba9d8b76a84row6_col27,#T_1873d7cc_599d_11eb_afb3_cba9d8b76a84row16_col17,#T_1873d7cc_599d_11eb_afb3_cba9d8b76a84row17_col7{\n",
       "            background-color:  #e36b54;\n",
       "            color:  #000000;\n",
       "        }#T_1873d7cc_599d_11eb_afb3_cba9d8b76a84row6_col9,#T_1873d7cc_599d_11eb_afb3_cba9d8b76a84row16_col23,#T_1873d7cc_599d_11eb_afb3_cba9d8b76a84row22_col4,#T_1873d7cc_599d_11eb_afb3_cba9d8b76a84row30_col5,#T_1873d7cc_599d_11eb_afb3_cba9d8b76a84row30_col16{\n",
       "            background-color:  #dcdddd;\n",
       "            color:  #000000;\n",
       "        }#T_1873d7cc_599d_11eb_afb3_cba9d8b76a84row6_col10,#T_1873d7cc_599d_11eb_afb3_cba9d8b76a84row25_col30,#T_1873d7cc_599d_11eb_afb3_cba9d8b76a84row30_col25{\n",
       "            background-color:  #f5c2aa;\n",
       "            color:  #000000;\n",
       "        }#T_1873d7cc_599d_11eb_afb3_cba9d8b76a84row6_col12,#T_1873d7cc_599d_11eb_afb3_cba9d8b76a84row15_col30,#T_1873d7cc_599d_11eb_afb3_cba9d8b76a84row20_col22,#T_1873d7cc_599d_11eb_afb3_cba9d8b76a84row23_col16,#T_1873d7cc_599d_11eb_afb3_cba9d8b76a84row24_col5,#T_1873d7cc_599d_11eb_afb3_cba9d8b76a84row29_col2{\n",
       "            background-color:  #7093f3;\n",
       "            color:  #000000;\n",
       "        }#T_1873d7cc_599d_11eb_afb3_cba9d8b76a84row6_col17,#T_1873d7cc_599d_11eb_afb3_cba9d8b76a84row8_col18,#T_1873d7cc_599d_11eb_afb3_cba9d8b76a84row18_col6,#T_1873d7cc_599d_11eb_afb3_cba9d8b76a84row27_col3{\n",
       "            background-color:  #f6a586;\n",
       "            color:  #000000;\n",
       "        }#T_1873d7cc_599d_11eb_afb3_cba9d8b76a84row6_col18,#T_1873d7cc_599d_11eb_afb3_cba9d8b76a84row11_col24,#T_1873d7cc_599d_11eb_afb3_cba9d8b76a84row21_col27{\n",
       "            background-color:  #f7af91;\n",
       "            color:  #000000;\n",
       "        }#T_1873d7cc_599d_11eb_afb3_cba9d8b76a84row6_col19,#T_1873d7cc_599d_11eb_afb3_cba9d8b76a84row9_col16,#T_1873d7cc_599d_11eb_afb3_cba9d8b76a84row9_col18,#T_1873d7cc_599d_11eb_afb3_cba9d8b76a84row12_col14{\n",
       "            background-color:  #9abbff;\n",
       "            color:  #000000;\n",
       "        }#T_1873d7cc_599d_11eb_afb3_cba9d8b76a84row6_col21{\n",
       "            background-color:  #f7bca1;\n",
       "            color:  #000000;\n",
       "        }#T_1873d7cc_599d_11eb_afb3_cba9d8b76a84row6_col23,#T_1873d7cc_599d_11eb_afb3_cba9d8b76a84row10_col20,#T_1873d7cc_599d_11eb_afb3_cba9d8b76a84row11_col23,#T_1873d7cc_599d_11eb_afb3_cba9d8b76a84row13_col8,#T_1873d7cc_599d_11eb_afb3_cba9d8b76a84row24_col27{\n",
       "            background-color:  #f7b093;\n",
       "            color:  #000000;\n",
       "        }#T_1873d7cc_599d_11eb_afb3_cba9d8b76a84row6_col24,#T_1873d7cc_599d_11eb_afb3_cba9d8b76a84row11_col8,#T_1873d7cc_599d_11eb_afb3_cba9d8b76a84row23_col26,#T_1873d7cc_599d_11eb_afb3_cba9d8b76a84row26_col3,#T_1873d7cc_599d_11eb_afb3_cba9d8b76a84row28_col18{\n",
       "            background-color:  #f6bea4;\n",
       "            color:  #000000;\n",
       "        }#T_1873d7cc_599d_11eb_afb3_cba9d8b76a84row6_col25,#T_1873d7cc_599d_11eb_afb3_cba9d8b76a84row18_col11,#T_1873d7cc_599d_11eb_afb3_cba9d8b76a84row21_col11,#T_1873d7cc_599d_11eb_afb3_cba9d8b76a84row21_col26,#T_1873d7cc_599d_11eb_afb3_cba9d8b76a84row24_col11,#T_1873d7cc_599d_11eb_afb3_cba9d8b76a84row25_col26{\n",
       "            background-color:  #f1ccb8;\n",
       "            color:  #000000;\n",
       "        }#T_1873d7cc_599d_11eb_afb3_cba9d8b76a84row6_col26{\n",
       "            background-color:  #d44e41;\n",
       "            color:  #000000;\n",
       "        }#T_1873d7cc_599d_11eb_afb3_cba9d8b76a84row6_col29,#T_1873d7cc_599d_11eb_afb3_cba9d8b76a84row7_col25,#T_1873d7cc_599d_11eb_afb3_cba9d8b76a84row8_col25,#T_1873d7cc_599d_11eb_afb3_cba9d8b76a84row20_col19,#T_1873d7cc_599d_11eb_afb3_cba9d8b76a84row24_col6,#T_1873d7cc_599d_11eb_afb3_cba9d8b76a84row28_col11{\n",
       "            background-color:  #dfdbd9;\n",
       "            color:  #000000;\n",
       "        }#T_1873d7cc_599d_11eb_afb3_cba9d8b76a84row6_col30,#T_1873d7cc_599d_11eb_afb3_cba9d8b76a84row26_col23{\n",
       "            background-color:  #f7aa8c;\n",
       "            color:  #000000;\n",
       "        }#T_1873d7cc_599d_11eb_afb3_cba9d8b76a84row7_col8{\n",
       "            background-color:  #cd423b;\n",
       "            color:  #f1f1f1;\n",
       "        }#T_1873d7cc_599d_11eb_afb3_cba9d8b76a84row7_col10,#T_1873d7cc_599d_11eb_afb3_cba9d8b76a84row16_col1,#T_1873d7cc_599d_11eb_afb3_cba9d8b76a84row16_col4,#T_1873d7cc_599d_11eb_afb3_cba9d8b76a84row16_col24{\n",
       "            background-color:  #d1dae9;\n",
       "            color:  #000000;\n",
       "        }#T_1873d7cc_599d_11eb_afb3_cba9d8b76a84row7_col12,#T_1873d7cc_599d_11eb_afb3_cba9d8b76a84row14_col10{\n",
       "            background-color:  #7295f4;\n",
       "            color:  #000000;\n",
       "        }#T_1873d7cc_599d_11eb_afb3_cba9d8b76a84row7_col14,#T_1873d7cc_599d_11eb_afb3_cba9d8b76a84row13_col3,#T_1873d7cc_599d_11eb_afb3_cba9d8b76a84row13_col4{\n",
       "            background-color:  #f7b396;\n",
       "            color:  #000000;\n",
       "        }#T_1873d7cc_599d_11eb_afb3_cba9d8b76a84row7_col15,#T_1873d7cc_599d_11eb_afb3_cba9d8b76a84row14_col15,#T_1873d7cc_599d_11eb_afb3_cba9d8b76a84row23_col17,#T_1873d7cc_599d_11eb_afb3_cba9d8b76a84row29_col22{\n",
       "            background-color:  #9ebeff;\n",
       "            color:  #000000;\n",
       "        }#T_1873d7cc_599d_11eb_afb3_cba9d8b76a84row7_col17{\n",
       "            background-color:  #e9785d;\n",
       "            color:  #000000;\n",
       "        }#T_1873d7cc_599d_11eb_afb3_cba9d8b76a84row7_col18,#T_1873d7cc_599d_11eb_afb3_cba9d8b76a84row9_col29,#T_1873d7cc_599d_11eb_afb3_cba9d8b76a84row14_col0,#T_1873d7cc_599d_11eb_afb3_cba9d8b76a84row27_col21{\n",
       "            background-color:  #f59d7e;\n",
       "            color:  #000000;\n",
       "        }#T_1873d7cc_599d_11eb_afb3_cba9d8b76a84row7_col22,#T_1873d7cc_599d_11eb_afb3_cba9d8b76a84row9_col15,#T_1873d7cc_599d_11eb_afb3_cba9d8b76a84row11_col2,#T_1873d7cc_599d_11eb_afb3_cba9d8b76a84row11_col12,#T_1873d7cc_599d_11eb_afb3_cba9d8b76a84row11_col19,#T_1873d7cc_599d_11eb_afb3_cba9d8b76a84row13_col19,#T_1873d7cc_599d_11eb_afb3_cba9d8b76a84row20_col5,#T_1873d7cc_599d_11eb_afb3_cba9d8b76a84row20_col12,#T_1873d7cc_599d_11eb_afb3_cba9d8b76a84row21_col2,#T_1873d7cc_599d_11eb_afb3_cba9d8b76a84row22_col14{\n",
       "            background-color:  #c0d4f5;\n",
       "            color:  #000000;\n",
       "        }#T_1873d7cc_599d_11eb_afb3_cba9d8b76a84row7_col26{\n",
       "            background-color:  #e16751;\n",
       "            color:  #000000;\n",
       "        }#T_1873d7cc_599d_11eb_afb3_cba9d8b76a84row7_col27,#T_1873d7cc_599d_11eb_afb3_cba9d8b76a84row8_col28{\n",
       "            background-color:  #c83836;\n",
       "            color:  #f1f1f1;\n",
       "        }#T_1873d7cc_599d_11eb_afb3_cba9d8b76a84row7_col29,#T_1873d7cc_599d_11eb_afb3_cba9d8b76a84row10_col26,#T_1873d7cc_599d_11eb_afb3_cba9d8b76a84row17_col11,#T_1873d7cc_599d_11eb_afb3_cba9d8b76a84row22_col27,#T_1873d7cc_599d_11eb_afb3_cba9d8b76a84row29_col23{\n",
       "            background-color:  #cfdaea;\n",
       "            color:  #000000;\n",
       "        }#T_1873d7cc_599d_11eb_afb3_cba9d8b76a84row7_col30,#T_1873d7cc_599d_11eb_afb3_cba9d8b76a84row11_col7,#T_1873d7cc_599d_11eb_afb3_cba9d8b76a84row13_col6,#T_1873d7cc_599d_11eb_afb3_cba9d8b76a84row18_col1,#T_1873d7cc_599d_11eb_afb3_cba9d8b76a84row18_col4,#T_1873d7cc_599d_11eb_afb3_cba9d8b76a84row20_col26,#T_1873d7cc_599d_11eb_afb3_cba9d8b76a84row28_col25,#T_1873d7cc_599d_11eb_afb3_cba9d8b76a84row29_col26{\n",
       "            background-color:  #ecd3c5;\n",
       "            color:  #000000;\n",
       "        }#T_1873d7cc_599d_11eb_afb3_cba9d8b76a84row8_col1,#T_1873d7cc_599d_11eb_afb3_cba9d8b76a84row14_col23,#T_1873d7cc_599d_11eb_afb3_cba9d8b76a84row30_col10{\n",
       "            background-color:  #e97a5f;\n",
       "            color:  #000000;\n",
       "        }#T_1873d7cc_599d_11eb_afb3_cba9d8b76a84row8_col4,#T_1873d7cc_599d_11eb_afb3_cba9d8b76a84row23_col8,#T_1873d7cc_599d_11eb_afb3_cba9d8b76a84row28_col6{\n",
       "            background-color:  #ea7b60;\n",
       "            color:  #000000;\n",
       "        }#T_1873d7cc_599d_11eb_afb3_cba9d8b76a84row8_col6{\n",
       "            background-color:  #e57058;\n",
       "            color:  #000000;\n",
       "        }#T_1873d7cc_599d_11eb_afb3_cba9d8b76a84row8_col7,#T_1873d7cc_599d_11eb_afb3_cba9d8b76a84row14_col13,#T_1873d7cc_599d_11eb_afb3_cba9d8b76a84row26_col27,#T_1873d7cc_599d_11eb_afb3_cba9d8b76a84row27_col26{\n",
       "            background-color:  #cf453c;\n",
       "            color:  #f1f1f1;\n",
       "        }#T_1873d7cc_599d_11eb_afb3_cba9d8b76a84row8_col17,#T_1873d7cc_599d_11eb_afb3_cba9d8b76a84row25_col28{\n",
       "            background-color:  #f2cbb7;\n",
       "            color:  #000000;\n",
       "        }#T_1873d7cc_599d_11eb_afb3_cba9d8b76a84row8_col23,#T_1873d7cc_599d_11eb_afb3_cba9d8b76a84row28_col23,#T_1873d7cc_599d_11eb_afb3_cba9d8b76a84row28_col26{\n",
       "            background-color:  #e26952;\n",
       "            color:  #000000;\n",
       "        }#T_1873d7cc_599d_11eb_afb3_cba9d8b76a84row8_col24,#T_1873d7cc_599d_11eb_afb3_cba9d8b76a84row27_col8,#T_1873d7cc_599d_11eb_afb3_cba9d8b76a84row28_col21{\n",
       "            background-color:  #e7745b;\n",
       "            color:  #000000;\n",
       "        }#T_1873d7cc_599d_11eb_afb3_cba9d8b76a84row8_col26{\n",
       "            background-color:  #f18d6f;\n",
       "            color:  #000000;\n",
       "        }#T_1873d7cc_599d_11eb_afb3_cba9d8b76a84row9_col7,#T_1873d7cc_599d_11eb_afb3_cba9d8b76a84row9_col30,#T_1873d7cc_599d_11eb_afb3_cba9d8b76a84row29_col19,#T_1873d7cc_599d_11eb_afb3_cba9d8b76a84row30_col8{\n",
       "            background-color:  #cbd8ee;\n",
       "            color:  #000000;\n",
       "        }#T_1873d7cc_599d_11eb_afb3_cba9d8b76a84row9_col8,#T_1873d7cc_599d_11eb_afb3_cba9d8b76a84row23_col22,#T_1873d7cc_599d_11eb_afb3_cba9d8b76a84row27_col20,#T_1873d7cc_599d_11eb_afb3_cba9d8b76a84row29_col21{\n",
       "            background-color:  #ccd9ed;\n",
       "            color:  #000000;\n",
       "        }#T_1873d7cc_599d_11eb_afb3_cba9d8b76a84row9_col10,#T_1873d7cc_599d_11eb_afb3_cba9d8b76a84row12_col15,#T_1873d7cc_599d_11eb_afb3_cba9d8b76a84row18_col23,#T_1873d7cc_599d_11eb_afb3_cba9d8b76a84row26_col25{\n",
       "            background-color:  #efcfbf;\n",
       "            color:  #000000;\n",
       "        }#T_1873d7cc_599d_11eb_afb3_cba9d8b76a84row9_col11,#T_1873d7cc_599d_11eb_afb3_cba9d8b76a84row17_col5,#T_1873d7cc_599d_11eb_afb3_cba9d8b76a84row20_col14,#T_1873d7cc_599d_11eb_afb3_cba9d8b76a84row21_col29,#T_1873d7cc_599d_11eb_afb3_cba9d8b76a84row26_col11,#T_1873d7cc_599d_11eb_afb3_cba9d8b76a84row28_col20,#T_1873d7cc_599d_11eb_afb3_cba9d8b76a84row30_col9,#T_1873d7cc_599d_11eb_afb3_cba9d8b76a84row30_col21{\n",
       "            background-color:  #abc8fd;\n",
       "            color:  #000000;\n",
       "        }#T_1873d7cc_599d_11eb_afb3_cba9d8b76a84row9_col12,#T_1873d7cc_599d_11eb_afb3_cba9d8b76a84row14_col16,#T_1873d7cc_599d_11eb_afb3_cba9d8b76a84row20_col1,#T_1873d7cc_599d_11eb_afb3_cba9d8b76a84row20_col21,#T_1873d7cc_599d_11eb_afb3_cba9d8b76a84row20_col24,#T_1873d7cc_599d_11eb_afb3_cba9d8b76a84row21_col25{\n",
       "            background-color:  #8db0fe;\n",
       "            color:  #000000;\n",
       "        }#T_1873d7cc_599d_11eb_afb3_cba9d8b76a84row9_col13,#T_1873d7cc_599d_11eb_afb3_cba9d8b76a84row11_col5,#T_1873d7cc_599d_11eb_afb3_cba9d8b76a84row12_col20,#T_1873d7cc_599d_11eb_afb3_cba9d8b76a84row21_col18,#T_1873d7cc_599d_11eb_afb3_cba9d8b76a84row22_col8,#T_1873d7cc_599d_11eb_afb3_cba9d8b76a84row27_col9{\n",
       "            background-color:  #a5c3fe;\n",
       "            color:  #000000;\n",
       "        }#T_1873d7cc_599d_11eb_afb3_cba9d8b76a84row9_col22,#T_1873d7cc_599d_11eb_afb3_cba9d8b76a84row14_col9,#T_1873d7cc_599d_11eb_afb3_cba9d8b76a84row25_col11{\n",
       "            background-color:  #7b9ff9;\n",
       "            color:  #000000;\n",
       "        }#T_1873d7cc_599d_11eb_afb3_cba9d8b76a84row10_col0,#T_1873d7cc_599d_11eb_afb3_cba9d8b76a84row15_col17,#T_1873d7cc_599d_11eb_afb3_cba9d8b76a84row15_col22,#T_1873d7cc_599d_11eb_afb3_cba9d8b76a84row21_col9{\n",
       "            background-color:  #4c66d6;\n",
       "            color:  #000000;\n",
       "        }#T_1873d7cc_599d_11eb_afb3_cba9d8b76a84row10_col6,#T_1873d7cc_599d_11eb_afb3_cba9d8b76a84row16_col3,#T_1873d7cc_599d_11eb_afb3_cba9d8b76a84row16_col14,#T_1873d7cc_599d_11eb_afb3_cba9d8b76a84row18_col10,#T_1873d7cc_599d_11eb_afb3_cba9d8b76a84row25_col0{\n",
       "            background-color:  #d6dce4;\n",
       "            color:  #000000;\n",
       "        }#T_1873d7cc_599d_11eb_afb3_cba9d8b76a84row10_col7,#T_1873d7cc_599d_11eb_afb3_cba9d8b76a84row11_col29,#T_1873d7cc_599d_11eb_afb3_cba9d8b76a84row19_col11{\n",
       "            background-color:  #89acfd;\n",
       "            color:  #000000;\n",
       "        }#T_1873d7cc_599d_11eb_afb3_cba9d8b76a84row10_col8,#T_1873d7cc_599d_11eb_afb3_cba9d8b76a84row15_col14,#T_1873d7cc_599d_11eb_afb3_cba9d8b76a84row21_col30,#T_1873d7cc_599d_11eb_afb3_cba9d8b76a84row30_col2{\n",
       "            background-color:  #6f92f3;\n",
       "            color:  #000000;\n",
       "        }#T_1873d7cc_599d_11eb_afb3_cba9d8b76a84row10_col12,#T_1873d7cc_599d_11eb_afb3_cba9d8b76a84row14_col20,#T_1873d7cc_599d_11eb_afb3_cba9d8b76a84row20_col0{\n",
       "            background-color:  #93b5fe;\n",
       "            color:  #000000;\n",
       "        }#T_1873d7cc_599d_11eb_afb3_cba9d8b76a84row10_col18,#T_1873d7cc_599d_11eb_afb3_cba9d8b76a84row25_col19{\n",
       "            background-color:  #7396f5;\n",
       "            color:  #000000;\n",
       "        }#T_1873d7cc_599d_11eb_afb3_cba9d8b76a84row10_col22,#T_1873d7cc_599d_11eb_afb3_cba9d8b76a84row19_col6,#T_1873d7cc_599d_11eb_afb3_cba9d8b76a84row26_col12,#T_1873d7cc_599d_11eb_afb3_cba9d8b76a84row29_col17{\n",
       "            background-color:  #4a63d3;\n",
       "            color:  #f1f1f1;\n",
       "        }#T_1873d7cc_599d_11eb_afb3_cba9d8b76a84row11_col1,#T_1873d7cc_599d_11eb_afb3_cba9d8b76a84row11_col3,#T_1873d7cc_599d_11eb_afb3_cba9d8b76a84row14_col28,#T_1873d7cc_599d_11eb_afb3_cba9d8b76a84row18_col27,#T_1873d7cc_599d_11eb_afb3_cba9d8b76a84row26_col21{\n",
       "            background-color:  #f7b89c;\n",
       "            color:  #000000;\n",
       "        }#T_1873d7cc_599d_11eb_afb3_cba9d8b76a84row11_col6,#T_1873d7cc_599d_11eb_afb3_cba9d8b76a84row12_col2,#T_1873d7cc_599d_11eb_afb3_cba9d8b76a84row22_col3,#T_1873d7cc_599d_11eb_afb3_cba9d8b76a84row29_col10{\n",
       "            background-color:  #d8dce2;\n",
       "            color:  #000000;\n",
       "        }#T_1873d7cc_599d_11eb_afb3_cba9d8b76a84row11_col9,#T_1873d7cc_599d_11eb_afb3_cba9d8b76a84row13_col29,#T_1873d7cc_599d_11eb_afb3_cba9d8b76a84row20_col4{\n",
       "            background-color:  #8fb1fe;\n",
       "            color:  #000000;\n",
       "        }#T_1873d7cc_599d_11eb_afb3_cba9d8b76a84row11_col13{\n",
       "            background-color:  #c43032;\n",
       "            color:  #f1f1f1;\n",
       "        }#T_1873d7cc_599d_11eb_afb3_cba9d8b76a84row11_col14,#T_1873d7cc_599d_11eb_afb3_cba9d8b76a84row13_col11{\n",
       "            background-color:  #c32e31;\n",
       "            color:  #f1f1f1;\n",
       "        }#T_1873d7cc_599d_11eb_afb3_cba9d8b76a84row11_col15,#T_1873d7cc_599d_11eb_afb3_cba9d8b76a84row18_col19,#T_1873d7cc_599d_11eb_afb3_cba9d8b76a84row27_col5{\n",
       "            background-color:  #c5d6f2;\n",
       "            color:  #000000;\n",
       "        }#T_1873d7cc_599d_11eb_afb3_cba9d8b76a84row11_col25,#T_1873d7cc_599d_11eb_afb3_cba9d8b76a84row18_col22,#T_1873d7cc_599d_11eb_afb3_cba9d8b76a84row21_col17{\n",
       "            background-color:  #88abfd;\n",
       "            color:  #000000;\n",
       "        }#T_1873d7cc_599d_11eb_afb3_cba9d8b76a84row11_col26,#T_1873d7cc_599d_11eb_afb3_cba9d8b76a84row13_col12,#T_1873d7cc_599d_11eb_afb3_cba9d8b76a84row14_col22{\n",
       "            background-color:  #bed2f6;\n",
       "            color:  #000000;\n",
       "        }#T_1873d7cc_599d_11eb_afb3_cba9d8b76a84row11_col27,#T_1873d7cc_599d_11eb_afb3_cba9d8b76a84row15_col20,#T_1873d7cc_599d_11eb_afb3_cba9d8b76a84row19_col12,#T_1873d7cc_599d_11eb_afb3_cba9d8b76a84row26_col5{\n",
       "            background-color:  #d4dbe6;\n",
       "            color:  #000000;\n",
       "        }#T_1873d7cc_599d_11eb_afb3_cba9d8b76a84row11_col28,#T_1873d7cc_599d_11eb_afb3_cba9d8b76a84row17_col23,#T_1873d7cc_599d_11eb_afb3_cba9d8b76a84row25_col27,#T_1873d7cc_599d_11eb_afb3_cba9d8b76a84row27_col18{\n",
       "            background-color:  #edd2c3;\n",
       "            color:  #000000;\n",
       "        }#T_1873d7cc_599d_11eb_afb3_cba9d8b76a84row12_col0{\n",
       "            background-color:  #5a78e4;\n",
       "            color:  #000000;\n",
       "        }#T_1873d7cc_599d_11eb_afb3_cba9d8b76a84row12_col8,#T_1873d7cc_599d_11eb_afb3_cba9d8b76a84row12_col28,#T_1873d7cc_599d_11eb_afb3_cba9d8b76a84row15_col0,#T_1873d7cc_599d_11eb_afb3_cba9d8b76a84row15_col26,#T_1873d7cc_599d_11eb_afb3_cba9d8b76a84row22_col5{\n",
       "            background-color:  #455cce;\n",
       "            color:  #f1f1f1;\n",
       "        }#T_1873d7cc_599d_11eb_afb3_cba9d8b76a84row12_col9{\n",
       "            background-color:  #445acc;\n",
       "            color:  #f1f1f1;\n",
       "        }#T_1873d7cc_599d_11eb_afb3_cba9d8b76a84row12_col11,#T_1873d7cc_599d_11eb_afb3_cba9d8b76a84row22_col29,#T_1873d7cc_599d_11eb_afb3_cba9d8b76a84row24_col18{\n",
       "            background-color:  #a2c1ff;\n",
       "            color:  #000000;\n",
       "        }#T_1873d7cc_599d_11eb_afb3_cba9d8b76a84row12_col16,#T_1873d7cc_599d_11eb_afb3_cba9d8b76a84row21_col20,#T_1873d7cc_599d_11eb_afb3_cba9d8b76a84row29_col12{\n",
       "            background-color:  #4257c9;\n",
       "            color:  #f1f1f1;\n",
       "        }#T_1873d7cc_599d_11eb_afb3_cba9d8b76a84row12_col22,#T_1873d7cc_599d_11eb_afb3_cba9d8b76a84row13_col27,#T_1873d7cc_599d_11eb_afb3_cba9d8b76a84row17_col3,#T_1873d7cc_599d_11eb_afb3_cba9d8b76a84row28_col13,#T_1873d7cc_599d_11eb_afb3_cba9d8b76a84row30_col29{\n",
       "            background-color:  #e8d6cc;\n",
       "            color:  #000000;\n",
       "        }#T_1873d7cc_599d_11eb_afb3_cba9d8b76a84row12_col24,#T_1873d7cc_599d_11eb_afb3_cba9d8b76a84row14_col30{\n",
       "            background-color:  #6485ec;\n",
       "            color:  #000000;\n",
       "        }#T_1873d7cc_599d_11eb_afb3_cba9d8b76a84row13_col1{\n",
       "            background-color:  #f7b497;\n",
       "            color:  #000000;\n",
       "        }#T_1873d7cc_599d_11eb_afb3_cba9d8b76a84row13_col10,#T_1873d7cc_599d_11eb_afb3_cba9d8b76a84row14_col12{\n",
       "            background-color:  #9fbfff;\n",
       "            color:  #000000;\n",
       "        }#T_1873d7cc_599d_11eb_afb3_cba9d8b76a84row13_col14,#T_1873d7cc_599d_11eb_afb3_cba9d8b76a84row27_col7{\n",
       "            background-color:  #cb3e38;\n",
       "            color:  #f1f1f1;\n",
       "        }#T_1873d7cc_599d_11eb_afb3_cba9d8b76a84row13_col17,#T_1873d7cc_599d_11eb_afb3_cba9d8b76a84row22_col28,#T_1873d7cc_599d_11eb_afb3_cba9d8b76a84row27_col10,#T_1873d7cc_599d_11eb_afb3_cba9d8b76a84row27_col22{\n",
       "            background-color:  #cdd9ec;\n",
       "            color:  #000000;\n",
       "        }#T_1873d7cc_599d_11eb_afb3_cba9d8b76a84row13_col18,#T_1873d7cc_599d_11eb_afb3_cba9d8b76a84row16_col8,#T_1873d7cc_599d_11eb_afb3_cba9d8b76a84row16_col10,#T_1873d7cc_599d_11eb_afb3_cba9d8b76a84row18_col26{\n",
       "            background-color:  #f4c6af;\n",
       "            color:  #000000;\n",
       "        }#T_1873d7cc_599d_11eb_afb3_cba9d8b76a84row13_col20,#T_1873d7cc_599d_11eb_afb3_cba9d8b76a84row14_col2,#T_1873d7cc_599d_11eb_afb3_cba9d8b76a84row16_col11,#T_1873d7cc_599d_11eb_afb3_cba9d8b76a84row16_col19{\n",
       "            background-color:  #c9d7f0;\n",
       "            color:  #000000;\n",
       "        }#T_1873d7cc_599d_11eb_afb3_cba9d8b76a84row13_col21,#T_1873d7cc_599d_11eb_afb3_cba9d8b76a84row13_col24,#T_1873d7cc_599d_11eb_afb3_cba9d8b76a84row18_col16,#T_1873d7cc_599d_11eb_afb3_cba9d8b76a84row27_col1,#T_1873d7cc_599d_11eb_afb3_cba9d8b76a84row27_col4{\n",
       "            background-color:  #f7ac8e;\n",
       "            color:  #000000;\n",
       "        }#T_1873d7cc_599d_11eb_afb3_cba9d8b76a84row13_col23,#T_1873d7cc_599d_11eb_afb3_cba9d8b76a84row23_col7,#T_1873d7cc_599d_11eb_afb3_cba9d8b76a84row30_col20{\n",
       "            background-color:  #f7a688;\n",
       "            color:  #000000;\n",
       "        }#T_1873d7cc_599d_11eb_afb3_cba9d8b76a84row13_col30,#T_1873d7cc_599d_11eb_afb3_cba9d8b76a84row18_col29{\n",
       "            background-color:  #84a7fc;\n",
       "            color:  #000000;\n",
       "        }#T_1873d7cc_599d_11eb_afb3_cba9d8b76a84row14_col5,#T_1873d7cc_599d_11eb_afb3_cba9d8b76a84row18_col2{\n",
       "            background-color:  #97b8ff;\n",
       "            color:  #000000;\n",
       "        }#T_1873d7cc_599d_11eb_afb3_cba9d8b76a84row14_col11{\n",
       "            background-color:  #c53334;\n",
       "            color:  #f1f1f1;\n",
       "        }#T_1873d7cc_599d_11eb_afb3_cba9d8b76a84row14_col21,#T_1873d7cc_599d_11eb_afb3_cba9d8b76a84row14_col24,#T_1873d7cc_599d_11eb_afb3_cba9d8b76a84row17_col27,#T_1873d7cc_599d_11eb_afb3_cba9d8b76a84row27_col6,#T_1873d7cc_599d_11eb_afb3_cba9d8b76a84row28_col24{\n",
       "            background-color:  #e8765c;\n",
       "            color:  #000000;\n",
       "        }#T_1873d7cc_599d_11eb_afb3_cba9d8b76a84row15_col2,#T_1873d7cc_599d_11eb_afb3_cba9d8b76a84row23_col9{\n",
       "            background-color:  #5673e0;\n",
       "            color:  #000000;\n",
       "        }#T_1873d7cc_599d_11eb_afb3_cba9d8b76a84row15_col7,#T_1873d7cc_599d_11eb_afb3_cba9d8b76a84row15_col27,#T_1873d7cc_599d_11eb_afb3_cba9d8b76a84row15_col29,#T_1873d7cc_599d_11eb_afb3_cba9d8b76a84row19_col23,#T_1873d7cc_599d_11eb_afb3_cba9d8b76a84row21_col10,#T_1873d7cc_599d_11eb_afb3_cba9d8b76a84row24_col9{\n",
       "            background-color:  #4961d2;\n",
       "            color:  #f1f1f1;\n",
       "        }#T_1873d7cc_599d_11eb_afb3_cba9d8b76a84row15_col9,#T_1873d7cc_599d_11eb_afb3_cba9d8b76a84row25_col12{\n",
       "            background-color:  #5b7ae5;\n",
       "            color:  #000000;\n",
       "        }#T_1873d7cc_599d_11eb_afb3_cba9d8b76a84row15_col16,#T_1873d7cc_599d_11eb_afb3_cba9d8b76a84row21_col16,#T_1873d7cc_599d_11eb_afb3_cba9d8b76a84row22_col20{\n",
       "            background-color:  #5875e1;\n",
       "            color:  #000000;\n",
       "        }#T_1873d7cc_599d_11eb_afb3_cba9d8b76a84row15_col19,#T_1873d7cc_599d_11eb_afb3_cba9d8b76a84row21_col13,#T_1873d7cc_599d_11eb_afb3_cba9d8b76a84row24_col13{\n",
       "            background-color:  #efcebd;\n",
       "            color:  #000000;\n",
       "        }#T_1873d7cc_599d_11eb_afb3_cba9d8b76a84row15_col28,#T_1873d7cc_599d_11eb_afb3_cba9d8b76a84row19_col30,#T_1873d7cc_599d_11eb_afb3_cba9d8b76a84row22_col17{\n",
       "            background-color:  #4b64d5;\n",
       "            color:  #f1f1f1;\n",
       "        }#T_1873d7cc_599d_11eb_afb3_cba9d8b76a84row16_col0,#T_1873d7cc_599d_11eb_afb3_cba9d8b76a84row21_col22,#T_1873d7cc_599d_11eb_afb3_cba9d8b76a84row24_col22,#T_1873d7cc_599d_11eb_afb3_cba9d8b76a84row29_col24{\n",
       "            background-color:  #cad8ef;\n",
       "            color:  #000000;\n",
       "        }#T_1873d7cc_599d_11eb_afb3_cba9d8b76a84row16_col27,#T_1873d7cc_599d_11eb_afb3_cba9d8b76a84row23_col27,#T_1873d7cc_599d_11eb_afb3_cba9d8b76a84row26_col16,#T_1873d7cc_599d_11eb_afb3_cba9d8b76a84row27_col0{\n",
       "            background-color:  #f5a081;\n",
       "            color:  #000000;\n",
       "        }#T_1873d7cc_599d_11eb_afb3_cba9d8b76a84row17_col8{\n",
       "            background-color:  #f7b194;\n",
       "            color:  #000000;\n",
       "        }#T_1873d7cc_599d_11eb_afb3_cba9d8b76a84row17_col12{\n",
       "            background-color:  #9dbdff;\n",
       "            color:  #000000;\n",
       "        }#T_1873d7cc_599d_11eb_afb3_cba9d8b76a84row17_col16{\n",
       "            background-color:  #e36c55;\n",
       "            color:  #000000;\n",
       "        }#T_1873d7cc_599d_11eb_afb3_cba9d8b76a84row17_col18{\n",
       "            background-color:  #f18f71;\n",
       "            color:  #000000;\n",
       "        }#T_1873d7cc_599d_11eb_afb3_cba9d8b76a84row17_col26{\n",
       "            background-color:  #f4987a;\n",
       "            color:  #000000;\n",
       "        }#T_1873d7cc_599d_11eb_afb3_cba9d8b76a84row19_col10,#T_1873d7cc_599d_11eb_afb3_cba9d8b76a84row22_col1{\n",
       "            background-color:  #dbdcde;\n",
       "            color:  #000000;\n",
       "        }#T_1873d7cc_599d_11eb_afb3_cba9d8b76a84row19_col13{\n",
       "            background-color:  #799cf8;\n",
       "            color:  #000000;\n",
       "        }#T_1873d7cc_599d_11eb_afb3_cba9d8b76a84row19_col15,#T_1873d7cc_599d_11eb_afb3_cba9d8b76a84row20_col6,#T_1873d7cc_599d_11eb_afb3_cba9d8b76a84row23_col13{\n",
       "            background-color:  #f2cab5;\n",
       "            color:  #000000;\n",
       "        }#T_1873d7cc_599d_11eb_afb3_cba9d8b76a84row20_col2,#T_1873d7cc_599d_11eb_afb3_cba9d8b76a84row27_col15,#T_1873d7cc_599d_11eb_afb3_cba9d8b76a84row29_col15{\n",
       "            background-color:  #7a9df8;\n",
       "            color:  #000000;\n",
       "        }#T_1873d7cc_599d_11eb_afb3_cba9d8b76a84row20_col15,#T_1873d7cc_599d_11eb_afb3_cba9d8b76a84row20_col17,#T_1873d7cc_599d_11eb_afb3_cba9d8b76a84row23_col11{\n",
       "            background-color:  #f1cdba;\n",
       "            color:  #000000;\n",
       "        }#T_1873d7cc_599d_11eb_afb3_cba9d8b76a84row20_col16,#T_1873d7cc_599d_11eb_afb3_cba9d8b76a84row20_col30{\n",
       "            background-color:  #f6a385;\n",
       "            color:  #000000;\n",
       "        }#T_1873d7cc_599d_11eb_afb3_cba9d8b76a84row21_col5,#T_1873d7cc_599d_11eb_afb3_cba9d8b76a84row29_col20{\n",
       "            background-color:  #7597f6;\n",
       "            color:  #000000;\n",
       "        }#T_1873d7cc_599d_11eb_afb3_cba9d8b76a84row21_col14,#T_1873d7cc_599d_11eb_afb3_cba9d8b76a84row24_col14,#T_1873d7cc_599d_11eb_afb3_cba9d8b76a84row28_col0,#T_1873d7cc_599d_11eb_afb3_cba9d8b76a84row28_col1{\n",
       "            background-color:  #ee8468;\n",
       "            color:  #000000;\n",
       "        }#T_1873d7cc_599d_11eb_afb3_cba9d8b76a84row21_col23,#T_1873d7cc_599d_11eb_afb3_cba9d8b76a84row23_col21,#T_1873d7cc_599d_11eb_afb3_cba9d8b76a84row23_col24,#T_1873d7cc_599d_11eb_afb3_cba9d8b76a84row24_col23{\n",
       "            background-color:  #b50927;\n",
       "            color:  #f1f1f1;\n",
       "        }#T_1873d7cc_599d_11eb_afb3_cba9d8b76a84row23_col0,#T_1873d7cc_599d_11eb_afb3_cba9d8b76a84row28_col3{\n",
       "            background-color:  #eb7d62;\n",
       "            color:  #000000;\n",
       "        }#T_1873d7cc_599d_11eb_afb3_cba9d8b76a84row23_col20{\n",
       "            background-color:  #516ddb;\n",
       "            color:  #000000;\n",
       "        }#T_1873d7cc_599d_11eb_afb3_cba9d8b76a84row23_col25,#T_1873d7cc_599d_11eb_afb3_cba9d8b76a84row30_col22{\n",
       "            background-color:  #94b6ff;\n",
       "            color:  #000000;\n",
       "        }#T_1873d7cc_599d_11eb_afb3_cba9d8b76a84row25_col5{\n",
       "            background-color:  #ef886b;\n",
       "            color:  #000000;\n",
       "        }#T_1873d7cc_599d_11eb_afb3_cba9d8b76a84row25_col7,#T_1873d7cc_599d_11eb_afb3_cba9d8b76a84row26_col14,#T_1873d7cc_599d_11eb_afb3_cba9d8b76a84row28_col16{\n",
       "            background-color:  #d7dce3;\n",
       "            color:  #000000;\n",
       "        }#T_1873d7cc_599d_11eb_afb3_cba9d8b76a84row25_col17{\n",
       "            background-color:  #6788ee;\n",
       "            color:  #000000;\n",
       "        }#T_1873d7cc_599d_11eb_afb3_cba9d8b76a84row25_col18{\n",
       "            background-color:  #7699f6;\n",
       "            color:  #000000;\n",
       "        }#T_1873d7cc_599d_11eb_afb3_cba9d8b76a84row26_col6{\n",
       "            background-color:  #d75445;\n",
       "            color:  #000000;\n",
       "        }#T_1873d7cc_599d_11eb_afb3_cba9d8b76a84row26_col24{\n",
       "            background-color:  #f7ba9f;\n",
       "            color:  #000000;\n",
       "        }#T_1873d7cc_599d_11eb_afb3_cba9d8b76a84row26_col28{\n",
       "            background-color:  #e0654f;\n",
       "            color:  #000000;\n",
       "        }#T_1873d7cc_599d_11eb_afb3_cba9d8b76a84row28_col7{\n",
       "            background-color:  #d55042;\n",
       "            color:  #000000;\n",
       "        }#T_1873d7cc_599d_11eb_afb3_cba9d8b76a84row28_col8{\n",
       "            background-color:  #ca3b37;\n",
       "            color:  #f1f1f1;\n",
       "        }#T_1873d7cc_599d_11eb_afb3_cba9d8b76a84row28_col19{\n",
       "            background-color:  #5977e3;\n",
       "            color:  #000000;\n",
       "        }#T_1873d7cc_599d_11eb_afb3_cba9d8b76a84row28_col27{\n",
       "            background-color:  #d24b40;\n",
       "            color:  #f1f1f1;\n",
       "        }#T_1873d7cc_599d_11eb_afb3_cba9d8b76a84row28_col30{\n",
       "            background-color:  #e6d7cf;\n",
       "            color:  #000000;\n",
       "        }#T_1873d7cc_599d_11eb_afb3_cba9d8b76a84row29_col16{\n",
       "            background-color:  #506bda;\n",
       "            color:  #000000;\n",
       "        }#T_1873d7cc_599d_11eb_afb3_cba9d8b76a84row30_col11{\n",
       "            background-color:  #5d7ce6;\n",
       "            color:  #000000;\n",
       "        }</style><table id=\"T_1873d7cc_599d_11eb_afb3_cba9d8b76a84\" ><thead>    <tr>        <th class=\"blank level0\" ></th>        <th class=\"col_heading level0 col0\" >diagnosis</th>        <th class=\"col_heading level0 col1\" >radius_mean</th>        <th class=\"col_heading level0 col2\" >texture_mean</th>        <th class=\"col_heading level0 col3\" >perimeter_mean</th>        <th class=\"col_heading level0 col4\" >area_mean</th>        <th class=\"col_heading level0 col5\" >smoothness_mean</th>        <th class=\"col_heading level0 col6\" >compactness_mean</th>        <th class=\"col_heading level0 col7\" >concavity_mean</th>        <th class=\"col_heading level0 col8\" >concave points_mean</th>        <th class=\"col_heading level0 col9\" >symmetry_mean</th>        <th class=\"col_heading level0 col10\" >fractal_dimension_mean</th>        <th class=\"col_heading level0 col11\" >radius_se</th>        <th class=\"col_heading level0 col12\" >texture_se</th>        <th class=\"col_heading level0 col13\" >perimeter_se</th>        <th class=\"col_heading level0 col14\" >area_se</th>        <th class=\"col_heading level0 col15\" >smoothness_se</th>        <th class=\"col_heading level0 col16\" >compactness_se</th>        <th class=\"col_heading level0 col17\" >concavity_se</th>        <th class=\"col_heading level0 col18\" >concave points_se</th>        <th class=\"col_heading level0 col19\" >symmetry_se</th>        <th class=\"col_heading level0 col20\" >fractal_dimension_se</th>        <th class=\"col_heading level0 col21\" >radius_worst</th>        <th class=\"col_heading level0 col22\" >texture_worst</th>        <th class=\"col_heading level0 col23\" >perimeter_worst</th>        <th class=\"col_heading level0 col24\" >area_worst</th>        <th class=\"col_heading level0 col25\" >smoothness_worst</th>        <th class=\"col_heading level0 col26\" >compactness_worst</th>        <th class=\"col_heading level0 col27\" >concavity_worst</th>        <th class=\"col_heading level0 col28\" >concave points_worst</th>        <th class=\"col_heading level0 col29\" >symmetry_worst</th>        <th class=\"col_heading level0 col30\" >fractal_dimension_worst</th>    </tr></thead><tbody>\n",
       "                <tr>\n",
       "                        <th id=\"T_1873d7cc_599d_11eb_afb3_cba9d8b76a84level0_row0\" class=\"row_heading level0 row0\" >diagnosis</th>\n",
       "                        <td id=\"T_1873d7cc_599d_11eb_afb3_cba9d8b76a84row0_col0\" class=\"data row0 col0\" >1.0</td>\n",
       "                        <td id=\"T_1873d7cc_599d_11eb_afb3_cba9d8b76a84row0_col1\" class=\"data row0 col1\" >0.733</td>\n",
       "                        <td id=\"T_1873d7cc_599d_11eb_afb3_cba9d8b76a84row0_col2\" class=\"data row0 col2\" >0.462</td>\n",
       "                        <td id=\"T_1873d7cc_599d_11eb_afb3_cba9d8b76a84row0_col3\" class=\"data row0 col3\" >0.748</td>\n",
       "                        <td id=\"T_1873d7cc_599d_11eb_afb3_cba9d8b76a84row0_col4\" class=\"data row0 col4\" >0.734</td>\n",
       "                        <td id=\"T_1873d7cc_599d_11eb_afb3_cba9d8b76a84row0_col5\" class=\"data row0 col5\" >0.372</td>\n",
       "                        <td id=\"T_1873d7cc_599d_11eb_afb3_cba9d8b76a84row0_col6\" class=\"data row0 col6\" >0.609</td>\n",
       "                        <td id=\"T_1873d7cc_599d_11eb_afb3_cba9d8b76a84row0_col7\" class=\"data row0 col7\" >0.733</td>\n",
       "                        <td id=\"T_1873d7cc_599d_11eb_afb3_cba9d8b76a84row0_col8\" class=\"data row0 col8\" >0.778</td>\n",
       "                        <td id=\"T_1873d7cc_599d_11eb_afb3_cba9d8b76a84row0_col9\" class=\"data row0 col9\" >0.333</td>\n",
       "                        <td id=\"T_1873d7cc_599d_11eb_afb3_cba9d8b76a84row0_col10\" class=\"data row0 col10\" >-0.0259</td>\n",
       "                        <td id=\"T_1873d7cc_599d_11eb_afb3_cba9d8b76a84row0_col11\" class=\"data row0 col11\" >0.617</td>\n",
       "                        <td id=\"T_1873d7cc_599d_11eb_afb3_cba9d8b76a84row0_col12\" class=\"data row0 col12\" >0.0194</td>\n",
       "                        <td id=\"T_1873d7cc_599d_11eb_afb3_cba9d8b76a84row0_col13\" class=\"data row0 col13\" >0.63</td>\n",
       "                        <td id=\"T_1873d7cc_599d_11eb_afb3_cba9d8b76a84row0_col14\" class=\"data row0 col14\" >0.714</td>\n",
       "                        <td id=\"T_1873d7cc_599d_11eb_afb3_cba9d8b76a84row0_col15\" class=\"data row0 col15\" >-0.0522</td>\n",
       "                        <td id=\"T_1873d7cc_599d_11eb_afb3_cba9d8b76a84row0_col16\" class=\"data row0 col16\" >0.381</td>\n",
       "                        <td id=\"T_1873d7cc_599d_11eb_afb3_cba9d8b76a84row0_col17\" class=\"data row0 col17\" >0.47</td>\n",
       "                        <td id=\"T_1873d7cc_599d_11eb_afb3_cba9d8b76a84row0_col18\" class=\"data row0 col18\" >0.489</td>\n",
       "                        <td id=\"T_1873d7cc_599d_11eb_afb3_cba9d8b76a84row0_col19\" class=\"data row0 col19\" >-0.0923</td>\n",
       "                        <td id=\"T_1873d7cc_599d_11eb_afb3_cba9d8b76a84row0_col20\" class=\"data row0 col20\" >0.201</td>\n",
       "                        <td id=\"T_1873d7cc_599d_11eb_afb3_cba9d8b76a84row0_col21\" class=\"data row0 col21\" >0.788</td>\n",
       "                        <td id=\"T_1873d7cc_599d_11eb_afb3_cba9d8b76a84row0_col22\" class=\"data row0 col22\" >0.477</td>\n",
       "                        <td id=\"T_1873d7cc_599d_11eb_afb3_cba9d8b76a84row0_col23\" class=\"data row0 col23\" >0.796</td>\n",
       "                        <td id=\"T_1873d7cc_599d_11eb_afb3_cba9d8b76a84row0_col24\" class=\"data row0 col24\" >0.787</td>\n",
       "                        <td id=\"T_1873d7cc_599d_11eb_afb3_cba9d8b76a84row0_col25\" class=\"data row0 col25\" >0.426</td>\n",
       "                        <td id=\"T_1873d7cc_599d_11eb_afb3_cba9d8b76a84row0_col26\" class=\"data row0 col26\" >0.607</td>\n",
       "                        <td id=\"T_1873d7cc_599d_11eb_afb3_cba9d8b76a84row0_col27\" class=\"data row0 col27\" >0.706</td>\n",
       "                        <td id=\"T_1873d7cc_599d_11eb_afb3_cba9d8b76a84row0_col28\" class=\"data row0 col28\" >0.782</td>\n",
       "                        <td id=\"T_1873d7cc_599d_11eb_afb3_cba9d8b76a84row0_col29\" class=\"data row0 col29\" >0.397</td>\n",
       "                        <td id=\"T_1873d7cc_599d_11eb_afb3_cba9d8b76a84row0_col30\" class=\"data row0 col30\" >0.311</td>\n",
       "            </tr>\n",
       "            <tr>\n",
       "                        <th id=\"T_1873d7cc_599d_11eb_afb3_cba9d8b76a84level0_row1\" class=\"row_heading level0 row1\" >radius_mean</th>\n",
       "                        <td id=\"T_1873d7cc_599d_11eb_afb3_cba9d8b76a84row1_col0\" class=\"data row1 col0\" >0.733</td>\n",
       "                        <td id=\"T_1873d7cc_599d_11eb_afb3_cba9d8b76a84row1_col1\" class=\"data row1 col1\" >1.0</td>\n",
       "                        <td id=\"T_1873d7cc_599d_11eb_afb3_cba9d8b76a84row1_col2\" class=\"data row1 col2\" >0.341</td>\n",
       "                        <td id=\"T_1873d7cc_599d_11eb_afb3_cba9d8b76a84row1_col3\" class=\"data row1 col3\" >0.998</td>\n",
       "                        <td id=\"T_1873d7cc_599d_11eb_afb3_cba9d8b76a84row1_col4\" class=\"data row1 col4\" >1.0</td>\n",
       "                        <td id=\"T_1873d7cc_599d_11eb_afb3_cba9d8b76a84row1_col5\" class=\"data row1 col5\" >0.149</td>\n",
       "                        <td id=\"T_1873d7cc_599d_11eb_afb3_cba9d8b76a84row1_col6\" class=\"data row1 col6\" >0.498</td>\n",
       "                        <td id=\"T_1873d7cc_599d_11eb_afb3_cba9d8b76a84row1_col7\" class=\"data row1 col7\" >0.646</td>\n",
       "                        <td id=\"T_1873d7cc_599d_11eb_afb3_cba9d8b76a84row1_col8\" class=\"data row1 col8\" >0.76</td>\n",
       "                        <td id=\"T_1873d7cc_599d_11eb_afb3_cba9d8b76a84row1_col9\" class=\"data row1 col9\" >0.12</td>\n",
       "                        <td id=\"T_1873d7cc_599d_11eb_afb3_cba9d8b76a84row1_col10\" class=\"data row1 col10\" >-0.35</td>\n",
       "                        <td id=\"T_1873d7cc_599d_11eb_afb3_cba9d8b76a84row1_col11\" class=\"data row1 col11\" >0.55</td>\n",
       "                        <td id=\"T_1873d7cc_599d_11eb_afb3_cba9d8b76a84row1_col12\" class=\"data row1 col12\" >-0.144</td>\n",
       "                        <td id=\"T_1873d7cc_599d_11eb_afb3_cba9d8b76a84row1_col13\" class=\"data row1 col13\" >0.566</td>\n",
       "                        <td id=\"T_1873d7cc_599d_11eb_afb3_cba9d8b76a84row1_col14\" class=\"data row1 col14\" >0.738</td>\n",
       "                        <td id=\"T_1873d7cc_599d_11eb_afb3_cba9d8b76a84row1_col15\" class=\"data row1 col15\" >-0.326</td>\n",
       "                        <td id=\"T_1873d7cc_599d_11eb_afb3_cba9d8b76a84row1_col16\" class=\"data row1 col16\" >0.265</td>\n",
       "                        <td id=\"T_1873d7cc_599d_11eb_afb3_cba9d8b76a84row1_col17\" class=\"data row1 col17\" >0.365</td>\n",
       "                        <td id=\"T_1873d7cc_599d_11eb_afb3_cba9d8b76a84row1_col18\" class=\"data row1 col18\" >0.411</td>\n",
       "                        <td id=\"T_1873d7cc_599d_11eb_afb3_cba9d8b76a84row1_col19\" class=\"data row1 col19\" >-0.241</td>\n",
       "                        <td id=\"T_1873d7cc_599d_11eb_afb3_cba9d8b76a84row1_col20\" class=\"data row1 col20\" >-0.00841</td>\n",
       "                        <td id=\"T_1873d7cc_599d_11eb_afb3_cba9d8b76a84row1_col21\" class=\"data row1 col21\" >0.979</td>\n",
       "                        <td id=\"T_1873d7cc_599d_11eb_afb3_cba9d8b76a84row1_col22\" class=\"data row1 col22\" >0.315</td>\n",
       "                        <td id=\"T_1873d7cc_599d_11eb_afb3_cba9d8b76a84row1_col23\" class=\"data row1 col23\" >0.972</td>\n",
       "                        <td id=\"T_1873d7cc_599d_11eb_afb3_cba9d8b76a84row1_col24\" class=\"data row1 col24\" >0.979</td>\n",
       "                        <td id=\"T_1873d7cc_599d_11eb_afb3_cba9d8b76a84row1_col25\" class=\"data row1 col25\" >0.126</td>\n",
       "                        <td id=\"T_1873d7cc_599d_11eb_afb3_cba9d8b76a84row1_col26\" class=\"data row1 col26\" >0.491</td>\n",
       "                        <td id=\"T_1873d7cc_599d_11eb_afb3_cba9d8b76a84row1_col27\" class=\"data row1 col27\" >0.596</td>\n",
       "                        <td id=\"T_1873d7cc_599d_11eb_afb3_cba9d8b76a84row1_col28\" class=\"data row1 col28\" >0.727</td>\n",
       "                        <td id=\"T_1873d7cc_599d_11eb_afb3_cba9d8b76a84row1_col29\" class=\"data row1 col29\" >0.175</td>\n",
       "                        <td id=\"T_1873d7cc_599d_11eb_afb3_cba9d8b76a84row1_col30\" class=\"data row1 col30\" >0.0446</td>\n",
       "            </tr>\n",
       "            <tr>\n",
       "                        <th id=\"T_1873d7cc_599d_11eb_afb3_cba9d8b76a84level0_row2\" class=\"row_heading level0 row2\" >texture_mean</th>\n",
       "                        <td id=\"T_1873d7cc_599d_11eb_afb3_cba9d8b76a84row2_col0\" class=\"data row2 col0\" >0.462</td>\n",
       "                        <td id=\"T_1873d7cc_599d_11eb_afb3_cba9d8b76a84row2_col1\" class=\"data row2 col1\" >0.341</td>\n",
       "                        <td id=\"T_1873d7cc_599d_11eb_afb3_cba9d8b76a84row2_col2\" class=\"data row2 col2\" >1.0</td>\n",
       "                        <td id=\"T_1873d7cc_599d_11eb_afb3_cba9d8b76a84row2_col3\" class=\"data row2 col3\" >0.348</td>\n",
       "                        <td id=\"T_1873d7cc_599d_11eb_afb3_cba9d8b76a84row2_col4\" class=\"data row2 col4\" >0.344</td>\n",
       "                        <td id=\"T_1873d7cc_599d_11eb_afb3_cba9d8b76a84row2_col5\" class=\"data row2 col5\" >0.0246</td>\n",
       "                        <td id=\"T_1873d7cc_599d_11eb_afb3_cba9d8b76a84row2_col6\" class=\"data row2 col6\" >0.266</td>\n",
       "                        <td id=\"T_1873d7cc_599d_11eb_afb3_cba9d8b76a84row2_col7\" class=\"data row2 col7\" >0.343</td>\n",
       "                        <td id=\"T_1873d7cc_599d_11eb_afb3_cba9d8b76a84row2_col8\" class=\"data row2 col8\" >0.307</td>\n",
       "                        <td id=\"T_1873d7cc_599d_11eb_afb3_cba9d8b76a84row2_col9\" class=\"data row2 col9\" >0.11</td>\n",
       "                        <td id=\"T_1873d7cc_599d_11eb_afb3_cba9d8b76a84row2_col10\" class=\"data row2 col10\" >-0.0593</td>\n",
       "                        <td id=\"T_1873d7cc_599d_11eb_afb3_cba9d8b76a84row2_col11\" class=\"data row2 col11\" >0.364</td>\n",
       "                        <td id=\"T_1873d7cc_599d_11eb_afb3_cba9d8b76a84row2_col12\" class=\"data row2 col12\" >0.451</td>\n",
       "                        <td id=\"T_1873d7cc_599d_11eb_afb3_cba9d8b76a84row2_col13\" class=\"data row2 col13\" >0.387</td>\n",
       "                        <td id=\"T_1873d7cc_599d_11eb_afb3_cba9d8b76a84row2_col14\" class=\"data row2 col14\" >0.395</td>\n",
       "                        <td id=\"T_1873d7cc_599d_11eb_afb3_cba9d8b76a84row2_col15\" class=\"data row2 col15\" >0.037</td>\n",
       "                        <td id=\"T_1873d7cc_599d_11eb_afb3_cba9d8b76a84row2_col16\" class=\"data row2 col16\" >0.264</td>\n",
       "                        <td id=\"T_1873d7cc_599d_11eb_afb3_cba9d8b76a84row2_col17\" class=\"data row2 col17\" >0.287</td>\n",
       "                        <td id=\"T_1873d7cc_599d_11eb_afb3_cba9d8b76a84row2_col18\" class=\"data row2 col18\" >0.239</td>\n",
       "                        <td id=\"T_1873d7cc_599d_11eb_afb3_cba9d8b76a84row2_col19\" class=\"data row2 col19\" >0.00895</td>\n",
       "                        <td id=\"T_1873d7cc_599d_11eb_afb3_cba9d8b76a84row2_col20\" class=\"data row2 col20\" >0.148</td>\n",
       "                        <td id=\"T_1873d7cc_599d_11eb_afb3_cba9d8b76a84row2_col21\" class=\"data row2 col21\" >0.367</td>\n",
       "                        <td id=\"T_1873d7cc_599d_11eb_afb3_cba9d8b76a84row2_col22\" class=\"data row2 col22\" >0.909</td>\n",
       "                        <td id=\"T_1873d7cc_599d_11eb_afb3_cba9d8b76a84row2_col23\" class=\"data row2 col23\" >0.375</td>\n",
       "                        <td id=\"T_1873d7cc_599d_11eb_afb3_cba9d8b76a84row2_col24\" class=\"data row2 col24\" >0.368</td>\n",
       "                        <td id=\"T_1873d7cc_599d_11eb_afb3_cba9d8b76a84row2_col25\" class=\"data row2 col25\" >0.101</td>\n",
       "                        <td id=\"T_1873d7cc_599d_11eb_afb3_cba9d8b76a84row2_col26\" class=\"data row2 col26\" >0.291</td>\n",
       "                        <td id=\"T_1873d7cc_599d_11eb_afb3_cba9d8b76a84row2_col27\" class=\"data row2 col27\" >0.34</td>\n",
       "                        <td id=\"T_1873d7cc_599d_11eb_afb3_cba9d8b76a84row2_col28\" class=\"data row2 col28\" >0.319</td>\n",
       "                        <td id=\"T_1873d7cc_599d_11eb_afb3_cba9d8b76a84row2_col29\" class=\"data row2 col29\" >0.121</td>\n",
       "                        <td id=\"T_1873d7cc_599d_11eb_afb3_cba9d8b76a84row2_col30\" class=\"data row2 col30\" >0.116</td>\n",
       "            </tr>\n",
       "            <tr>\n",
       "                        <th id=\"T_1873d7cc_599d_11eb_afb3_cba9d8b76a84level0_row3\" class=\"row_heading level0 row3\" >perimeter_mean</th>\n",
       "                        <td id=\"T_1873d7cc_599d_11eb_afb3_cba9d8b76a84row3_col0\" class=\"data row3 col0\" >0.748</td>\n",
       "                        <td id=\"T_1873d7cc_599d_11eb_afb3_cba9d8b76a84row3_col1\" class=\"data row3 col1\" >0.998</td>\n",
       "                        <td id=\"T_1873d7cc_599d_11eb_afb3_cba9d8b76a84row3_col2\" class=\"data row3 col2\" >0.348</td>\n",
       "                        <td id=\"T_1873d7cc_599d_11eb_afb3_cba9d8b76a84row3_col3\" class=\"data row3 col3\" >1.0</td>\n",
       "                        <td id=\"T_1873d7cc_599d_11eb_afb3_cba9d8b76a84row3_col4\" class=\"data row3 col4\" >0.997</td>\n",
       "                        <td id=\"T_1873d7cc_599d_11eb_afb3_cba9d8b76a84row3_col5\" class=\"data row3 col5\" >0.183</td>\n",
       "                        <td id=\"T_1873d7cc_599d_11eb_afb3_cba9d8b76a84row3_col6\" class=\"data row3 col6\" >0.544</td>\n",
       "                        <td id=\"T_1873d7cc_599d_11eb_afb3_cba9d8b76a84row3_col7\" class=\"data row3 col7\" >0.682</td>\n",
       "                        <td id=\"T_1873d7cc_599d_11eb_afb3_cba9d8b76a84row3_col8\" class=\"data row3 col8\" >0.789</td>\n",
       "                        <td id=\"T_1873d7cc_599d_11eb_afb3_cba9d8b76a84row3_col9\" class=\"data row3 col9\" >0.15</td>\n",
       "                        <td id=\"T_1873d7cc_599d_11eb_afb3_cba9d8b76a84row3_col10\" class=\"data row3 col10\" >-0.305</td>\n",
       "                        <td id=\"T_1873d7cc_599d_11eb_afb3_cba9d8b76a84row3_col11\" class=\"data row3 col11\" >0.56</td>\n",
       "                        <td id=\"T_1873d7cc_599d_11eb_afb3_cba9d8b76a84row3_col12\" class=\"data row3 col12\" >-0.138</td>\n",
       "                        <td id=\"T_1873d7cc_599d_11eb_afb3_cba9d8b76a84row3_col13\" class=\"data row3 col13\" >0.583</td>\n",
       "                        <td id=\"T_1873d7cc_599d_11eb_afb3_cba9d8b76a84row3_col14\" class=\"data row3 col14\" >0.746</td>\n",
       "                        <td id=\"T_1873d7cc_599d_11eb_afb3_cba9d8b76a84row3_col15\" class=\"data row3 col15\" >-0.311</td>\n",
       "                        <td id=\"T_1873d7cc_599d_11eb_afb3_cba9d8b76a84row3_col16\" class=\"data row3 col16\" >0.309</td>\n",
       "                        <td id=\"T_1873d7cc_599d_11eb_afb3_cba9d8b76a84row3_col17\" class=\"data row3 col17\" >0.402</td>\n",
       "                        <td id=\"T_1873d7cc_599d_11eb_afb3_cba9d8b76a84row3_col18\" class=\"data row3 col18\" >0.442</td>\n",
       "                        <td id=\"T_1873d7cc_599d_11eb_afb3_cba9d8b76a84row3_col19\" class=\"data row3 col19\" >-0.228</td>\n",
       "                        <td id=\"T_1873d7cc_599d_11eb_afb3_cba9d8b76a84row3_col20\" class=\"data row3 col20\" >0.0324</td>\n",
       "                        <td id=\"T_1873d7cc_599d_11eb_afb3_cba9d8b76a84row3_col21\" class=\"data row3 col21\" >0.981</td>\n",
       "                        <td id=\"T_1873d7cc_599d_11eb_afb3_cba9d8b76a84row3_col22\" class=\"data row3 col22\" >0.323</td>\n",
       "                        <td id=\"T_1873d7cc_599d_11eb_afb3_cba9d8b76a84row3_col23\" class=\"data row3 col23\" >0.979</td>\n",
       "                        <td id=\"T_1873d7cc_599d_11eb_afb3_cba9d8b76a84row3_col24\" class=\"data row3 col24\" >0.981</td>\n",
       "                        <td id=\"T_1873d7cc_599d_11eb_afb3_cba9d8b76a84row3_col25\" class=\"data row3 col25\" >0.157</td>\n",
       "                        <td id=\"T_1873d7cc_599d_11eb_afb3_cba9d8b76a84row3_col26\" class=\"data row3 col26\" >0.535</td>\n",
       "                        <td id=\"T_1873d7cc_599d_11eb_afb3_cba9d8b76a84row3_col27\" class=\"data row3 col27\" >0.632</td>\n",
       "                        <td id=\"T_1873d7cc_599d_11eb_afb3_cba9d8b76a84row3_col28\" class=\"data row3 col28\" >0.758</td>\n",
       "                        <td id=\"T_1873d7cc_599d_11eb_afb3_cba9d8b76a84row3_col29\" class=\"data row3 col29\" >0.199</td>\n",
       "                        <td id=\"T_1873d7cc_599d_11eb_afb3_cba9d8b76a84row3_col30\" class=\"data row3 col30\" >0.089</td>\n",
       "            </tr>\n",
       "            <tr>\n",
       "                        <th id=\"T_1873d7cc_599d_11eb_afb3_cba9d8b76a84level0_row4\" class=\"row_heading level0 row4\" >area_mean</th>\n",
       "                        <td id=\"T_1873d7cc_599d_11eb_afb3_cba9d8b76a84row4_col0\" class=\"data row4 col0\" >0.734</td>\n",
       "                        <td id=\"T_1873d7cc_599d_11eb_afb3_cba9d8b76a84row4_col1\" class=\"data row4 col1\" >1.0</td>\n",
       "                        <td id=\"T_1873d7cc_599d_11eb_afb3_cba9d8b76a84row4_col2\" class=\"data row4 col2\" >0.344</td>\n",
       "                        <td id=\"T_1873d7cc_599d_11eb_afb3_cba9d8b76a84row4_col3\" class=\"data row4 col3\" >0.997</td>\n",
       "                        <td id=\"T_1873d7cc_599d_11eb_afb3_cba9d8b76a84row4_col4\" class=\"data row4 col4\" >1.0</td>\n",
       "                        <td id=\"T_1873d7cc_599d_11eb_afb3_cba9d8b76a84row4_col5\" class=\"data row4 col5\" >0.138</td>\n",
       "                        <td id=\"T_1873d7cc_599d_11eb_afb3_cba9d8b76a84row4_col6\" class=\"data row4 col6\" >0.489</td>\n",
       "                        <td id=\"T_1873d7cc_599d_11eb_afb3_cba9d8b76a84row4_col7\" class=\"data row4 col7\" >0.643</td>\n",
       "                        <td id=\"T_1873d7cc_599d_11eb_afb3_cba9d8b76a84row4_col8\" class=\"data row4 col8\" >0.755</td>\n",
       "                        <td id=\"T_1873d7cc_599d_11eb_afb3_cba9d8b76a84row4_col9\" class=\"data row4 col9\" >0.114</td>\n",
       "                        <td id=\"T_1873d7cc_599d_11eb_afb3_cba9d8b76a84row4_col10\" class=\"data row4 col10\" >-0.358</td>\n",
       "                        <td id=\"T_1873d7cc_599d_11eb_afb3_cba9d8b76a84row4_col11\" class=\"data row4 col11\" >0.553</td>\n",
       "                        <td id=\"T_1873d7cc_599d_11eb_afb3_cba9d8b76a84row4_col12\" class=\"data row4 col12\" >-0.142</td>\n",
       "                        <td id=\"T_1873d7cc_599d_11eb_afb3_cba9d8b76a84row4_col13\" class=\"data row4 col13\" >0.568</td>\n",
       "                        <td id=\"T_1873d7cc_599d_11eb_afb3_cba9d8b76a84row4_col14\" class=\"data row4 col14\" >0.742</td>\n",
       "                        <td id=\"T_1873d7cc_599d_11eb_afb3_cba9d8b76a84row4_col15\" class=\"data row4 col15\" >-0.327</td>\n",
       "                        <td id=\"T_1873d7cc_599d_11eb_afb3_cba9d8b76a84row4_col16\" class=\"data row4 col16\" >0.26</td>\n",
       "                        <td id=\"T_1873d7cc_599d_11eb_afb3_cba9d8b76a84row4_col17\" class=\"data row4 col17\" >0.362</td>\n",
       "                        <td id=\"T_1873d7cc_599d_11eb_afb3_cba9d8b76a84row4_col18\" class=\"data row4 col18\" >0.406</td>\n",
       "                        <td id=\"T_1873d7cc_599d_11eb_afb3_cba9d8b76a84row4_col19\" class=\"data row4 col19\" >-0.244</td>\n",
       "                        <td id=\"T_1873d7cc_599d_11eb_afb3_cba9d8b76a84row4_col20\" class=\"data row4 col20\" >-0.0127</td>\n",
       "                        <td id=\"T_1873d7cc_599d_11eb_afb3_cba9d8b76a84row4_col21\" class=\"data row4 col21\" >0.979</td>\n",
       "                        <td id=\"T_1873d7cc_599d_11eb_afb3_cba9d8b76a84row4_col22\" class=\"data row4 col22\" >0.318</td>\n",
       "                        <td id=\"T_1873d7cc_599d_11eb_afb3_cba9d8b76a84row4_col23\" class=\"data row4 col23\" >0.972</td>\n",
       "                        <td id=\"T_1873d7cc_599d_11eb_afb3_cba9d8b76a84row4_col24\" class=\"data row4 col24\" >0.98</td>\n",
       "                        <td id=\"T_1873d7cc_599d_11eb_afb3_cba9d8b76a84row4_col25\" class=\"data row4 col25\" >0.12</td>\n",
       "                        <td id=\"T_1873d7cc_599d_11eb_afb3_cba9d8b76a84row4_col26\" class=\"data row4 col26\" >0.486</td>\n",
       "                        <td id=\"T_1873d7cc_599d_11eb_afb3_cba9d8b76a84row4_col27\" class=\"data row4 col27\" >0.594</td>\n",
       "                        <td id=\"T_1873d7cc_599d_11eb_afb3_cba9d8b76a84row4_col28\" class=\"data row4 col28\" >0.723</td>\n",
       "                        <td id=\"T_1873d7cc_599d_11eb_afb3_cba9d8b76a84row4_col29\" class=\"data row4 col29\" >0.171</td>\n",
       "                        <td id=\"T_1873d7cc_599d_11eb_afb3_cba9d8b76a84row4_col30\" class=\"data row4 col30\" >0.0388</td>\n",
       "            </tr>\n",
       "            <tr>\n",
       "                        <th id=\"T_1873d7cc_599d_11eb_afb3_cba9d8b76a84level0_row5\" class=\"row_heading level0 row5\" >smoothness_mean</th>\n",
       "                        <td id=\"T_1873d7cc_599d_11eb_afb3_cba9d8b76a84row5_col0\" class=\"data row5 col0\" >0.372</td>\n",
       "                        <td id=\"T_1873d7cc_599d_11eb_afb3_cba9d8b76a84row5_col1\" class=\"data row5 col1\" >0.149</td>\n",
       "                        <td id=\"T_1873d7cc_599d_11eb_afb3_cba9d8b76a84row5_col2\" class=\"data row5 col2\" >0.0246</td>\n",
       "                        <td id=\"T_1873d7cc_599d_11eb_afb3_cba9d8b76a84row5_col3\" class=\"data row5 col3\" >0.183</td>\n",
       "                        <td id=\"T_1873d7cc_599d_11eb_afb3_cba9d8b76a84row5_col4\" class=\"data row5 col4\" >0.138</td>\n",
       "                        <td id=\"T_1873d7cc_599d_11eb_afb3_cba9d8b76a84row5_col5\" class=\"data row5 col5\" >1.0</td>\n",
       "                        <td id=\"T_1873d7cc_599d_11eb_afb3_cba9d8b76a84row5_col6\" class=\"data row5 col6\" >0.679</td>\n",
       "                        <td id=\"T_1873d7cc_599d_11eb_afb3_cba9d8b76a84row5_col7\" class=\"data row5 col7\" >0.519</td>\n",
       "                        <td id=\"T_1873d7cc_599d_11eb_afb3_cba9d8b76a84row5_col8\" class=\"data row5 col8\" >0.565</td>\n",
       "                        <td id=\"T_1873d7cc_599d_11eb_afb3_cba9d8b76a84row5_col9\" class=\"data row5 col9\" >0.542</td>\n",
       "                        <td id=\"T_1873d7cc_599d_11eb_afb3_cba9d8b76a84row5_col10\" class=\"data row5 col10\" >0.588</td>\n",
       "                        <td id=\"T_1873d7cc_599d_11eb_afb3_cba9d8b76a84row5_col11\" class=\"data row5 col11\" >0.334</td>\n",
       "                        <td id=\"T_1873d7cc_599d_11eb_afb3_cba9d8b76a84row5_col12\" class=\"data row5 col12\" >0.0913</td>\n",
       "                        <td id=\"T_1873d7cc_599d_11eb_afb3_cba9d8b76a84row5_col13\" class=\"data row5 col13\" >0.331</td>\n",
       "                        <td id=\"T_1873d7cc_599d_11eb_afb3_cba9d8b76a84row5_col14\" class=\"data row5 col14\" >0.296</td>\n",
       "                        <td id=\"T_1873d7cc_599d_11eb_afb3_cba9d8b76a84row5_col15\" class=\"data row5 col15\" >0.339</td>\n",
       "                        <td id=\"T_1873d7cc_599d_11eb_afb3_cba9d8b76a84row5_col16\" class=\"data row5 col16\" >0.392</td>\n",
       "                        <td id=\"T_1873d7cc_599d_11eb_afb3_cba9d8b76a84row5_col17\" class=\"data row5 col17\" >0.355</td>\n",
       "                        <td id=\"T_1873d7cc_599d_11eb_afb3_cba9d8b76a84row5_col18\" class=\"data row5 col18\" >0.439</td>\n",
       "                        <td id=\"T_1873d7cc_599d_11eb_afb3_cba9d8b76a84row5_col19\" class=\"data row5 col19\" >0.151</td>\n",
       "                        <td id=\"T_1873d7cc_599d_11eb_afb3_cba9d8b76a84row5_col20\" class=\"data row5 col20\" >0.413</td>\n",
       "                        <td id=\"T_1873d7cc_599d_11eb_afb3_cba9d8b76a84row5_col21\" class=\"data row5 col21\" >0.203</td>\n",
       "                        <td id=\"T_1873d7cc_599d_11eb_afb3_cba9d8b76a84row5_col22\" class=\"data row5 col22\" >0.0606</td>\n",
       "                        <td id=\"T_1873d7cc_599d_11eb_afb3_cba9d8b76a84row5_col23\" class=\"data row5 col23\" >0.226</td>\n",
       "                        <td id=\"T_1873d7cc_599d_11eb_afb3_cba9d8b76a84row5_col24\" class=\"data row5 col24\" >0.192</td>\n",
       "                        <td id=\"T_1873d7cc_599d_11eb_afb3_cba9d8b76a84row5_col25\" class=\"data row5 col25\" >0.796</td>\n",
       "                        <td id=\"T_1873d7cc_599d_11eb_afb3_cba9d8b76a84row5_col26\" class=\"data row5 col26\" >0.481</td>\n",
       "                        <td id=\"T_1873d7cc_599d_11eb_afb3_cba9d8b76a84row5_col27\" class=\"data row5 col27\" >0.429</td>\n",
       "                        <td id=\"T_1873d7cc_599d_11eb_afb3_cba9d8b76a84row5_col28\" class=\"data row5 col28\" >0.499</td>\n",
       "                        <td id=\"T_1873d7cc_599d_11eb_afb3_cba9d8b76a84row5_col29\" class=\"data row5 col29\" >0.394</td>\n",
       "                        <td id=\"T_1873d7cc_599d_11eb_afb3_cba9d8b76a84row5_col30\" class=\"data row5 col30\" >0.511</td>\n",
       "            </tr>\n",
       "            <tr>\n",
       "                        <th id=\"T_1873d7cc_599d_11eb_afb3_cba9d8b76a84level0_row6\" class=\"row_heading level0 row6\" >compactness_mean</th>\n",
       "                        <td id=\"T_1873d7cc_599d_11eb_afb3_cba9d8b76a84row6_col0\" class=\"data row6 col0\" >0.609</td>\n",
       "                        <td id=\"T_1873d7cc_599d_11eb_afb3_cba9d8b76a84row6_col1\" class=\"data row6 col1\" >0.498</td>\n",
       "                        <td id=\"T_1873d7cc_599d_11eb_afb3_cba9d8b76a84row6_col2\" class=\"data row6 col2\" >0.266</td>\n",
       "                        <td id=\"T_1873d7cc_599d_11eb_afb3_cba9d8b76a84row6_col3\" class=\"data row6 col3\" >0.544</td>\n",
       "                        <td id=\"T_1873d7cc_599d_11eb_afb3_cba9d8b76a84row6_col4\" class=\"data row6 col4\" >0.489</td>\n",
       "                        <td id=\"T_1873d7cc_599d_11eb_afb3_cba9d8b76a84row6_col5\" class=\"data row6 col5\" >0.679</td>\n",
       "                        <td id=\"T_1873d7cc_599d_11eb_afb3_cba9d8b76a84row6_col6\" class=\"data row6 col6\" >1.0</td>\n",
       "                        <td id=\"T_1873d7cc_599d_11eb_afb3_cba9d8b76a84row6_col7\" class=\"data row6 col7\" >0.897</td>\n",
       "                        <td id=\"T_1873d7cc_599d_11eb_afb3_cba9d8b76a84row6_col8\" class=\"data row6 col8\" >0.848</td>\n",
       "                        <td id=\"T_1873d7cc_599d_11eb_afb3_cba9d8b76a84row6_col9\" class=\"data row6 col9\" >0.552</td>\n",
       "                        <td id=\"T_1873d7cc_599d_11eb_afb3_cba9d8b76a84row6_col10\" class=\"data row6 col10\" >0.499</td>\n",
       "                        <td id=\"T_1873d7cc_599d_11eb_afb3_cba9d8b76a84row6_col11\" class=\"data row6 col11\" >0.507</td>\n",
       "                        <td id=\"T_1873d7cc_599d_11eb_afb3_cba9d8b76a84row6_col12\" class=\"data row6 col12\" >0.0478</td>\n",
       "                        <td id=\"T_1873d7cc_599d_11eb_afb3_cba9d8b76a84row6_col13\" class=\"data row6 col13\" >0.584</td>\n",
       "                        <td id=\"T_1873d7cc_599d_11eb_afb3_cba9d8b76a84row6_col14\" class=\"data row6 col14\" >0.54</td>\n",
       "                        <td id=\"T_1873d7cc_599d_11eb_afb3_cba9d8b76a84row6_col15\" class=\"data row6 col15\" >0.127</td>\n",
       "                        <td id=\"T_1873d7cc_599d_11eb_afb3_cba9d8b76a84row6_col16\" class=\"data row6 col16\" >0.818</td>\n",
       "                        <td id=\"T_1873d7cc_599d_11eb_afb3_cba9d8b76a84row6_col17\" class=\"data row6 col17\" >0.772</td>\n",
       "                        <td id=\"T_1873d7cc_599d_11eb_afb3_cba9d8b76a84row6_col18\" class=\"data row6 col18\" >0.732</td>\n",
       "                        <td id=\"T_1873d7cc_599d_11eb_afb3_cba9d8b76a84row6_col19\" class=\"data row6 col19\" >0.0984</td>\n",
       "                        <td id=\"T_1873d7cc_599d_11eb_afb3_cba9d8b76a84row6_col20\" class=\"data row6 col20\" >0.621</td>\n",
       "                        <td id=\"T_1873d7cc_599d_11eb_afb3_cba9d8b76a84row6_col21\" class=\"data row6 col21\" >0.543</td>\n",
       "                        <td id=\"T_1873d7cc_599d_11eb_afb3_cba9d8b76a84row6_col22\" class=\"data row6 col22\" >0.255</td>\n",
       "                        <td id=\"T_1873d7cc_599d_11eb_afb3_cba9d8b76a84row6_col23\" class=\"data row6 col23\" >0.592</td>\n",
       "                        <td id=\"T_1873d7cc_599d_11eb_afb3_cba9d8b76a84row6_col24\" class=\"data row6 col24\" >0.532</td>\n",
       "                        <td id=\"T_1873d7cc_599d_11eb_afb3_cba9d8b76a84row6_col25\" class=\"data row6 col25\" >0.579</td>\n",
       "                        <td id=\"T_1873d7cc_599d_11eb_afb3_cba9d8b76a84row6_col26\" class=\"data row6 col26\" >0.901</td>\n",
       "                        <td id=\"T_1873d7cc_599d_11eb_afb3_cba9d8b76a84row6_col27\" class=\"data row6 col27\" >0.838</td>\n",
       "                        <td id=\"T_1873d7cc_599d_11eb_afb3_cba9d8b76a84row6_col28\" class=\"data row6 col28\" >0.825</td>\n",
       "                        <td id=\"T_1873d7cc_599d_11eb_afb3_cba9d8b76a84row6_col29\" class=\"data row6 col29\" >0.45</td>\n",
       "                        <td id=\"T_1873d7cc_599d_11eb_afb3_cba9d8b76a84row6_col30\" class=\"data row6 col30\" >0.689</td>\n",
       "            </tr>\n",
       "            <tr>\n",
       "                        <th id=\"T_1873d7cc_599d_11eb_afb3_cba9d8b76a84level0_row7\" class=\"row_heading level0 row7\" >concavity_mean</th>\n",
       "                        <td id=\"T_1873d7cc_599d_11eb_afb3_cba9d8b76a84row7_col0\" class=\"data row7 col0\" >0.733</td>\n",
       "                        <td id=\"T_1873d7cc_599d_11eb_afb3_cba9d8b76a84row7_col1\" class=\"data row7 col1\" >0.646</td>\n",
       "                        <td id=\"T_1873d7cc_599d_11eb_afb3_cba9d8b76a84row7_col2\" class=\"data row7 col2\" >0.343</td>\n",
       "                        <td id=\"T_1873d7cc_599d_11eb_afb3_cba9d8b76a84row7_col3\" class=\"data row7 col3\" >0.682</td>\n",
       "                        <td id=\"T_1873d7cc_599d_11eb_afb3_cba9d8b76a84row7_col4\" class=\"data row7 col4\" >0.643</td>\n",
       "                        <td id=\"T_1873d7cc_599d_11eb_afb3_cba9d8b76a84row7_col5\" class=\"data row7 col5\" >0.519</td>\n",
       "                        <td id=\"T_1873d7cc_599d_11eb_afb3_cba9d8b76a84row7_col6\" class=\"data row7 col6\" >0.897</td>\n",
       "                        <td id=\"T_1873d7cc_599d_11eb_afb3_cba9d8b76a84row7_col7\" class=\"data row7 col7\" >1.0</td>\n",
       "                        <td id=\"T_1873d7cc_599d_11eb_afb3_cba9d8b76a84row7_col8\" class=\"data row7 col8\" >0.927</td>\n",
       "                        <td id=\"T_1873d7cc_599d_11eb_afb3_cba9d8b76a84row7_col9\" class=\"data row7 col9\" >0.447</td>\n",
       "                        <td id=\"T_1873d7cc_599d_11eb_afb3_cba9d8b76a84row7_col10\" class=\"data row7 col10\" >0.258</td>\n",
       "                        <td id=\"T_1873d7cc_599d_11eb_afb3_cba9d8b76a84row7_col11\" class=\"data row7 col11\" >0.575</td>\n",
       "                        <td id=\"T_1873d7cc_599d_11eb_afb3_cba9d8b76a84row7_col12\" class=\"data row7 col12\" >0.0513</td>\n",
       "                        <td id=\"T_1873d7cc_599d_11eb_afb3_cba9d8b76a84row7_col13\" class=\"data row7 col13\" >0.646</td>\n",
       "                        <td id=\"T_1873d7cc_599d_11eb_afb3_cba9d8b76a84row7_col14\" class=\"data row7 col14\" >0.644</td>\n",
       "                        <td id=\"T_1873d7cc_599d_11eb_afb3_cba9d8b76a84row7_col15\" class=\"data row7 col15\" >0.0703</td>\n",
       "                        <td id=\"T_1873d7cc_599d_11eb_afb3_cba9d8b76a84row7_col16\" class=\"data row7 col16\" >0.761</td>\n",
       "                        <td id=\"T_1873d7cc_599d_11eb_afb3_cba9d8b76a84row7_col17\" class=\"data row7 col17\" >0.858</td>\n",
       "                        <td id=\"T_1873d7cc_599d_11eb_afb3_cba9d8b76a84row7_col18\" class=\"data row7 col18\" >0.775</td>\n",
       "                        <td id=\"T_1873d7cc_599d_11eb_afb3_cba9d8b76a84row7_col19\" class=\"data row7 col19\" >0.0228</td>\n",
       "                        <td id=\"T_1873d7cc_599d_11eb_afb3_cba9d8b76a84row7_col20\" class=\"data row7 col20\" >0.514</td>\n",
       "                        <td id=\"T_1873d7cc_599d_11eb_afb3_cba9d8b76a84row7_col21\" class=\"data row7 col21\" >0.682</td>\n",
       "                        <td id=\"T_1873d7cc_599d_11eb_afb3_cba9d8b76a84row7_col22\" class=\"data row7 col22\" >0.336</td>\n",
       "                        <td id=\"T_1873d7cc_599d_11eb_afb3_cba9d8b76a84row7_col23\" class=\"data row7 col23\" >0.722</td>\n",
       "                        <td id=\"T_1873d7cc_599d_11eb_afb3_cba9d8b76a84row7_col24\" class=\"data row7 col24\" >0.677</td>\n",
       "                        <td id=\"T_1873d7cc_599d_11eb_afb3_cba9d8b76a84row7_col25\" class=\"data row7 col25\" >0.489</td>\n",
       "                        <td id=\"T_1873d7cc_599d_11eb_afb3_cba9d8b76a84row7_col26\" class=\"data row7 col26\" >0.85</td>\n",
       "                        <td id=\"T_1873d7cc_599d_11eb_afb3_cba9d8b76a84row7_col27\" class=\"data row7 col27\" >0.939</td>\n",
       "                        <td id=\"T_1873d7cc_599d_11eb_afb3_cba9d8b76a84row7_col28\" class=\"data row7 col28\" >0.905</td>\n",
       "                        <td id=\"T_1873d7cc_599d_11eb_afb3_cba9d8b76a84row7_col29\" class=\"data row7 col29\" >0.384</td>\n",
       "                        <td id=\"T_1873d7cc_599d_11eb_afb3_cba9d8b76a84row7_col30\" class=\"data row7 col30\" >0.542</td>\n",
       "            </tr>\n",
       "            <tr>\n",
       "                        <th id=\"T_1873d7cc_599d_11eb_afb3_cba9d8b76a84level0_row8\" class=\"row_heading level0 row8\" >concave points_mean</th>\n",
       "                        <td id=\"T_1873d7cc_599d_11eb_afb3_cba9d8b76a84row8_col0\" class=\"data row8 col0\" >0.778</td>\n",
       "                        <td id=\"T_1873d7cc_599d_11eb_afb3_cba9d8b76a84row8_col1\" class=\"data row8 col1\" >0.76</td>\n",
       "                        <td id=\"T_1873d7cc_599d_11eb_afb3_cba9d8b76a84row8_col2\" class=\"data row8 col2\" >0.307</td>\n",
       "                        <td id=\"T_1873d7cc_599d_11eb_afb3_cba9d8b76a84row8_col3\" class=\"data row8 col3\" >0.789</td>\n",
       "                        <td id=\"T_1873d7cc_599d_11eb_afb3_cba9d8b76a84row8_col4\" class=\"data row8 col4\" >0.755</td>\n",
       "                        <td id=\"T_1873d7cc_599d_11eb_afb3_cba9d8b76a84row8_col5\" class=\"data row8 col5\" >0.565</td>\n",
       "                        <td id=\"T_1873d7cc_599d_11eb_afb3_cba9d8b76a84row8_col6\" class=\"data row8 col6\" >0.848</td>\n",
       "                        <td id=\"T_1873d7cc_599d_11eb_afb3_cba9d8b76a84row8_col7\" class=\"data row8 col7\" >0.927</td>\n",
       "                        <td id=\"T_1873d7cc_599d_11eb_afb3_cba9d8b76a84row8_col8\" class=\"data row8 col8\" >1.0</td>\n",
       "                        <td id=\"T_1873d7cc_599d_11eb_afb3_cba9d8b76a84row8_col9\" class=\"data row8 col9\" >0.424</td>\n",
       "                        <td id=\"T_1873d7cc_599d_11eb_afb3_cba9d8b76a84row8_col10\" class=\"data row8 col10\" >0.143</td>\n",
       "                        <td id=\"T_1873d7cc_599d_11eb_afb3_cba9d8b76a84row8_col11\" class=\"data row8 col11\" >0.635</td>\n",
       "                        <td id=\"T_1873d7cc_599d_11eb_afb3_cba9d8b76a84row8_col12\" class=\"data row8 col12\" >0.00871</td>\n",
       "                        <td id=\"T_1873d7cc_599d_11eb_afb3_cba9d8b76a84row8_col13\" class=\"data row8 col13\" >0.68</td>\n",
       "                        <td id=\"T_1873d7cc_599d_11eb_afb3_cba9d8b76a84row8_col14\" class=\"data row8 col14\" >0.727</td>\n",
       "                        <td id=\"T_1873d7cc_599d_11eb_afb3_cba9d8b76a84row8_col15\" class=\"data row8 col15\" >0.0168</td>\n",
       "                        <td id=\"T_1873d7cc_599d_11eb_afb3_cba9d8b76a84row8_col16\" class=\"data row8 col16\" >0.608</td>\n",
       "                        <td id=\"T_1873d7cc_599d_11eb_afb3_cba9d8b76a84row8_col17\" class=\"data row8 col17\" >0.675</td>\n",
       "                        <td id=\"T_1873d7cc_599d_11eb_afb3_cba9d8b76a84row8_col18\" class=\"data row8 col18\" >0.758</td>\n",
       "                        <td id=\"T_1873d7cc_599d_11eb_afb3_cba9d8b76a84row8_col19\" class=\"data row8 col19\" >-0.0284</td>\n",
       "                        <td id=\"T_1873d7cc_599d_11eb_afb3_cba9d8b76a84row8_col20\" class=\"data row8 col20\" >0.378</td>\n",
       "                        <td id=\"T_1873d7cc_599d_11eb_afb3_cba9d8b76a84row8_col21\" class=\"data row8 col21\" >0.787</td>\n",
       "                        <td id=\"T_1873d7cc_599d_11eb_afb3_cba9d8b76a84row8_col22\" class=\"data row8 col22\" >0.301</td>\n",
       "                        <td id=\"T_1873d7cc_599d_11eb_afb3_cba9d8b76a84row8_col23\" class=\"data row8 col23\" >0.814</td>\n",
       "                        <td id=\"T_1873d7cc_599d_11eb_afb3_cba9d8b76a84row8_col24\" class=\"data row8 col24\" >0.78</td>\n",
       "                        <td id=\"T_1873d7cc_599d_11eb_afb3_cba9d8b76a84row8_col25\" class=\"data row8 col25\" >0.49</td>\n",
       "                        <td id=\"T_1873d7cc_599d_11eb_afb3_cba9d8b76a84row8_col26\" class=\"data row8 col26\" >0.758</td>\n",
       "                        <td id=\"T_1873d7cc_599d_11eb_afb3_cba9d8b76a84row8_col27\" class=\"data row8 col27\" >0.827</td>\n",
       "                        <td id=\"T_1873d7cc_599d_11eb_afb3_cba9d8b76a84row8_col28\" class=\"data row8 col28\" >0.937</td>\n",
       "                        <td id=\"T_1873d7cc_599d_11eb_afb3_cba9d8b76a84row8_col29\" class=\"data row8 col29\" >0.355</td>\n",
       "                        <td id=\"T_1873d7cc_599d_11eb_afb3_cba9d8b76a84row8_col30\" class=\"data row8 col30\" >0.421</td>\n",
       "            </tr>\n",
       "            <tr>\n",
       "                        <th id=\"T_1873d7cc_599d_11eb_afb3_cba9d8b76a84level0_row9\" class=\"row_heading level0 row9\" >symmetry_mean</th>\n",
       "                        <td id=\"T_1873d7cc_599d_11eb_afb3_cba9d8b76a84row9_col0\" class=\"data row9 col0\" >0.333</td>\n",
       "                        <td id=\"T_1873d7cc_599d_11eb_afb3_cba9d8b76a84row9_col1\" class=\"data row9 col1\" >0.12</td>\n",
       "                        <td id=\"T_1873d7cc_599d_11eb_afb3_cba9d8b76a84row9_col2\" class=\"data row9 col2\" >0.11</td>\n",
       "                        <td id=\"T_1873d7cc_599d_11eb_afb3_cba9d8b76a84row9_col3\" class=\"data row9 col3\" >0.15</td>\n",
       "                        <td id=\"T_1873d7cc_599d_11eb_afb3_cba9d8b76a84row9_col4\" class=\"data row9 col4\" >0.114</td>\n",
       "                        <td id=\"T_1873d7cc_599d_11eb_afb3_cba9d8b76a84row9_col5\" class=\"data row9 col5\" >0.542</td>\n",
       "                        <td id=\"T_1873d7cc_599d_11eb_afb3_cba9d8b76a84row9_col6\" class=\"data row9 col6\" >0.552</td>\n",
       "                        <td id=\"T_1873d7cc_599d_11eb_afb3_cba9d8b76a84row9_col7\" class=\"data row9 col7\" >0.447</td>\n",
       "                        <td id=\"T_1873d7cc_599d_11eb_afb3_cba9d8b76a84row9_col8\" class=\"data row9 col8\" >0.424</td>\n",
       "                        <td id=\"T_1873d7cc_599d_11eb_afb3_cba9d8b76a84row9_col9\" class=\"data row9 col9\" >1.0</td>\n",
       "                        <td id=\"T_1873d7cc_599d_11eb_afb3_cba9d8b76a84row9_col10\" class=\"data row9 col10\" >0.428</td>\n",
       "                        <td id=\"T_1873d7cc_599d_11eb_afb3_cba9d8b76a84row9_col11\" class=\"data row9 col11\" >0.338</td>\n",
       "                        <td id=\"T_1873d7cc_599d_11eb_afb3_cba9d8b76a84row9_col12\" class=\"data row9 col12\" >0.139</td>\n",
       "                        <td id=\"T_1873d7cc_599d_11eb_afb3_cba9d8b76a84row9_col13\" class=\"data row9 col13\" >0.355</td>\n",
       "                        <td id=\"T_1873d7cc_599d_11eb_afb3_cba9d8b76a84row9_col14\" class=\"data row9 col14\" >0.288</td>\n",
       "                        <td id=\"T_1873d7cc_599d_11eb_afb3_cba9d8b76a84row9_col15\" class=\"data row9 col15\" >0.206</td>\n",
       "                        <td id=\"T_1873d7cc_599d_11eb_afb3_cba9d8b76a84row9_col16\" class=\"data row9 col16\" >0.436</td>\n",
       "                        <td id=\"T_1873d7cc_599d_11eb_afb3_cba9d8b76a84row9_col17\" class=\"data row9 col17\" >0.368</td>\n",
       "                        <td id=\"T_1873d7cc_599d_11eb_afb3_cba9d8b76a84row9_col18\" class=\"data row9 col18\" >0.383</td>\n",
       "                        <td id=\"T_1873d7cc_599d_11eb_afb3_cba9d8b76a84row9_col19\" class=\"data row9 col19\" >0.384</td>\n",
       "                        <td id=\"T_1873d7cc_599d_11eb_afb3_cba9d8b76a84row9_col20\" class=\"data row9 col20\" >0.403</td>\n",
       "                        <td id=\"T_1873d7cc_599d_11eb_afb3_cba9d8b76a84row9_col21\" class=\"data row9 col21\" >0.165</td>\n",
       "                        <td id=\"T_1873d7cc_599d_11eb_afb3_cba9d8b76a84row9_col22\" class=\"data row9 col22\" >0.119</td>\n",
       "                        <td id=\"T_1873d7cc_599d_11eb_afb3_cba9d8b76a84row9_col23\" class=\"data row9 col23\" >0.191</td>\n",
       "                        <td id=\"T_1873d7cc_599d_11eb_afb3_cba9d8b76a84row9_col24\" class=\"data row9 col24\" >0.154</td>\n",
       "                        <td id=\"T_1873d7cc_599d_11eb_afb3_cba9d8b76a84row9_col25\" class=\"data row9 col25\" >0.424</td>\n",
       "                        <td id=\"T_1873d7cc_599d_11eb_afb3_cba9d8b76a84row9_col26\" class=\"data row9 col26\" >0.441</td>\n",
       "                        <td id=\"T_1873d7cc_599d_11eb_afb3_cba9d8b76a84row9_col27\" class=\"data row9 col27\" >0.394</td>\n",
       "                        <td id=\"T_1873d7cc_599d_11eb_afb3_cba9d8b76a84row9_col28\" class=\"data row9 col28\" >0.397</td>\n",
       "                        <td id=\"T_1873d7cc_599d_11eb_afb3_cba9d8b76a84row9_col29\" class=\"data row9 col29\" >0.71</td>\n",
       "                        <td id=\"T_1873d7cc_599d_11eb_afb3_cba9d8b76a84row9_col30\" class=\"data row9 col30\" >0.41</td>\n",
       "            </tr>\n",
       "            <tr>\n",
       "                        <th id=\"T_1873d7cc_599d_11eb_afb3_cba9d8b76a84level0_row10\" class=\"row_heading level0 row10\" >fractal_dimension_mean</th>\n",
       "                        <td id=\"T_1873d7cc_599d_11eb_afb3_cba9d8b76a84row10_col0\" class=\"data row10 col0\" >-0.0259</td>\n",
       "                        <td id=\"T_1873d7cc_599d_11eb_afb3_cba9d8b76a84row10_col1\" class=\"data row10 col1\" >-0.35</td>\n",
       "                        <td id=\"T_1873d7cc_599d_11eb_afb3_cba9d8b76a84row10_col2\" class=\"data row10 col2\" >-0.0593</td>\n",
       "                        <td id=\"T_1873d7cc_599d_11eb_afb3_cba9d8b76a84row10_col3\" class=\"data row10 col3\" >-0.305</td>\n",
       "                        <td id=\"T_1873d7cc_599d_11eb_afb3_cba9d8b76a84row10_col4\" class=\"data row10 col4\" >-0.358</td>\n",
       "                        <td id=\"T_1873d7cc_599d_11eb_afb3_cba9d8b76a84row10_col5\" class=\"data row10 col5\" >0.588</td>\n",
       "                        <td id=\"T_1873d7cc_599d_11eb_afb3_cba9d8b76a84row10_col6\" class=\"data row10 col6\" >0.499</td>\n",
       "                        <td id=\"T_1873d7cc_599d_11eb_afb3_cba9d8b76a84row10_col7\" class=\"data row10 col7\" >0.258</td>\n",
       "                        <td id=\"T_1873d7cc_599d_11eb_afb3_cba9d8b76a84row10_col8\" class=\"data row10 col8\" >0.143</td>\n",
       "                        <td id=\"T_1873d7cc_599d_11eb_afb3_cba9d8b76a84row10_col9\" class=\"data row10 col9\" >0.428</td>\n",
       "                        <td id=\"T_1873d7cc_599d_11eb_afb3_cba9d8b76a84row10_col10\" class=\"data row10 col10\" >1.0</td>\n",
       "                        <td id=\"T_1873d7cc_599d_11eb_afb3_cba9d8b76a84row10_col11\" class=\"data row10 col11\" >0.00148</td>\n",
       "                        <td id=\"T_1873d7cc_599d_11eb_afb3_cba9d8b76a84row10_col12\" class=\"data row10 col12\" >0.157</td>\n",
       "                        <td id=\"T_1873d7cc_599d_11eb_afb3_cba9d8b76a84row10_col13\" class=\"data row10 col13\" >0.0553</td>\n",
       "                        <td id=\"T_1873d7cc_599d_11eb_afb3_cba9d8b76a84row10_col14\" class=\"data row10 col14\" >-0.12</td>\n",
       "                        <td id=\"T_1873d7cc_599d_11eb_afb3_cba9d8b76a84row10_col15\" class=\"data row10 col15\" >0.402</td>\n",
       "                        <td id=\"T_1873d7cc_599d_11eb_afb3_cba9d8b76a84row10_col16\" class=\"data row10 col16\" >0.481</td>\n",
       "                        <td id=\"T_1873d7cc_599d_11eb_afb3_cba9d8b76a84row10_col17\" class=\"data row10 col17\" >0.344</td>\n",
       "                        <td id=\"T_1873d7cc_599d_11eb_afb3_cba9d8b76a84row10_col18\" class=\"data row10 col18\" >0.286</td>\n",
       "                        <td id=\"T_1873d7cc_599d_11eb_afb3_cba9d8b76a84row10_col19\" class=\"data row10 col19\" >0.314</td>\n",
       "                        <td id=\"T_1873d7cc_599d_11eb_afb3_cba9d8b76a84row10_col20\" class=\"data row10 col20\" >0.684</td>\n",
       "                        <td id=\"T_1873d7cc_599d_11eb_afb3_cba9d8b76a84row10_col21\" class=\"data row10 col21\" >-0.295</td>\n",
       "                        <td id=\"T_1873d7cc_599d_11eb_afb3_cba9d8b76a84row10_col22\" class=\"data row10 col22\" >-0.0478</td>\n",
       "                        <td id=\"T_1873d7cc_599d_11eb_afb3_cba9d8b76a84row10_col23\" class=\"data row10 col23\" >-0.247</td>\n",
       "                        <td id=\"T_1873d7cc_599d_11eb_afb3_cba9d8b76a84row10_col24\" class=\"data row10 col24\" >-0.305</td>\n",
       "                        <td id=\"T_1873d7cc_599d_11eb_afb3_cba9d8b76a84row10_col25\" class=\"data row10 col25\" >0.493</td>\n",
       "                        <td id=\"T_1873d7cc_599d_11eb_afb3_cba9d8b76a84row10_col26\" class=\"data row10 col26\" >0.404</td>\n",
       "                        <td id=\"T_1873d7cc_599d_11eb_afb3_cba9d8b76a84row10_col27\" class=\"data row10 col27\" >0.243</td>\n",
       "                        <td id=\"T_1873d7cc_599d_11eb_afb3_cba9d8b76a84row10_col28\" class=\"data row10 col28\" >0.139</td>\n",
       "                        <td id=\"T_1873d7cc_599d_11eb_afb3_cba9d8b76a84row10_col29\" class=\"data row10 col29\" >0.295</td>\n",
       "                        <td id=\"T_1873d7cc_599d_11eb_afb3_cba9d8b76a84row10_col30\" class=\"data row10 col30\" >0.761</td>\n",
       "            </tr>\n",
       "            <tr>\n",
       "                        <th id=\"T_1873d7cc_599d_11eb_afb3_cba9d8b76a84level0_row11\" class=\"row_heading level0 row11\" >radius_se</th>\n",
       "                        <td id=\"T_1873d7cc_599d_11eb_afb3_cba9d8b76a84row11_col0\" class=\"data row11 col0\" >0.617</td>\n",
       "                        <td id=\"T_1873d7cc_599d_11eb_afb3_cba9d8b76a84row11_col1\" class=\"data row11 col1\" >0.55</td>\n",
       "                        <td id=\"T_1873d7cc_599d_11eb_afb3_cba9d8b76a84row11_col2\" class=\"data row11 col2\" >0.364</td>\n",
       "                        <td id=\"T_1873d7cc_599d_11eb_afb3_cba9d8b76a84row11_col3\" class=\"data row11 col3\" >0.56</td>\n",
       "                        <td id=\"T_1873d7cc_599d_11eb_afb3_cba9d8b76a84row11_col4\" class=\"data row11 col4\" >0.553</td>\n",
       "                        <td id=\"T_1873d7cc_599d_11eb_afb3_cba9d8b76a84row11_col5\" class=\"data row11 col5\" >0.334</td>\n",
       "                        <td id=\"T_1873d7cc_599d_11eb_afb3_cba9d8b76a84row11_col6\" class=\"data row11 col6\" >0.507</td>\n",
       "                        <td id=\"T_1873d7cc_599d_11eb_afb3_cba9d8b76a84row11_col7\" class=\"data row11 col7\" >0.575</td>\n",
       "                        <td id=\"T_1873d7cc_599d_11eb_afb3_cba9d8b76a84row11_col8\" class=\"data row11 col8\" >0.635</td>\n",
       "                        <td id=\"T_1873d7cc_599d_11eb_afb3_cba9d8b76a84row11_col9\" class=\"data row11 col9\" >0.338</td>\n",
       "                        <td id=\"T_1873d7cc_599d_11eb_afb3_cba9d8b76a84row11_col10\" class=\"data row11 col10\" >0.00148</td>\n",
       "                        <td id=\"T_1873d7cc_599d_11eb_afb3_cba9d8b76a84row11_col11\" class=\"data row11 col11\" >1.0</td>\n",
       "                        <td id=\"T_1873d7cc_599d_11eb_afb3_cba9d8b76a84row11_col12\" class=\"data row11 col12\" >0.31</td>\n",
       "                        <td id=\"T_1873d7cc_599d_11eb_afb3_cba9d8b76a84row11_col13\" class=\"data row11 col13\" >0.958</td>\n",
       "                        <td id=\"T_1873d7cc_599d_11eb_afb3_cba9d8b76a84row11_col14\" class=\"data row11 col14\" >0.953</td>\n",
       "                        <td id=\"T_1873d7cc_599d_11eb_afb3_cba9d8b76a84row11_col15\" class=\"data row11 col15\" >0.223</td>\n",
       "                        <td id=\"T_1873d7cc_599d_11eb_afb3_cba9d8b76a84row11_col16\" class=\"data row11 col16\" >0.428</td>\n",
       "                        <td id=\"T_1873d7cc_599d_11eb_afb3_cba9d8b76a84row11_col17\" class=\"data row11 col17\" >0.453</td>\n",
       "                        <td id=\"T_1873d7cc_599d_11eb_afb3_cba9d8b76a84row11_col18\" class=\"data row11 col18\" >0.596</td>\n",
       "                        <td id=\"T_1873d7cc_599d_11eb_afb3_cba9d8b76a84row11_col19\" class=\"data row11 col19\" >0.24</td>\n",
       "                        <td id=\"T_1873d7cc_599d_11eb_afb3_cba9d8b76a84row11_col20\" class=\"data row11 col20\" >0.348</td>\n",
       "                        <td id=\"T_1873d7cc_599d_11eb_afb3_cba9d8b76a84row11_col21\" class=\"data row11 col21\" >0.598</td>\n",
       "                        <td id=\"T_1873d7cc_599d_11eb_afb3_cba9d8b76a84row11_col22\" class=\"data row11 col22\" >0.284</td>\n",
       "                        <td id=\"T_1873d7cc_599d_11eb_afb3_cba9d8b76a84row11_col23\" class=\"data row11 col23\" >0.593</td>\n",
       "                        <td id=\"T_1873d7cc_599d_11eb_afb3_cba9d8b76a84row11_col24\" class=\"data row11 col24\" >0.596</td>\n",
       "                        <td id=\"T_1873d7cc_599d_11eb_afb3_cba9d8b76a84row11_col25\" class=\"data row11 col25\" >0.204</td>\n",
       "                        <td id=\"T_1873d7cc_599d_11eb_afb3_cba9d8b76a84row11_col26\" class=\"data row11 col26\" >0.34</td>\n",
       "                        <td id=\"T_1873d7cc_599d_11eb_afb3_cba9d8b76a84row11_col27\" class=\"data row11 col27\" >0.404</td>\n",
       "                        <td id=\"T_1873d7cc_599d_11eb_afb3_cba9d8b76a84row11_col28\" class=\"data row11 col28\" >0.509</td>\n",
       "                        <td id=\"T_1873d7cc_599d_11eb_afb3_cba9d8b76a84row11_col29\" class=\"data row11 col29\" >0.147</td>\n",
       "                        <td id=\"T_1873d7cc_599d_11eb_afb3_cba9d8b76a84row11_col30\" class=\"data row11 col30\" >0.111</td>\n",
       "            </tr>\n",
       "            <tr>\n",
       "                        <th id=\"T_1873d7cc_599d_11eb_afb3_cba9d8b76a84level0_row12\" class=\"row_heading level0 row12\" >texture_se</th>\n",
       "                        <td id=\"T_1873d7cc_599d_11eb_afb3_cba9d8b76a84row12_col0\" class=\"data row12 col0\" >0.0194</td>\n",
       "                        <td id=\"T_1873d7cc_599d_11eb_afb3_cba9d8b76a84row12_col1\" class=\"data row12 col1\" >-0.144</td>\n",
       "                        <td id=\"T_1873d7cc_599d_11eb_afb3_cba9d8b76a84row12_col2\" class=\"data row12 col2\" >0.451</td>\n",
       "                        <td id=\"T_1873d7cc_599d_11eb_afb3_cba9d8b76a84row12_col3\" class=\"data row12 col3\" >-0.138</td>\n",
       "                        <td id=\"T_1873d7cc_599d_11eb_afb3_cba9d8b76a84row12_col4\" class=\"data row12 col4\" >-0.142</td>\n",
       "                        <td id=\"T_1873d7cc_599d_11eb_afb3_cba9d8b76a84row12_col5\" class=\"data row12 col5\" >0.0913</td>\n",
       "                        <td id=\"T_1873d7cc_599d_11eb_afb3_cba9d8b76a84row12_col6\" class=\"data row12 col6\" >0.0478</td>\n",
       "                        <td id=\"T_1873d7cc_599d_11eb_afb3_cba9d8b76a84row12_col7\" class=\"data row12 col7\" >0.0513</td>\n",
       "                        <td id=\"T_1873d7cc_599d_11eb_afb3_cba9d8b76a84row12_col8\" class=\"data row12 col8\" >0.00871</td>\n",
       "                        <td id=\"T_1873d7cc_599d_11eb_afb3_cba9d8b76a84row12_col9\" class=\"data row12 col9\" >0.139</td>\n",
       "                        <td id=\"T_1873d7cc_599d_11eb_afb3_cba9d8b76a84row12_col10\" class=\"data row12 col10\" >0.157</td>\n",
       "                        <td id=\"T_1873d7cc_599d_11eb_afb3_cba9d8b76a84row12_col11\" class=\"data row12 col11\" >0.31</td>\n",
       "                        <td id=\"T_1873d7cc_599d_11eb_afb3_cba9d8b76a84row12_col12\" class=\"data row12 col12\" >1.0</td>\n",
       "                        <td id=\"T_1873d7cc_599d_11eb_afb3_cba9d8b76a84row12_col13\" class=\"data row12 col13\" >0.303</td>\n",
       "                        <td id=\"T_1873d7cc_599d_11eb_afb3_cba9d8b76a84row12_col14\" class=\"data row12 col14\" >0.201</td>\n",
       "                        <td id=\"T_1873d7cc_599d_11eb_afb3_cba9d8b76a84row12_col15\" class=\"data row12 col15\" >0.444</td>\n",
       "                        <td id=\"T_1873d7cc_599d_11eb_afb3_cba9d8b76a84row12_col16\" class=\"data row12 col16\" >0.23</td>\n",
       "                        <td id=\"T_1873d7cc_599d_11eb_afb3_cba9d8b76a84row12_col17\" class=\"data row12 col17\" >0.189</td>\n",
       "                        <td id=\"T_1873d7cc_599d_11eb_afb3_cba9d8b76a84row12_col18\" class=\"data row12 col18\" >0.261</td>\n",
       "                        <td id=\"T_1873d7cc_599d_11eb_afb3_cba9d8b76a84row12_col19\" class=\"data row12 col19\" >0.389</td>\n",
       "                        <td id=\"T_1873d7cc_599d_11eb_afb3_cba9d8b76a84row12_col20\" class=\"data row12 col20\" >0.309</td>\n",
       "                        <td id=\"T_1873d7cc_599d_11eb_afb3_cba9d8b76a84row12_col21\" class=\"data row12 col21\" >-0.149</td>\n",
       "                        <td id=\"T_1873d7cc_599d_11eb_afb3_cba9d8b76a84row12_col22\" class=\"data row12 col22\" >0.497</td>\n",
       "                        <td id=\"T_1873d7cc_599d_11eb_afb3_cba9d8b76a84row12_col23\" class=\"data row12 col23\" >-0.143</td>\n",
       "                        <td id=\"T_1873d7cc_599d_11eb_afb3_cba9d8b76a84row12_col24\" class=\"data row12 col24\" >-0.148</td>\n",
       "                        <td id=\"T_1873d7cc_599d_11eb_afb3_cba9d8b76a84row12_col25\" class=\"data row12 col25\" >-0.0231</td>\n",
       "                        <td id=\"T_1873d7cc_599d_11eb_afb3_cba9d8b76a84row12_col26\" class=\"data row12 col26\" >-0.0901</td>\n",
       "                        <td id=\"T_1873d7cc_599d_11eb_afb3_cba9d8b76a84row12_col27\" class=\"data row12 col27\" >-0.0706</td>\n",
       "                        <td id=\"T_1873d7cc_599d_11eb_afb3_cba9d8b76a84row12_col28\" class=\"data row12 col28\" >-0.097</td>\n",
       "                        <td id=\"T_1873d7cc_599d_11eb_afb3_cba9d8b76a84row12_col29\" class=\"data row12 col29\" >-0.12</td>\n",
       "                        <td id=\"T_1873d7cc_599d_11eb_afb3_cba9d8b76a84row12_col30\" class=\"data row12 col30\" >-0.0481</td>\n",
       "            </tr>\n",
       "            <tr>\n",
       "                        <th id=\"T_1873d7cc_599d_11eb_afb3_cba9d8b76a84level0_row13\" class=\"row_heading level0 row13\" >perimeter_se</th>\n",
       "                        <td id=\"T_1873d7cc_599d_11eb_afb3_cba9d8b76a84row13_col0\" class=\"data row13 col0\" >0.63</td>\n",
       "                        <td id=\"T_1873d7cc_599d_11eb_afb3_cba9d8b76a84row13_col1\" class=\"data row13 col1\" >0.566</td>\n",
       "                        <td id=\"T_1873d7cc_599d_11eb_afb3_cba9d8b76a84row13_col2\" class=\"data row13 col2\" >0.387</td>\n",
       "                        <td id=\"T_1873d7cc_599d_11eb_afb3_cba9d8b76a84row13_col3\" class=\"data row13 col3\" >0.583</td>\n",
       "                        <td id=\"T_1873d7cc_599d_11eb_afb3_cba9d8b76a84row13_col4\" class=\"data row13 col4\" >0.568</td>\n",
       "                        <td id=\"T_1873d7cc_599d_11eb_afb3_cba9d8b76a84row13_col5\" class=\"data row13 col5\" >0.331</td>\n",
       "                        <td id=\"T_1873d7cc_599d_11eb_afb3_cba9d8b76a84row13_col6\" class=\"data row13 col6\" >0.584</td>\n",
       "                        <td id=\"T_1873d7cc_599d_11eb_afb3_cba9d8b76a84row13_col7\" class=\"data row13 col7\" >0.646</td>\n",
       "                        <td id=\"T_1873d7cc_599d_11eb_afb3_cba9d8b76a84row13_col8\" class=\"data row13 col8\" >0.68</td>\n",
       "                        <td id=\"T_1873d7cc_599d_11eb_afb3_cba9d8b76a84row13_col9\" class=\"data row13 col9\" >0.355</td>\n",
       "                        <td id=\"T_1873d7cc_599d_11eb_afb3_cba9d8b76a84row13_col10\" class=\"data row13 col10\" >0.0553</td>\n",
       "                        <td id=\"T_1873d7cc_599d_11eb_afb3_cba9d8b76a84row13_col11\" class=\"data row13 col11\" >0.958</td>\n",
       "                        <td id=\"T_1873d7cc_599d_11eb_afb3_cba9d8b76a84row13_col12\" class=\"data row13 col12\" >0.303</td>\n",
       "                        <td id=\"T_1873d7cc_599d_11eb_afb3_cba9d8b76a84row13_col13\" class=\"data row13 col13\" >1.0</td>\n",
       "                        <td id=\"T_1873d7cc_599d_11eb_afb3_cba9d8b76a84row13_col14\" class=\"data row13 col14\" >0.927</td>\n",
       "                        <td id=\"T_1873d7cc_599d_11eb_afb3_cba9d8b76a84row13_col15\" class=\"data row13 col15\" >0.209</td>\n",
       "                        <td id=\"T_1873d7cc_599d_11eb_afb3_cba9d8b76a84row13_col16\" class=\"data row13 col16\" >0.532</td>\n",
       "                        <td id=\"T_1873d7cc_599d_11eb_afb3_cba9d8b76a84row13_col17\" class=\"data row13 col17\" >0.548</td>\n",
       "                        <td id=\"T_1873d7cc_599d_11eb_afb3_cba9d8b76a84row13_col18\" class=\"data row13 col18\" >0.67</td>\n",
       "                        <td id=\"T_1873d7cc_599d_11eb_afb3_cba9d8b76a84row13_col19\" class=\"data row13 col19\" >0.239</td>\n",
       "                        <td id=\"T_1873d7cc_599d_11eb_afb3_cba9d8b76a84row13_col20\" class=\"data row13 col20\" >0.42</td>\n",
       "                        <td id=\"T_1873d7cc_599d_11eb_afb3_cba9d8b76a84row13_col21\" class=\"data row13 col21\" >0.607</td>\n",
       "                        <td id=\"T_1873d7cc_599d_11eb_afb3_cba9d8b76a84row13_col22\" class=\"data row13 col22\" >0.303</td>\n",
       "                        <td id=\"T_1873d7cc_599d_11eb_afb3_cba9d8b76a84row13_col23\" class=\"data row13 col23\" >0.627</td>\n",
       "                        <td id=\"T_1873d7cc_599d_11eb_afb3_cba9d8b76a84row13_col24\" class=\"data row13 col24\" >0.605</td>\n",
       "                        <td id=\"T_1873d7cc_599d_11eb_afb3_cba9d8b76a84row13_col25\" class=\"data row13 col25\" >0.198</td>\n",
       "                        <td id=\"T_1873d7cc_599d_11eb_afb3_cba9d8b76a84row13_col26\" class=\"data row13 col26\" >0.438</td>\n",
       "                        <td id=\"T_1873d7cc_599d_11eb_afb3_cba9d8b76a84row13_col27\" class=\"data row13 col27\" >0.49</td>\n",
       "                        <td id=\"T_1873d7cc_599d_11eb_afb3_cba9d8b76a84row13_col28\" class=\"data row13 col28\" >0.569</td>\n",
       "                        <td id=\"T_1873d7cc_599d_11eb_afb3_cba9d8b76a84row13_col29\" class=\"data row13 col29\" >0.167</td>\n",
       "                        <td id=\"T_1873d7cc_599d_11eb_afb3_cba9d8b76a84row13_col30\" class=\"data row13 col30\" >0.186</td>\n",
       "            </tr>\n",
       "            <tr>\n",
       "                        <th id=\"T_1873d7cc_599d_11eb_afb3_cba9d8b76a84level0_row14\" class=\"row_heading level0 row14\" >area_se</th>\n",
       "                        <td id=\"T_1873d7cc_599d_11eb_afb3_cba9d8b76a84row14_col0\" class=\"data row14 col0\" >0.714</td>\n",
       "                        <td id=\"T_1873d7cc_599d_11eb_afb3_cba9d8b76a84row14_col1\" class=\"data row14 col1\" >0.738</td>\n",
       "                        <td id=\"T_1873d7cc_599d_11eb_afb3_cba9d8b76a84row14_col2\" class=\"data row14 col2\" >0.395</td>\n",
       "                        <td id=\"T_1873d7cc_599d_11eb_afb3_cba9d8b76a84row14_col3\" class=\"data row14 col3\" >0.746</td>\n",
       "                        <td id=\"T_1873d7cc_599d_11eb_afb3_cba9d8b76a84row14_col4\" class=\"data row14 col4\" >0.742</td>\n",
       "                        <td id=\"T_1873d7cc_599d_11eb_afb3_cba9d8b76a84row14_col5\" class=\"data row14 col5\" >0.296</td>\n",
       "                        <td id=\"T_1873d7cc_599d_11eb_afb3_cba9d8b76a84row14_col6\" class=\"data row14 col6\" >0.54</td>\n",
       "                        <td id=\"T_1873d7cc_599d_11eb_afb3_cba9d8b76a84row14_col7\" class=\"data row14 col7\" >0.644</td>\n",
       "                        <td id=\"T_1873d7cc_599d_11eb_afb3_cba9d8b76a84row14_col8\" class=\"data row14 col8\" >0.727</td>\n",
       "                        <td id=\"T_1873d7cc_599d_11eb_afb3_cba9d8b76a84row14_col9\" class=\"data row14 col9\" >0.288</td>\n",
       "                        <td id=\"T_1873d7cc_599d_11eb_afb3_cba9d8b76a84row14_col10\" class=\"data row14 col10\" >-0.12</td>\n",
       "                        <td id=\"T_1873d7cc_599d_11eb_afb3_cba9d8b76a84row14_col11\" class=\"data row14 col11\" >0.953</td>\n",
       "                        <td id=\"T_1873d7cc_599d_11eb_afb3_cba9d8b76a84row14_col12\" class=\"data row14 col12\" >0.201</td>\n",
       "                        <td id=\"T_1873d7cc_599d_11eb_afb3_cba9d8b76a84row14_col13\" class=\"data row14 col13\" >0.927</td>\n",
       "                        <td id=\"T_1873d7cc_599d_11eb_afb3_cba9d8b76a84row14_col14\" class=\"data row14 col14\" >1.0</td>\n",
       "                        <td id=\"T_1873d7cc_599d_11eb_afb3_cba9d8b76a84row14_col15\" class=\"data row14 col15\" >0.067</td>\n",
       "                        <td id=\"T_1873d7cc_599d_11eb_afb3_cba9d8b76a84row14_col16\" class=\"data row14 col16\" >0.41</td>\n",
       "                        <td id=\"T_1873d7cc_599d_11eb_afb3_cba9d8b76a84row14_col17\" class=\"data row14 col17\" >0.461</td>\n",
       "                        <td id=\"T_1873d7cc_599d_11eb_afb3_cba9d8b76a84row14_col18\" class=\"data row14 col18\" >0.589</td>\n",
       "                        <td id=\"T_1873d7cc_599d_11eb_afb3_cba9d8b76a84row14_col19\" class=\"data row14 col19\" >0.0935</td>\n",
       "                        <td id=\"T_1873d7cc_599d_11eb_afb3_cba9d8b76a84row14_col20\" class=\"data row14 col20\" >0.259</td>\n",
       "                        <td id=\"T_1873d7cc_599d_11eb_afb3_cba9d8b76a84row14_col21\" class=\"data row14 col21\" >0.774</td>\n",
       "                        <td id=\"T_1873d7cc_599d_11eb_afb3_cba9d8b76a84row14_col22\" class=\"data row14 col22\" >0.328</td>\n",
       "                        <td id=\"T_1873d7cc_599d_11eb_afb3_cba9d8b76a84row14_col23\" class=\"data row14 col23\" >0.768</td>\n",
       "                        <td id=\"T_1873d7cc_599d_11eb_afb3_cba9d8b76a84row14_col24\" class=\"data row14 col24\" >0.776</td>\n",
       "                        <td id=\"T_1873d7cc_599d_11eb_afb3_cba9d8b76a84row14_col25\" class=\"data row14 col25\" >0.189</td>\n",
       "                        <td id=\"T_1873d7cc_599d_11eb_afb3_cba9d8b76a84row14_col26\" class=\"data row14 col26\" >0.414</td>\n",
       "                        <td id=\"T_1873d7cc_599d_11eb_afb3_cba9d8b76a84row14_col27\" class=\"data row14 col27\" >0.5</td>\n",
       "                        <td id=\"T_1873d7cc_599d_11eb_afb3_cba9d8b76a84row14_col28\" class=\"data row14 col28\" >0.62</td>\n",
       "                        <td id=\"T_1873d7cc_599d_11eb_afb3_cba9d8b76a84row14_col29\" class=\"data row14 col29\" >0.154</td>\n",
       "                        <td id=\"T_1873d7cc_599d_11eb_afb3_cba9d8b76a84row14_col30\" class=\"data row14 col30\" >0.0917</td>\n",
       "            </tr>\n",
       "            <tr>\n",
       "                        <th id=\"T_1873d7cc_599d_11eb_afb3_cba9d8b76a84level0_row15\" class=\"row_heading level0 row15\" >smoothness_se</th>\n",
       "                        <td id=\"T_1873d7cc_599d_11eb_afb3_cba9d8b76a84row15_col0\" class=\"data row15 col0\" >-0.0522</td>\n",
       "                        <td id=\"T_1873d7cc_599d_11eb_afb3_cba9d8b76a84row15_col1\" class=\"data row15 col1\" >-0.326</td>\n",
       "                        <td id=\"T_1873d7cc_599d_11eb_afb3_cba9d8b76a84row15_col2\" class=\"data row15 col2\" >0.037</td>\n",
       "                        <td id=\"T_1873d7cc_599d_11eb_afb3_cba9d8b76a84row15_col3\" class=\"data row15 col3\" >-0.311</td>\n",
       "                        <td id=\"T_1873d7cc_599d_11eb_afb3_cba9d8b76a84row15_col4\" class=\"data row15 col4\" >-0.327</td>\n",
       "                        <td id=\"T_1873d7cc_599d_11eb_afb3_cba9d8b76a84row15_col5\" class=\"data row15 col5\" >0.339</td>\n",
       "                        <td id=\"T_1873d7cc_599d_11eb_afb3_cba9d8b76a84row15_col6\" class=\"data row15 col6\" >0.127</td>\n",
       "                        <td id=\"T_1873d7cc_599d_11eb_afb3_cba9d8b76a84row15_col7\" class=\"data row15 col7\" >0.0703</td>\n",
       "                        <td id=\"T_1873d7cc_599d_11eb_afb3_cba9d8b76a84row15_col8\" class=\"data row15 col8\" >0.0168</td>\n",
       "                        <td id=\"T_1873d7cc_599d_11eb_afb3_cba9d8b76a84row15_col9\" class=\"data row15 col9\" >0.206</td>\n",
       "                        <td id=\"T_1873d7cc_599d_11eb_afb3_cba9d8b76a84row15_col10\" class=\"data row15 col10\" >0.402</td>\n",
       "                        <td id=\"T_1873d7cc_599d_11eb_afb3_cba9d8b76a84row15_col11\" class=\"data row15 col11\" >0.223</td>\n",
       "                        <td id=\"T_1873d7cc_599d_11eb_afb3_cba9d8b76a84row15_col12\" class=\"data row15 col12\" >0.444</td>\n",
       "                        <td id=\"T_1873d7cc_599d_11eb_afb3_cba9d8b76a84row15_col13\" class=\"data row15 col13\" >0.209</td>\n",
       "                        <td id=\"T_1873d7cc_599d_11eb_afb3_cba9d8b76a84row15_col14\" class=\"data row15 col14\" >0.067</td>\n",
       "                        <td id=\"T_1873d7cc_599d_11eb_afb3_cba9d8b76a84row15_col15\" class=\"data row15 col15\" >1.0</td>\n",
       "                        <td id=\"T_1873d7cc_599d_11eb_afb3_cba9d8b76a84row15_col16\" class=\"data row15 col16\" >0.285</td>\n",
       "                        <td id=\"T_1873d7cc_599d_11eb_afb3_cba9d8b76a84row15_col17\" class=\"data row15 col17\" >0.237</td>\n",
       "                        <td id=\"T_1873d7cc_599d_11eb_afb3_cba9d8b76a84row15_col18\" class=\"data row15 col18\" >0.345</td>\n",
       "                        <td id=\"T_1873d7cc_599d_11eb_afb3_cba9d8b76a84row15_col19\" class=\"data row15 col19\" >0.474</td>\n",
       "                        <td id=\"T_1873d7cc_599d_11eb_afb3_cba9d8b76a84row15_col20\" class=\"data row15 col20\" >0.46</td>\n",
       "                        <td id=\"T_1873d7cc_599d_11eb_afb3_cba9d8b76a84row15_col21\" class=\"data row15 col21\" >-0.321</td>\n",
       "                        <td id=\"T_1873d7cc_599d_11eb_afb3_cba9d8b76a84row15_col22\" class=\"data row15 col22\" >-0.0363</td>\n",
       "                        <td id=\"T_1873d7cc_599d_11eb_afb3_cba9d8b76a84row15_col23\" class=\"data row15 col23\" >-0.309</td>\n",
       "                        <td id=\"T_1873d7cc_599d_11eb_afb3_cba9d8b76a84row15_col24\" class=\"data row15 col24\" >-0.324</td>\n",
       "                        <td id=\"T_1873d7cc_599d_11eb_afb3_cba9d8b76a84row15_col25\" class=\"data row15 col25\" >0.372</td>\n",
       "                        <td id=\"T_1873d7cc_599d_11eb_afb3_cba9d8b76a84row15_col26\" class=\"data row15 col26\" >-0.0492</td>\n",
       "                        <td id=\"T_1873d7cc_599d_11eb_afb3_cba9d8b76a84row15_col27\" class=\"data row15 col27\" >-0.0638</td>\n",
       "                        <td id=\"T_1873d7cc_599d_11eb_afb3_cba9d8b76a84row15_col28\" class=\"data row15 col28\" >-0.0765</td>\n",
       "                        <td id=\"T_1873d7cc_599d_11eb_afb3_cba9d8b76a84row15_col29\" class=\"data row15 col29\" >-0.0671</td>\n",
       "                        <td id=\"T_1873d7cc_599d_11eb_afb3_cba9d8b76a84row15_col30\" class=\"data row15 col30\" >0.13</td>\n",
       "            </tr>\n",
       "            <tr>\n",
       "                        <th id=\"T_1873d7cc_599d_11eb_afb3_cba9d8b76a84level0_row16\" class=\"row_heading level0 row16\" >compactness_se</th>\n",
       "                        <td id=\"T_1873d7cc_599d_11eb_afb3_cba9d8b76a84row16_col0\" class=\"data row16 col0\" >0.381</td>\n",
       "                        <td id=\"T_1873d7cc_599d_11eb_afb3_cba9d8b76a84row16_col1\" class=\"data row16 col1\" >0.265</td>\n",
       "                        <td id=\"T_1873d7cc_599d_11eb_afb3_cba9d8b76a84row16_col2\" class=\"data row16 col2\" >0.264</td>\n",
       "                        <td id=\"T_1873d7cc_599d_11eb_afb3_cba9d8b76a84row16_col3\" class=\"data row16 col3\" >0.309</td>\n",
       "                        <td id=\"T_1873d7cc_599d_11eb_afb3_cba9d8b76a84row16_col4\" class=\"data row16 col4\" >0.26</td>\n",
       "                        <td id=\"T_1873d7cc_599d_11eb_afb3_cba9d8b76a84row16_col5\" class=\"data row16 col5\" >0.392</td>\n",
       "                        <td id=\"T_1873d7cc_599d_11eb_afb3_cba9d8b76a84row16_col6\" class=\"data row16 col6\" >0.818</td>\n",
       "                        <td id=\"T_1873d7cc_599d_11eb_afb3_cba9d8b76a84row16_col7\" class=\"data row16 col7\" >0.761</td>\n",
       "                        <td id=\"T_1873d7cc_599d_11eb_afb3_cba9d8b76a84row16_col8\" class=\"data row16 col8\" >0.608</td>\n",
       "                        <td id=\"T_1873d7cc_599d_11eb_afb3_cba9d8b76a84row16_col9\" class=\"data row16 col9\" >0.436</td>\n",
       "                        <td id=\"T_1873d7cc_599d_11eb_afb3_cba9d8b76a84row16_col10\" class=\"data row16 col10\" >0.481</td>\n",
       "                        <td id=\"T_1873d7cc_599d_11eb_afb3_cba9d8b76a84row16_col11\" class=\"data row16 col11\" >0.428</td>\n",
       "                        <td id=\"T_1873d7cc_599d_11eb_afb3_cba9d8b76a84row16_col12\" class=\"data row16 col12\" >0.23</td>\n",
       "                        <td id=\"T_1873d7cc_599d_11eb_afb3_cba9d8b76a84row16_col13\" class=\"data row16 col13\" >0.532</td>\n",
       "                        <td id=\"T_1873d7cc_599d_11eb_afb3_cba9d8b76a84row16_col14\" class=\"data row16 col14\" >0.41</td>\n",
       "                        <td id=\"T_1873d7cc_599d_11eb_afb3_cba9d8b76a84row16_col15\" class=\"data row16 col15\" >0.285</td>\n",
       "                        <td id=\"T_1873d7cc_599d_11eb_afb3_cba9d8b76a84row16_col16\" class=\"data row16 col16\" >1.0</td>\n",
       "                        <td id=\"T_1873d7cc_599d_11eb_afb3_cba9d8b76a84row16_col17\" class=\"data row16 col17\" >0.881</td>\n",
       "                        <td id=\"T_1873d7cc_599d_11eb_afb3_cba9d8b76a84row16_col18\" class=\"data row16 col18\" >0.764</td>\n",
       "                        <td id=\"T_1873d7cc_599d_11eb_afb3_cba9d8b76a84row16_col19\" class=\"data row16 col19\" >0.273</td>\n",
       "                        <td id=\"T_1873d7cc_599d_11eb_afb3_cba9d8b76a84row16_col20\" class=\"data row16 col20\" >0.781</td>\n",
       "                        <td id=\"T_1873d7cc_599d_11eb_afb3_cba9d8b76a84row16_col21\" class=\"data row16 col21\" >0.285</td>\n",
       "                        <td id=\"T_1873d7cc_599d_11eb_afb3_cba9d8b76a84row16_col22\" class=\"data row16 col22\" >0.21</td>\n",
       "                        <td id=\"T_1873d7cc_599d_11eb_afb3_cba9d8b76a84row16_col23\" class=\"data row16 col23\" >0.345</td>\n",
       "                        <td id=\"T_1873d7cc_599d_11eb_afb3_cba9d8b76a84row16_col24\" class=\"data row16 col24\" >0.279</td>\n",
       "                        <td id=\"T_1873d7cc_599d_11eb_afb3_cba9d8b76a84row16_col25\" class=\"data row16 col25\" >0.321</td>\n",
       "                        <td id=\"T_1873d7cc_599d_11eb_afb3_cba9d8b76a84row16_col26\" class=\"data row16 col26\" >0.789</td>\n",
       "                        <td id=\"T_1873d7cc_599d_11eb_afb3_cba9d8b76a84row16_col27\" class=\"data row16 col27\" >0.701</td>\n",
       "                        <td id=\"T_1873d7cc_599d_11eb_afb3_cba9d8b76a84row16_col28\" class=\"data row16 col28\" >0.587</td>\n",
       "                        <td id=\"T_1873d7cc_599d_11eb_afb3_cba9d8b76a84row16_col29\" class=\"data row16 col29\" >0.266</td>\n",
       "                        <td id=\"T_1873d7cc_599d_11eb_afb3_cba9d8b76a84row16_col30\" class=\"data row16 col30\" >0.605</td>\n",
       "            </tr>\n",
       "            <tr>\n",
       "                        <th id=\"T_1873d7cc_599d_11eb_afb3_cba9d8b76a84level0_row17\" class=\"row_heading level0 row17\" >concavity_se</th>\n",
       "                        <td id=\"T_1873d7cc_599d_11eb_afb3_cba9d8b76a84row17_col0\" class=\"data row17 col0\" >0.47</td>\n",
       "                        <td id=\"T_1873d7cc_599d_11eb_afb3_cba9d8b76a84row17_col1\" class=\"data row17 col1\" >0.365</td>\n",
       "                        <td id=\"T_1873d7cc_599d_11eb_afb3_cba9d8b76a84row17_col2\" class=\"data row17 col2\" >0.287</td>\n",
       "                        <td id=\"T_1873d7cc_599d_11eb_afb3_cba9d8b76a84row17_col3\" class=\"data row17 col3\" >0.402</td>\n",
       "                        <td id=\"T_1873d7cc_599d_11eb_afb3_cba9d8b76a84row17_col4\" class=\"data row17 col4\" >0.362</td>\n",
       "                        <td id=\"T_1873d7cc_599d_11eb_afb3_cba9d8b76a84row17_col5\" class=\"data row17 col5\" >0.355</td>\n",
       "                        <td id=\"T_1873d7cc_599d_11eb_afb3_cba9d8b76a84row17_col6\" class=\"data row17 col6\" >0.772</td>\n",
       "                        <td id=\"T_1873d7cc_599d_11eb_afb3_cba9d8b76a84row17_col7\" class=\"data row17 col7\" >0.858</td>\n",
       "                        <td id=\"T_1873d7cc_599d_11eb_afb3_cba9d8b76a84row17_col8\" class=\"data row17 col8\" >0.675</td>\n",
       "                        <td id=\"T_1873d7cc_599d_11eb_afb3_cba9d8b76a84row17_col9\" class=\"data row17 col9\" >0.368</td>\n",
       "                        <td id=\"T_1873d7cc_599d_11eb_afb3_cba9d8b76a84row17_col10\" class=\"data row17 col10\" >0.344</td>\n",
       "                        <td id=\"T_1873d7cc_599d_11eb_afb3_cba9d8b76a84row17_col11\" class=\"data row17 col11\" >0.453</td>\n",
       "                        <td id=\"T_1873d7cc_599d_11eb_afb3_cba9d8b76a84row17_col12\" class=\"data row17 col12\" >0.189</td>\n",
       "                        <td id=\"T_1873d7cc_599d_11eb_afb3_cba9d8b76a84row17_col13\" class=\"data row17 col13\" >0.548</td>\n",
       "                        <td id=\"T_1873d7cc_599d_11eb_afb3_cba9d8b76a84row17_col14\" class=\"data row17 col14\" >0.461</td>\n",
       "                        <td id=\"T_1873d7cc_599d_11eb_afb3_cba9d8b76a84row17_col15\" class=\"data row17 col15\" >0.237</td>\n",
       "                        <td id=\"T_1873d7cc_599d_11eb_afb3_cba9d8b76a84row17_col16\" class=\"data row17 col16\" >0.881</td>\n",
       "                        <td id=\"T_1873d7cc_599d_11eb_afb3_cba9d8b76a84row17_col17\" class=\"data row17 col17\" >1.0</td>\n",
       "                        <td id=\"T_1873d7cc_599d_11eb_afb3_cba9d8b76a84row17_col18\" class=\"data row17 col18\" >0.805</td>\n",
       "                        <td id=\"T_1873d7cc_599d_11eb_afb3_cba9d8b76a84row17_col19\" class=\"data row17 col19\" >0.192</td>\n",
       "                        <td id=\"T_1873d7cc_599d_11eb_afb3_cba9d8b76a84row17_col20\" class=\"data row17 col20\" >0.668</td>\n",
       "                        <td id=\"T_1873d7cc_599d_11eb_afb3_cba9d8b76a84row17_col21\" class=\"data row17 col21\" >0.382</td>\n",
       "                        <td id=\"T_1873d7cc_599d_11eb_afb3_cba9d8b76a84row17_col22\" class=\"data row17 col22\" >0.236</td>\n",
       "                        <td id=\"T_1873d7cc_599d_11eb_afb3_cba9d8b76a84row17_col23\" class=\"data row17 col23\" >0.433</td>\n",
       "                        <td id=\"T_1873d7cc_599d_11eb_afb3_cba9d8b76a84row17_col24\" class=\"data row17 col24\" >0.378</td>\n",
       "                        <td id=\"T_1873d7cc_599d_11eb_afb3_cba9d8b76a84row17_col25\" class=\"data row17 col25\" >0.305</td>\n",
       "                        <td id=\"T_1873d7cc_599d_11eb_afb3_cba9d8b76a84row17_col26\" class=\"data row17 col26\" >0.732</td>\n",
       "                        <td id=\"T_1873d7cc_599d_11eb_afb3_cba9d8b76a84row17_col27\" class=\"data row17 col27\" >0.811</td>\n",
       "                        <td id=\"T_1873d7cc_599d_11eb_afb3_cba9d8b76a84row17_col28\" class=\"data row17 col28\" >0.657</td>\n",
       "                        <td id=\"T_1873d7cc_599d_11eb_afb3_cba9d8b76a84row17_col29\" class=\"data row17 col29\" >0.231</td>\n",
       "                        <td id=\"T_1873d7cc_599d_11eb_afb3_cba9d8b76a84row17_col30\" class=\"data row17 col30\" >0.506</td>\n",
       "            </tr>\n",
       "            <tr>\n",
       "                        <th id=\"T_1873d7cc_599d_11eb_afb3_cba9d8b76a84level0_row18\" class=\"row_heading level0 row18\" >concave points_se</th>\n",
       "                        <td id=\"T_1873d7cc_599d_11eb_afb3_cba9d8b76a84row18_col0\" class=\"data row18 col0\" >0.489</td>\n",
       "                        <td id=\"T_1873d7cc_599d_11eb_afb3_cba9d8b76a84row18_col1\" class=\"data row18 col1\" >0.411</td>\n",
       "                        <td id=\"T_1873d7cc_599d_11eb_afb3_cba9d8b76a84row18_col2\" class=\"data row18 col2\" >0.239</td>\n",
       "                        <td id=\"T_1873d7cc_599d_11eb_afb3_cba9d8b76a84row18_col3\" class=\"data row18 col3\" >0.442</td>\n",
       "                        <td id=\"T_1873d7cc_599d_11eb_afb3_cba9d8b76a84row18_col4\" class=\"data row18 col4\" >0.406</td>\n",
       "                        <td id=\"T_1873d7cc_599d_11eb_afb3_cba9d8b76a84row18_col5\" class=\"data row18 col5\" >0.439</td>\n",
       "                        <td id=\"T_1873d7cc_599d_11eb_afb3_cba9d8b76a84row18_col6\" class=\"data row18 col6\" >0.732</td>\n",
       "                        <td id=\"T_1873d7cc_599d_11eb_afb3_cba9d8b76a84row18_col7\" class=\"data row18 col7\" >0.775</td>\n",
       "                        <td id=\"T_1873d7cc_599d_11eb_afb3_cba9d8b76a84row18_col8\" class=\"data row18 col8\" >0.758</td>\n",
       "                        <td id=\"T_1873d7cc_599d_11eb_afb3_cba9d8b76a84row18_col9\" class=\"data row18 col9\" >0.383</td>\n",
       "                        <td id=\"T_1873d7cc_599d_11eb_afb3_cba9d8b76a84row18_col10\" class=\"data row18 col10\" >0.286</td>\n",
       "                        <td id=\"T_1873d7cc_599d_11eb_afb3_cba9d8b76a84row18_col11\" class=\"data row18 col11\" >0.596</td>\n",
       "                        <td id=\"T_1873d7cc_599d_11eb_afb3_cba9d8b76a84row18_col12\" class=\"data row18 col12\" >0.261</td>\n",
       "                        <td id=\"T_1873d7cc_599d_11eb_afb3_cba9d8b76a84row18_col13\" class=\"data row18 col13\" >0.67</td>\n",
       "                        <td id=\"T_1873d7cc_599d_11eb_afb3_cba9d8b76a84row18_col14\" class=\"data row18 col14\" >0.589</td>\n",
       "                        <td id=\"T_1873d7cc_599d_11eb_afb3_cba9d8b76a84row18_col15\" class=\"data row18 col15\" >0.345</td>\n",
       "                        <td id=\"T_1873d7cc_599d_11eb_afb3_cba9d8b76a84row18_col16\" class=\"data row18 col16\" >0.764</td>\n",
       "                        <td id=\"T_1873d7cc_599d_11eb_afb3_cba9d8b76a84row18_col17\" class=\"data row18 col17\" >0.805</td>\n",
       "                        <td id=\"T_1873d7cc_599d_11eb_afb3_cba9d8b76a84row18_col18\" class=\"data row18 col18\" >1.0</td>\n",
       "                        <td id=\"T_1873d7cc_599d_11eb_afb3_cba9d8b76a84row18_col19\" class=\"data row18 col19\" >0.262</td>\n",
       "                        <td id=\"T_1873d7cc_599d_11eb_afb3_cba9d8b76a84row18_col20\" class=\"data row18 col20\" >0.611</td>\n",
       "                        <td id=\"T_1873d7cc_599d_11eb_afb3_cba9d8b76a84row18_col21\" class=\"data row18 col21\" >0.41</td>\n",
       "                        <td id=\"T_1873d7cc_599d_11eb_afb3_cba9d8b76a84row18_col22\" class=\"data row18 col22\" >0.157</td>\n",
       "                        <td id=\"T_1873d7cc_599d_11eb_afb3_cba9d8b76a84row18_col23\" class=\"data row18 col23\" >0.448</td>\n",
       "                        <td id=\"T_1873d7cc_599d_11eb_afb3_cba9d8b76a84row18_col24\" class=\"data row18 col24\" >0.404</td>\n",
       "                        <td id=\"T_1873d7cc_599d_11eb_afb3_cba9d8b76a84row18_col25\" class=\"data row18 col25\" >0.295</td>\n",
       "                        <td id=\"T_1873d7cc_599d_11eb_afb3_cba9d8b76a84row18_col26\" class=\"data row18 col26\" >0.586</td>\n",
       "                        <td id=\"T_1873d7cc_599d_11eb_afb3_cba9d8b76a84row18_col27\" class=\"data row18 col27\" >0.625</td>\n",
       "                        <td id=\"T_1873d7cc_599d_11eb_afb3_cba9d8b76a84row18_col28\" class=\"data row18 col28\" >0.692</td>\n",
       "                        <td id=\"T_1873d7cc_599d_11eb_afb3_cba9d8b76a84row18_col29\" class=\"data row18 col29\" >0.133</td>\n",
       "                        <td id=\"T_1873d7cc_599d_11eb_afb3_cba9d8b76a84row18_col30\" class=\"data row18 col30\" >0.357</td>\n",
       "            </tr>\n",
       "            <tr>\n",
       "                        <th id=\"T_1873d7cc_599d_11eb_afb3_cba9d8b76a84level0_row19\" class=\"row_heading level0 row19\" >symmetry_se</th>\n",
       "                        <td id=\"T_1873d7cc_599d_11eb_afb3_cba9d8b76a84row19_col0\" class=\"data row19 col0\" >-0.0923</td>\n",
       "                        <td id=\"T_1873d7cc_599d_11eb_afb3_cba9d8b76a84row19_col1\" class=\"data row19 col1\" >-0.241</td>\n",
       "                        <td id=\"T_1873d7cc_599d_11eb_afb3_cba9d8b76a84row19_col2\" class=\"data row19 col2\" >0.00895</td>\n",
       "                        <td id=\"T_1873d7cc_599d_11eb_afb3_cba9d8b76a84row19_col3\" class=\"data row19 col3\" >-0.228</td>\n",
       "                        <td id=\"T_1873d7cc_599d_11eb_afb3_cba9d8b76a84row19_col4\" class=\"data row19 col4\" >-0.244</td>\n",
       "                        <td id=\"T_1873d7cc_599d_11eb_afb3_cba9d8b76a84row19_col5\" class=\"data row19 col5\" >0.151</td>\n",
       "                        <td id=\"T_1873d7cc_599d_11eb_afb3_cba9d8b76a84row19_col6\" class=\"data row19 col6\" >0.0984</td>\n",
       "                        <td id=\"T_1873d7cc_599d_11eb_afb3_cba9d8b76a84row19_col7\" class=\"data row19 col7\" >0.0228</td>\n",
       "                        <td id=\"T_1873d7cc_599d_11eb_afb3_cba9d8b76a84row19_col8\" class=\"data row19 col8\" >-0.0284</td>\n",
       "                        <td id=\"T_1873d7cc_599d_11eb_afb3_cba9d8b76a84row19_col9\" class=\"data row19 col9\" >0.384</td>\n",
       "                        <td id=\"T_1873d7cc_599d_11eb_afb3_cba9d8b76a84row19_col10\" class=\"data row19 col10\" >0.314</td>\n",
       "                        <td id=\"T_1873d7cc_599d_11eb_afb3_cba9d8b76a84row19_col11\" class=\"data row19 col11\" >0.24</td>\n",
       "                        <td id=\"T_1873d7cc_599d_11eb_afb3_cba9d8b76a84row19_col12\" class=\"data row19 col12\" >0.389</td>\n",
       "                        <td id=\"T_1873d7cc_599d_11eb_afb3_cba9d8b76a84row19_col13\" class=\"data row19 col13\" >0.239</td>\n",
       "                        <td id=\"T_1873d7cc_599d_11eb_afb3_cba9d8b76a84row19_col14\" class=\"data row19 col14\" >0.0935</td>\n",
       "                        <td id=\"T_1873d7cc_599d_11eb_afb3_cba9d8b76a84row19_col15\" class=\"data row19 col15\" >0.474</td>\n",
       "                        <td id=\"T_1873d7cc_599d_11eb_afb3_cba9d8b76a84row19_col16\" class=\"data row19 col16\" >0.273</td>\n",
       "                        <td id=\"T_1873d7cc_599d_11eb_afb3_cba9d8b76a84row19_col17\" class=\"data row19 col17\" >0.192</td>\n",
       "                        <td id=\"T_1873d7cc_599d_11eb_afb3_cba9d8b76a84row19_col18\" class=\"data row19 col18\" >0.262</td>\n",
       "                        <td id=\"T_1873d7cc_599d_11eb_afb3_cba9d8b76a84row19_col19\" class=\"data row19 col19\" >1.0</td>\n",
       "                        <td id=\"T_1873d7cc_599d_11eb_afb3_cba9d8b76a84row19_col20\" class=\"data row19 col20\" >0.381</td>\n",
       "                        <td id=\"T_1873d7cc_599d_11eb_afb3_cba9d8b76a84row19_col21\" class=\"data row19 col21\" >-0.261</td>\n",
       "                        <td id=\"T_1873d7cc_599d_11eb_afb3_cba9d8b76a84row19_col22\" class=\"data row19 col22\" >-0.105</td>\n",
       "                        <td id=\"T_1873d7cc_599d_11eb_afb3_cba9d8b76a84row19_col23\" class=\"data row19 col23\" >-0.247</td>\n",
       "                        <td id=\"T_1873d7cc_599d_11eb_afb3_cba9d8b76a84row19_col24\" class=\"data row19 col24\" >-0.267</td>\n",
       "                        <td id=\"T_1873d7cc_599d_11eb_afb3_cba9d8b76a84row19_col25\" class=\"data row19 col25\" >-0.0429</td>\n",
       "                        <td id=\"T_1873d7cc_599d_11eb_afb3_cba9d8b76a84row19_col26\" class=\"data row19 col26\" >-0.0821</td>\n",
       "                        <td id=\"T_1873d7cc_599d_11eb_afb3_cba9d8b76a84row19_col27\" class=\"data row19 col27\" >-0.118</td>\n",
       "                        <td id=\"T_1873d7cc_599d_11eb_afb3_cba9d8b76a84row19_col28\" class=\"data row19 col28\" >-0.141</td>\n",
       "                        <td id=\"T_1873d7cc_599d_11eb_afb3_cba9d8b76a84row19_col29\" class=\"data row19 col29\" >0.283</td>\n",
       "                        <td id=\"T_1873d7cc_599d_11eb_afb3_cba9d8b76a84row19_col30\" class=\"data row19 col30\" >0.0111</td>\n",
       "            </tr>\n",
       "            <tr>\n",
       "                        <th id=\"T_1873d7cc_599d_11eb_afb3_cba9d8b76a84level0_row20\" class=\"row_heading level0 row20\" >fractal_dimension_se</th>\n",
       "                        <td id=\"T_1873d7cc_599d_11eb_afb3_cba9d8b76a84row20_col0\" class=\"data row20 col0\" >0.201</td>\n",
       "                        <td id=\"T_1873d7cc_599d_11eb_afb3_cba9d8b76a84row20_col1\" class=\"data row20 col1\" >-0.00841</td>\n",
       "                        <td id=\"T_1873d7cc_599d_11eb_afb3_cba9d8b76a84row20_col2\" class=\"data row20 col2\" >0.148</td>\n",
       "                        <td id=\"T_1873d7cc_599d_11eb_afb3_cba9d8b76a84row20_col3\" class=\"data row20 col3\" >0.0324</td>\n",
       "                        <td id=\"T_1873d7cc_599d_11eb_afb3_cba9d8b76a84row20_col4\" class=\"data row20 col4\" >-0.0127</td>\n",
       "                        <td id=\"T_1873d7cc_599d_11eb_afb3_cba9d8b76a84row20_col5\" class=\"data row20 col5\" >0.413</td>\n",
       "                        <td id=\"T_1873d7cc_599d_11eb_afb3_cba9d8b76a84row20_col6\" class=\"data row20 col6\" >0.621</td>\n",
       "                        <td id=\"T_1873d7cc_599d_11eb_afb3_cba9d8b76a84row20_col7\" class=\"data row20 col7\" >0.514</td>\n",
       "                        <td id=\"T_1873d7cc_599d_11eb_afb3_cba9d8b76a84row20_col8\" class=\"data row20 col8\" >0.378</td>\n",
       "                        <td id=\"T_1873d7cc_599d_11eb_afb3_cba9d8b76a84row20_col9\" class=\"data row20 col9\" >0.403</td>\n",
       "                        <td id=\"T_1873d7cc_599d_11eb_afb3_cba9d8b76a84row20_col10\" class=\"data row20 col10\" >0.684</td>\n",
       "                        <td id=\"T_1873d7cc_599d_11eb_afb3_cba9d8b76a84row20_col11\" class=\"data row20 col11\" >0.348</td>\n",
       "                        <td id=\"T_1873d7cc_599d_11eb_afb3_cba9d8b76a84row20_col12\" class=\"data row20 col12\" >0.309</td>\n",
       "                        <td id=\"T_1873d7cc_599d_11eb_afb3_cba9d8b76a84row20_col13\" class=\"data row20 col13\" >0.42</td>\n",
       "                        <td id=\"T_1873d7cc_599d_11eb_afb3_cba9d8b76a84row20_col14\" class=\"data row20 col14\" >0.259</td>\n",
       "                        <td id=\"T_1873d7cc_599d_11eb_afb3_cba9d8b76a84row20_col15\" class=\"data row20 col15\" >0.46</td>\n",
       "                        <td id=\"T_1873d7cc_599d_11eb_afb3_cba9d8b76a84row20_col16\" class=\"data row20 col16\" >0.781</td>\n",
       "                        <td id=\"T_1873d7cc_599d_11eb_afb3_cba9d8b76a84row20_col17\" class=\"data row20 col17\" >0.668</td>\n",
       "                        <td id=\"T_1873d7cc_599d_11eb_afb3_cba9d8b76a84row20_col18\" class=\"data row20 col18\" >0.611</td>\n",
       "                        <td id=\"T_1873d7cc_599d_11eb_afb3_cba9d8b76a84row20_col19\" class=\"data row20 col19\" >0.381</td>\n",
       "                        <td id=\"T_1873d7cc_599d_11eb_afb3_cba9d8b76a84row20_col20\" class=\"data row20 col20\" >1.0</td>\n",
       "                        <td id=\"T_1873d7cc_599d_11eb_afb3_cba9d8b76a84row20_col21\" class=\"data row20 col21\" >0.0133</td>\n",
       "                        <td id=\"T_1873d7cc_599d_11eb_afb3_cba9d8b76a84row20_col22\" class=\"data row20 col22\" >0.0832</td>\n",
       "                        <td id=\"T_1873d7cc_599d_11eb_afb3_cba9d8b76a84row20_col23\" class=\"data row20 col23\" >0.063</td>\n",
       "                        <td id=\"T_1873d7cc_599d_11eb_afb3_cba9d8b76a84row20_col24\" class=\"data row20 col24\" >0.00731</td>\n",
       "                        <td id=\"T_1873d7cc_599d_11eb_afb3_cba9d8b76a84row20_col25\" class=\"data row20 col25\" >0.312</td>\n",
       "                        <td id=\"T_1873d7cc_599d_11eb_afb3_cba9d8b76a84row20_col26\" class=\"data row20 col26\" >0.527</td>\n",
       "                        <td id=\"T_1873d7cc_599d_11eb_afb3_cba9d8b76a84row20_col27\" class=\"data row20 col27\" >0.432</td>\n",
       "                        <td id=\"T_1873d7cc_599d_11eb_afb3_cba9d8b76a84row20_col28\" class=\"data row20 col28\" >0.331</td>\n",
       "                        <td id=\"T_1873d7cc_599d_11eb_afb3_cba9d8b76a84row20_col29\" class=\"data row20 col29\" >0.173</td>\n",
       "                        <td id=\"T_1873d7cc_599d_11eb_afb3_cba9d8b76a84row20_col30\" class=\"data row20 col30\" >0.713</td>\n",
       "            </tr>\n",
       "            <tr>\n",
       "                        <th id=\"T_1873d7cc_599d_11eb_afb3_cba9d8b76a84level0_row21\" class=\"row_heading level0 row21\" >radius_worst</th>\n",
       "                        <td id=\"T_1873d7cc_599d_11eb_afb3_cba9d8b76a84row21_col0\" class=\"data row21 col0\" >0.788</td>\n",
       "                        <td id=\"T_1873d7cc_599d_11eb_afb3_cba9d8b76a84row21_col1\" class=\"data row21 col1\" >0.979</td>\n",
       "                        <td id=\"T_1873d7cc_599d_11eb_afb3_cba9d8b76a84row21_col2\" class=\"data row21 col2\" >0.367</td>\n",
       "                        <td id=\"T_1873d7cc_599d_11eb_afb3_cba9d8b76a84row21_col3\" class=\"data row21 col3\" >0.981</td>\n",
       "                        <td id=\"T_1873d7cc_599d_11eb_afb3_cba9d8b76a84row21_col4\" class=\"data row21 col4\" >0.979</td>\n",
       "                        <td id=\"T_1873d7cc_599d_11eb_afb3_cba9d8b76a84row21_col5\" class=\"data row21 col5\" >0.203</td>\n",
       "                        <td id=\"T_1873d7cc_599d_11eb_afb3_cba9d8b76a84row21_col6\" class=\"data row21 col6\" >0.543</td>\n",
       "                        <td id=\"T_1873d7cc_599d_11eb_afb3_cba9d8b76a84row21_col7\" class=\"data row21 col7\" >0.682</td>\n",
       "                        <td id=\"T_1873d7cc_599d_11eb_afb3_cba9d8b76a84row21_col8\" class=\"data row21 col8\" >0.787</td>\n",
       "                        <td id=\"T_1873d7cc_599d_11eb_afb3_cba9d8b76a84row21_col9\" class=\"data row21 col9\" >0.165</td>\n",
       "                        <td id=\"T_1873d7cc_599d_11eb_afb3_cba9d8b76a84row21_col10\" class=\"data row21 col10\" >-0.295</td>\n",
       "                        <td id=\"T_1873d7cc_599d_11eb_afb3_cba9d8b76a84row21_col11\" class=\"data row21 col11\" >0.598</td>\n",
       "                        <td id=\"T_1873d7cc_599d_11eb_afb3_cba9d8b76a84row21_col12\" class=\"data row21 col12\" >-0.149</td>\n",
       "                        <td id=\"T_1873d7cc_599d_11eb_afb3_cba9d8b76a84row21_col13\" class=\"data row21 col13\" >0.607</td>\n",
       "                        <td id=\"T_1873d7cc_599d_11eb_afb3_cba9d8b76a84row21_col14\" class=\"data row21 col14\" >0.774</td>\n",
       "                        <td id=\"T_1873d7cc_599d_11eb_afb3_cba9d8b76a84row21_col15\" class=\"data row21 col15\" >-0.321</td>\n",
       "                        <td id=\"T_1873d7cc_599d_11eb_afb3_cba9d8b76a84row21_col16\" class=\"data row21 col16\" >0.285</td>\n",
       "                        <td id=\"T_1873d7cc_599d_11eb_afb3_cba9d8b76a84row21_col17\" class=\"data row21 col17\" >0.382</td>\n",
       "                        <td id=\"T_1873d7cc_599d_11eb_afb3_cba9d8b76a84row21_col18\" class=\"data row21 col18\" >0.41</td>\n",
       "                        <td id=\"T_1873d7cc_599d_11eb_afb3_cba9d8b76a84row21_col19\" class=\"data row21 col19\" >-0.261</td>\n",
       "                        <td id=\"T_1873d7cc_599d_11eb_afb3_cba9d8b76a84row21_col20\" class=\"data row21 col20\" >0.0133</td>\n",
       "                        <td id=\"T_1873d7cc_599d_11eb_afb3_cba9d8b76a84row21_col21\" class=\"data row21 col21\" >1.0</td>\n",
       "                        <td id=\"T_1873d7cc_599d_11eb_afb3_cba9d8b76a84row21_col22\" class=\"data row21 col22\" >0.371</td>\n",
       "                        <td id=\"T_1873d7cc_599d_11eb_afb3_cba9d8b76a84row21_col23\" class=\"data row21 col23\" >0.994</td>\n",
       "                        <td id=\"T_1873d7cc_599d_11eb_afb3_cba9d8b76a84row21_col24\" class=\"data row21 col24\" >0.999</td>\n",
       "                        <td id=\"T_1873d7cc_599d_11eb_afb3_cba9d8b76a84row21_col25\" class=\"data row21 col25\" >0.219</td>\n",
       "                        <td id=\"T_1873d7cc_599d_11eb_afb3_cba9d8b76a84row21_col26\" class=\"data row21 col26\" >0.558</td>\n",
       "                        <td id=\"T_1873d7cc_599d_11eb_afb3_cba9d8b76a84row21_col27\" class=\"data row21 col27\" >0.656</td>\n",
       "                        <td id=\"T_1873d7cc_599d_11eb_afb3_cba9d8b76a84row21_col28\" class=\"data row21 col28\" >0.781</td>\n",
       "                        <td id=\"T_1873d7cc_599d_11eb_afb3_cba9d8b76a84row21_col29\" class=\"data row21 col29\" >0.257</td>\n",
       "                        <td id=\"T_1873d7cc_599d_11eb_afb3_cba9d8b76a84row21_col30\" class=\"data row21 col30\" >0.127</td>\n",
       "            </tr>\n",
       "            <tr>\n",
       "                        <th id=\"T_1873d7cc_599d_11eb_afb3_cba9d8b76a84level0_row22\" class=\"row_heading level0 row22\" >texture_worst</th>\n",
       "                        <td id=\"T_1873d7cc_599d_11eb_afb3_cba9d8b76a84row22_col0\" class=\"data row22 col0\" >0.477</td>\n",
       "                        <td id=\"T_1873d7cc_599d_11eb_afb3_cba9d8b76a84row22_col1\" class=\"data row22 col1\" >0.315</td>\n",
       "                        <td id=\"T_1873d7cc_599d_11eb_afb3_cba9d8b76a84row22_col2\" class=\"data row22 col2\" >0.909</td>\n",
       "                        <td id=\"T_1873d7cc_599d_11eb_afb3_cba9d8b76a84row22_col3\" class=\"data row22 col3\" >0.323</td>\n",
       "                        <td id=\"T_1873d7cc_599d_11eb_afb3_cba9d8b76a84row22_col4\" class=\"data row22 col4\" >0.318</td>\n",
       "                        <td id=\"T_1873d7cc_599d_11eb_afb3_cba9d8b76a84row22_col5\" class=\"data row22 col5\" >0.0606</td>\n",
       "                        <td id=\"T_1873d7cc_599d_11eb_afb3_cba9d8b76a84row22_col6\" class=\"data row22 col6\" >0.255</td>\n",
       "                        <td id=\"T_1873d7cc_599d_11eb_afb3_cba9d8b76a84row22_col7\" class=\"data row22 col7\" >0.336</td>\n",
       "                        <td id=\"T_1873d7cc_599d_11eb_afb3_cba9d8b76a84row22_col8\" class=\"data row22 col8\" >0.301</td>\n",
       "                        <td id=\"T_1873d7cc_599d_11eb_afb3_cba9d8b76a84row22_col9\" class=\"data row22 col9\" >0.119</td>\n",
       "                        <td id=\"T_1873d7cc_599d_11eb_afb3_cba9d8b76a84row22_col10\" class=\"data row22 col10\" >-0.0478</td>\n",
       "                        <td id=\"T_1873d7cc_599d_11eb_afb3_cba9d8b76a84row22_col11\" class=\"data row22 col11\" >0.284</td>\n",
       "                        <td id=\"T_1873d7cc_599d_11eb_afb3_cba9d8b76a84row22_col12\" class=\"data row22 col12\" >0.497</td>\n",
       "                        <td id=\"T_1873d7cc_599d_11eb_afb3_cba9d8b76a84row22_col13\" class=\"data row22 col13\" >0.303</td>\n",
       "                        <td id=\"T_1873d7cc_599d_11eb_afb3_cba9d8b76a84row22_col14\" class=\"data row22 col14\" >0.328</td>\n",
       "                        <td id=\"T_1873d7cc_599d_11eb_afb3_cba9d8b76a84row22_col15\" class=\"data row22 col15\" >-0.0363</td>\n",
       "                        <td id=\"T_1873d7cc_599d_11eb_afb3_cba9d8b76a84row22_col16\" class=\"data row22 col16\" >0.21</td>\n",
       "                        <td id=\"T_1873d7cc_599d_11eb_afb3_cba9d8b76a84row22_col17\" class=\"data row22 col17\" >0.236</td>\n",
       "                        <td id=\"T_1873d7cc_599d_11eb_afb3_cba9d8b76a84row22_col18\" class=\"data row22 col18\" >0.157</td>\n",
       "                        <td id=\"T_1873d7cc_599d_11eb_afb3_cba9d8b76a84row22_col19\" class=\"data row22 col19\" >-0.105</td>\n",
       "                        <td id=\"T_1873d7cc_599d_11eb_afb3_cba9d8b76a84row22_col20\" class=\"data row22 col20\" >0.0832</td>\n",
       "                        <td id=\"T_1873d7cc_599d_11eb_afb3_cba9d8b76a84row22_col21\" class=\"data row22 col21\" >0.371</td>\n",
       "                        <td id=\"T_1873d7cc_599d_11eb_afb3_cba9d8b76a84row22_col22\" class=\"data row22 col22\" >1.0</td>\n",
       "                        <td id=\"T_1873d7cc_599d_11eb_afb3_cba9d8b76a84row22_col23\" class=\"data row22 col23\" >0.381</td>\n",
       "                        <td id=\"T_1873d7cc_599d_11eb_afb3_cba9d8b76a84row22_col24\" class=\"data row22 col24\" >0.372</td>\n",
       "                        <td id=\"T_1873d7cc_599d_11eb_afb3_cba9d8b76a84row22_col25\" class=\"data row22 col25\" >0.218</td>\n",
       "                        <td id=\"T_1873d7cc_599d_11eb_afb3_cba9d8b76a84row22_col26\" class=\"data row22 col26\" >0.342</td>\n",
       "                        <td id=\"T_1873d7cc_599d_11eb_afb3_cba9d8b76a84row22_col27\" class=\"data row22 col27\" >0.387</td>\n",
       "                        <td id=\"T_1873d7cc_599d_11eb_afb3_cba9d8b76a84row22_col28\" class=\"data row22 col28\" >0.365</td>\n",
       "                        <td id=\"T_1873d7cc_599d_11eb_afb3_cba9d8b76a84row22_col29\" class=\"data row22 col29\" >0.227</td>\n",
       "                        <td id=\"T_1873d7cc_599d_11eb_afb3_cba9d8b76a84row22_col30\" class=\"data row22 col30\" >0.193</td>\n",
       "            </tr>\n",
       "            <tr>\n",
       "                        <th id=\"T_1873d7cc_599d_11eb_afb3_cba9d8b76a84level0_row23\" class=\"row_heading level0 row23\" >perimeter_worst</th>\n",
       "                        <td id=\"T_1873d7cc_599d_11eb_afb3_cba9d8b76a84row23_col0\" class=\"data row23 col0\" >0.796</td>\n",
       "                        <td id=\"T_1873d7cc_599d_11eb_afb3_cba9d8b76a84row23_col1\" class=\"data row23 col1\" >0.972</td>\n",
       "                        <td id=\"T_1873d7cc_599d_11eb_afb3_cba9d8b76a84row23_col2\" class=\"data row23 col2\" >0.375</td>\n",
       "                        <td id=\"T_1873d7cc_599d_11eb_afb3_cba9d8b76a84row23_col3\" class=\"data row23 col3\" >0.979</td>\n",
       "                        <td id=\"T_1873d7cc_599d_11eb_afb3_cba9d8b76a84row23_col4\" class=\"data row23 col4\" >0.972</td>\n",
       "                        <td id=\"T_1873d7cc_599d_11eb_afb3_cba9d8b76a84row23_col5\" class=\"data row23 col5\" >0.226</td>\n",
       "                        <td id=\"T_1873d7cc_599d_11eb_afb3_cba9d8b76a84row23_col6\" class=\"data row23 col6\" >0.592</td>\n",
       "                        <td id=\"T_1873d7cc_599d_11eb_afb3_cba9d8b76a84row23_col7\" class=\"data row23 col7\" >0.722</td>\n",
       "                        <td id=\"T_1873d7cc_599d_11eb_afb3_cba9d8b76a84row23_col8\" class=\"data row23 col8\" >0.814</td>\n",
       "                        <td id=\"T_1873d7cc_599d_11eb_afb3_cba9d8b76a84row23_col9\" class=\"data row23 col9\" >0.191</td>\n",
       "                        <td id=\"T_1873d7cc_599d_11eb_afb3_cba9d8b76a84row23_col10\" class=\"data row23 col10\" >-0.247</td>\n",
       "                        <td id=\"T_1873d7cc_599d_11eb_afb3_cba9d8b76a84row23_col11\" class=\"data row23 col11\" >0.593</td>\n",
       "                        <td id=\"T_1873d7cc_599d_11eb_afb3_cba9d8b76a84row23_col12\" class=\"data row23 col12\" >-0.143</td>\n",
       "                        <td id=\"T_1873d7cc_599d_11eb_afb3_cba9d8b76a84row23_col13\" class=\"data row23 col13\" >0.627</td>\n",
       "                        <td id=\"T_1873d7cc_599d_11eb_afb3_cba9d8b76a84row23_col14\" class=\"data row23 col14\" >0.768</td>\n",
       "                        <td id=\"T_1873d7cc_599d_11eb_afb3_cba9d8b76a84row23_col15\" class=\"data row23 col15\" >-0.309</td>\n",
       "                        <td id=\"T_1873d7cc_599d_11eb_afb3_cba9d8b76a84row23_col16\" class=\"data row23 col16\" >0.345</td>\n",
       "                        <td id=\"T_1873d7cc_599d_11eb_afb3_cba9d8b76a84row23_col17\" class=\"data row23 col17\" >0.433</td>\n",
       "                        <td id=\"T_1873d7cc_599d_11eb_afb3_cba9d8b76a84row23_col18\" class=\"data row23 col18\" >0.448</td>\n",
       "                        <td id=\"T_1873d7cc_599d_11eb_afb3_cba9d8b76a84row23_col19\" class=\"data row23 col19\" >-0.247</td>\n",
       "                        <td id=\"T_1873d7cc_599d_11eb_afb3_cba9d8b76a84row23_col20\" class=\"data row23 col20\" >0.063</td>\n",
       "                        <td id=\"T_1873d7cc_599d_11eb_afb3_cba9d8b76a84row23_col21\" class=\"data row23 col21\" >0.994</td>\n",
       "                        <td id=\"T_1873d7cc_599d_11eb_afb3_cba9d8b76a84row23_col22\" class=\"data row23 col22\" >0.381</td>\n",
       "                        <td id=\"T_1873d7cc_599d_11eb_afb3_cba9d8b76a84row23_col23\" class=\"data row23 col23\" >1.0</td>\n",
       "                        <td id=\"T_1873d7cc_599d_11eb_afb3_cba9d8b76a84row23_col24\" class=\"data row23 col24\" >0.992</td>\n",
       "                        <td id=\"T_1873d7cc_599d_11eb_afb3_cba9d8b76a84row23_col25\" class=\"data row23 col25\" >0.241</td>\n",
       "                        <td id=\"T_1873d7cc_599d_11eb_afb3_cba9d8b76a84row23_col26\" class=\"data row23 col26\" >0.613</td>\n",
       "                        <td id=\"T_1873d7cc_599d_11eb_afb3_cba9d8b76a84row23_col27\" class=\"data row23 col27\" >0.701</td>\n",
       "                        <td id=\"T_1873d7cc_599d_11eb_afb3_cba9d8b76a84row23_col28\" class=\"data row23 col28\" >0.813</td>\n",
       "                        <td id=\"T_1873d7cc_599d_11eb_afb3_cba9d8b76a84row23_col29\" class=\"data row23 col29\" >0.281</td>\n",
       "                        <td id=\"T_1873d7cc_599d_11eb_afb3_cba9d8b76a84row23_col30\" class=\"data row23 col30\" >0.179</td>\n",
       "            </tr>\n",
       "            <tr>\n",
       "                        <th id=\"T_1873d7cc_599d_11eb_afb3_cba9d8b76a84level0_row24\" class=\"row_heading level0 row24\" >area_worst</th>\n",
       "                        <td id=\"T_1873d7cc_599d_11eb_afb3_cba9d8b76a84row24_col0\" class=\"data row24 col0\" >0.787</td>\n",
       "                        <td id=\"T_1873d7cc_599d_11eb_afb3_cba9d8b76a84row24_col1\" class=\"data row24 col1\" >0.979</td>\n",
       "                        <td id=\"T_1873d7cc_599d_11eb_afb3_cba9d8b76a84row24_col2\" class=\"data row24 col2\" >0.368</td>\n",
       "                        <td id=\"T_1873d7cc_599d_11eb_afb3_cba9d8b76a84row24_col3\" class=\"data row24 col3\" >0.981</td>\n",
       "                        <td id=\"T_1873d7cc_599d_11eb_afb3_cba9d8b76a84row24_col4\" class=\"data row24 col4\" >0.98</td>\n",
       "                        <td id=\"T_1873d7cc_599d_11eb_afb3_cba9d8b76a84row24_col5\" class=\"data row24 col5\" >0.192</td>\n",
       "                        <td id=\"T_1873d7cc_599d_11eb_afb3_cba9d8b76a84row24_col6\" class=\"data row24 col6\" >0.532</td>\n",
       "                        <td id=\"T_1873d7cc_599d_11eb_afb3_cba9d8b76a84row24_col7\" class=\"data row24 col7\" >0.677</td>\n",
       "                        <td id=\"T_1873d7cc_599d_11eb_afb3_cba9d8b76a84row24_col8\" class=\"data row24 col8\" >0.78</td>\n",
       "                        <td id=\"T_1873d7cc_599d_11eb_afb3_cba9d8b76a84row24_col9\" class=\"data row24 col9\" >0.154</td>\n",
       "                        <td id=\"T_1873d7cc_599d_11eb_afb3_cba9d8b76a84row24_col10\" class=\"data row24 col10\" >-0.305</td>\n",
       "                        <td id=\"T_1873d7cc_599d_11eb_afb3_cba9d8b76a84row24_col11\" class=\"data row24 col11\" >0.596</td>\n",
       "                        <td id=\"T_1873d7cc_599d_11eb_afb3_cba9d8b76a84row24_col12\" class=\"data row24 col12\" >-0.148</td>\n",
       "                        <td id=\"T_1873d7cc_599d_11eb_afb3_cba9d8b76a84row24_col13\" class=\"data row24 col13\" >0.605</td>\n",
       "                        <td id=\"T_1873d7cc_599d_11eb_afb3_cba9d8b76a84row24_col14\" class=\"data row24 col14\" >0.776</td>\n",
       "                        <td id=\"T_1873d7cc_599d_11eb_afb3_cba9d8b76a84row24_col15\" class=\"data row24 col15\" >-0.324</td>\n",
       "                        <td id=\"T_1873d7cc_599d_11eb_afb3_cba9d8b76a84row24_col16\" class=\"data row24 col16\" >0.279</td>\n",
       "                        <td id=\"T_1873d7cc_599d_11eb_afb3_cba9d8b76a84row24_col17\" class=\"data row24 col17\" >0.378</td>\n",
       "                        <td id=\"T_1873d7cc_599d_11eb_afb3_cba9d8b76a84row24_col18\" class=\"data row24 col18\" >0.404</td>\n",
       "                        <td id=\"T_1873d7cc_599d_11eb_afb3_cba9d8b76a84row24_col19\" class=\"data row24 col19\" >-0.267</td>\n",
       "                        <td id=\"T_1873d7cc_599d_11eb_afb3_cba9d8b76a84row24_col20\" class=\"data row24 col20\" >0.00731</td>\n",
       "                        <td id=\"T_1873d7cc_599d_11eb_afb3_cba9d8b76a84row24_col21\" class=\"data row24 col21\" >0.999</td>\n",
       "                        <td id=\"T_1873d7cc_599d_11eb_afb3_cba9d8b76a84row24_col22\" class=\"data row24 col22\" >0.372</td>\n",
       "                        <td id=\"T_1873d7cc_599d_11eb_afb3_cba9d8b76a84row24_col23\" class=\"data row24 col23\" >0.992</td>\n",
       "                        <td id=\"T_1873d7cc_599d_11eb_afb3_cba9d8b76a84row24_col24\" class=\"data row24 col24\" >1.0</td>\n",
       "                        <td id=\"T_1873d7cc_599d_11eb_afb3_cba9d8b76a84row24_col25\" class=\"data row24 col25\" >0.21</td>\n",
       "                        <td id=\"T_1873d7cc_599d_11eb_afb3_cba9d8b76a84row24_col26\" class=\"data row24 col26\" >0.55</td>\n",
       "                        <td id=\"T_1873d7cc_599d_11eb_afb3_cba9d8b76a84row24_col27\" class=\"data row24 col27\" >0.651</td>\n",
       "                        <td id=\"T_1873d7cc_599d_11eb_afb3_cba9d8b76a84row24_col28\" class=\"data row24 col28\" >0.774</td>\n",
       "                        <td id=\"T_1873d7cc_599d_11eb_afb3_cba9d8b76a84row24_col29\" class=\"data row24 col29\" >0.248</td>\n",
       "                        <td id=\"T_1873d7cc_599d_11eb_afb3_cba9d8b76a84row24_col30\" class=\"data row24 col30\" >0.119</td>\n",
       "            </tr>\n",
       "            <tr>\n",
       "                        <th id=\"T_1873d7cc_599d_11eb_afb3_cba9d8b76a84level0_row25\" class=\"row_heading level0 row25\" >smoothness_worst</th>\n",
       "                        <td id=\"T_1873d7cc_599d_11eb_afb3_cba9d8b76a84row25_col0\" class=\"data row25 col0\" >0.426</td>\n",
       "                        <td id=\"T_1873d7cc_599d_11eb_afb3_cba9d8b76a84row25_col1\" class=\"data row25 col1\" >0.126</td>\n",
       "                        <td id=\"T_1873d7cc_599d_11eb_afb3_cba9d8b76a84row25_col2\" class=\"data row25 col2\" >0.101</td>\n",
       "                        <td id=\"T_1873d7cc_599d_11eb_afb3_cba9d8b76a84row25_col3\" class=\"data row25 col3\" >0.157</td>\n",
       "                        <td id=\"T_1873d7cc_599d_11eb_afb3_cba9d8b76a84row25_col4\" class=\"data row25 col4\" >0.12</td>\n",
       "                        <td id=\"T_1873d7cc_599d_11eb_afb3_cba9d8b76a84row25_col5\" class=\"data row25 col5\" >0.796</td>\n",
       "                        <td id=\"T_1873d7cc_599d_11eb_afb3_cba9d8b76a84row25_col6\" class=\"data row25 col6\" >0.579</td>\n",
       "                        <td id=\"T_1873d7cc_599d_11eb_afb3_cba9d8b76a84row25_col7\" class=\"data row25 col7\" >0.489</td>\n",
       "                        <td id=\"T_1873d7cc_599d_11eb_afb3_cba9d8b76a84row25_col8\" class=\"data row25 col8\" >0.49</td>\n",
       "                        <td id=\"T_1873d7cc_599d_11eb_afb3_cba9d8b76a84row25_col9\" class=\"data row25 col9\" >0.424</td>\n",
       "                        <td id=\"T_1873d7cc_599d_11eb_afb3_cba9d8b76a84row25_col10\" class=\"data row25 col10\" >0.493</td>\n",
       "                        <td id=\"T_1873d7cc_599d_11eb_afb3_cba9d8b76a84row25_col11\" class=\"data row25 col11\" >0.204</td>\n",
       "                        <td id=\"T_1873d7cc_599d_11eb_afb3_cba9d8b76a84row25_col12\" class=\"data row25 col12\" >-0.0231</td>\n",
       "                        <td id=\"T_1873d7cc_599d_11eb_afb3_cba9d8b76a84row25_col13\" class=\"data row25 col13\" >0.198</td>\n",
       "                        <td id=\"T_1873d7cc_599d_11eb_afb3_cba9d8b76a84row25_col14\" class=\"data row25 col14\" >0.189</td>\n",
       "                        <td id=\"T_1873d7cc_599d_11eb_afb3_cba9d8b76a84row25_col15\" class=\"data row25 col15\" >0.372</td>\n",
       "                        <td id=\"T_1873d7cc_599d_11eb_afb3_cba9d8b76a84row25_col16\" class=\"data row25 col16\" >0.321</td>\n",
       "                        <td id=\"T_1873d7cc_599d_11eb_afb3_cba9d8b76a84row25_col17\" class=\"data row25 col17\" >0.305</td>\n",
       "                        <td id=\"T_1873d7cc_599d_11eb_afb3_cba9d8b76a84row25_col18\" class=\"data row25 col18\" >0.295</td>\n",
       "                        <td id=\"T_1873d7cc_599d_11eb_afb3_cba9d8b76a84row25_col19\" class=\"data row25 col19\" >-0.0429</td>\n",
       "                        <td id=\"T_1873d7cc_599d_11eb_afb3_cba9d8b76a84row25_col20\" class=\"data row25 col20\" >0.312</td>\n",
       "                        <td id=\"T_1873d7cc_599d_11eb_afb3_cba9d8b76a84row25_col21\" class=\"data row25 col21\" >0.219</td>\n",
       "                        <td id=\"T_1873d7cc_599d_11eb_afb3_cba9d8b76a84row25_col22\" class=\"data row25 col22\" >0.218</td>\n",
       "                        <td id=\"T_1873d7cc_599d_11eb_afb3_cba9d8b76a84row25_col23\" class=\"data row25 col23\" >0.241</td>\n",
       "                        <td id=\"T_1873d7cc_599d_11eb_afb3_cba9d8b76a84row25_col24\" class=\"data row25 col24\" >0.21</td>\n",
       "                        <td id=\"T_1873d7cc_599d_11eb_afb3_cba9d8b76a84row25_col25\" class=\"data row25 col25\" >1.0</td>\n",
       "                        <td id=\"T_1873d7cc_599d_11eb_afb3_cba9d8b76a84row25_col26\" class=\"data row25 col26\" >0.56</td>\n",
       "                        <td id=\"T_1873d7cc_599d_11eb_afb3_cba9d8b76a84row25_col27\" class=\"data row25 col27\" >0.519</td>\n",
       "                        <td id=\"T_1873d7cc_599d_11eb_afb3_cba9d8b76a84row25_col28\" class=\"data row25 col28\" >0.544</td>\n",
       "                        <td id=\"T_1873d7cc_599d_11eb_afb3_cba9d8b76a84row25_col29\" class=\"data row25 col29\" >0.501</td>\n",
       "                        <td id=\"T_1873d7cc_599d_11eb_afb3_cba9d8b76a84row25_col30\" class=\"data row25 col30\" >0.615</td>\n",
       "            </tr>\n",
       "            <tr>\n",
       "                        <th id=\"T_1873d7cc_599d_11eb_afb3_cba9d8b76a84level0_row26\" class=\"row_heading level0 row26\" >compactness_worst</th>\n",
       "                        <td id=\"T_1873d7cc_599d_11eb_afb3_cba9d8b76a84row26_col0\" class=\"data row26 col0\" >0.607</td>\n",
       "                        <td id=\"T_1873d7cc_599d_11eb_afb3_cba9d8b76a84row26_col1\" class=\"data row26 col1\" >0.491</td>\n",
       "                        <td id=\"T_1873d7cc_599d_11eb_afb3_cba9d8b76a84row26_col2\" class=\"data row26 col2\" >0.291</td>\n",
       "                        <td id=\"T_1873d7cc_599d_11eb_afb3_cba9d8b76a84row26_col3\" class=\"data row26 col3\" >0.535</td>\n",
       "                        <td id=\"T_1873d7cc_599d_11eb_afb3_cba9d8b76a84row26_col4\" class=\"data row26 col4\" >0.486</td>\n",
       "                        <td id=\"T_1873d7cc_599d_11eb_afb3_cba9d8b76a84row26_col5\" class=\"data row26 col5\" >0.481</td>\n",
       "                        <td id=\"T_1873d7cc_599d_11eb_afb3_cba9d8b76a84row26_col6\" class=\"data row26 col6\" >0.901</td>\n",
       "                        <td id=\"T_1873d7cc_599d_11eb_afb3_cba9d8b76a84row26_col7\" class=\"data row26 col7\" >0.85</td>\n",
       "                        <td id=\"T_1873d7cc_599d_11eb_afb3_cba9d8b76a84row26_col8\" class=\"data row26 col8\" >0.758</td>\n",
       "                        <td id=\"T_1873d7cc_599d_11eb_afb3_cba9d8b76a84row26_col9\" class=\"data row26 col9\" >0.441</td>\n",
       "                        <td id=\"T_1873d7cc_599d_11eb_afb3_cba9d8b76a84row26_col10\" class=\"data row26 col10\" >0.404</td>\n",
       "                        <td id=\"T_1873d7cc_599d_11eb_afb3_cba9d8b76a84row26_col11\" class=\"data row26 col11\" >0.34</td>\n",
       "                        <td id=\"T_1873d7cc_599d_11eb_afb3_cba9d8b76a84row26_col12\" class=\"data row26 col12\" >-0.0901</td>\n",
       "                        <td id=\"T_1873d7cc_599d_11eb_afb3_cba9d8b76a84row26_col13\" class=\"data row26 col13\" >0.438</td>\n",
       "                        <td id=\"T_1873d7cc_599d_11eb_afb3_cba9d8b76a84row26_col14\" class=\"data row26 col14\" >0.414</td>\n",
       "                        <td id=\"T_1873d7cc_599d_11eb_afb3_cba9d8b76a84row26_col15\" class=\"data row26 col15\" >-0.0492</td>\n",
       "                        <td id=\"T_1873d7cc_599d_11eb_afb3_cba9d8b76a84row26_col16\" class=\"data row26 col16\" >0.789</td>\n",
       "                        <td id=\"T_1873d7cc_599d_11eb_afb3_cba9d8b76a84row26_col17\" class=\"data row26 col17\" >0.732</td>\n",
       "                        <td id=\"T_1873d7cc_599d_11eb_afb3_cba9d8b76a84row26_col18\" class=\"data row26 col18\" >0.586</td>\n",
       "                        <td id=\"T_1873d7cc_599d_11eb_afb3_cba9d8b76a84row26_col19\" class=\"data row26 col19\" >-0.0821</td>\n",
       "                        <td id=\"T_1873d7cc_599d_11eb_afb3_cba9d8b76a84row26_col20\" class=\"data row26 col20\" >0.527</td>\n",
       "                        <td id=\"T_1873d7cc_599d_11eb_afb3_cba9d8b76a84row26_col21\" class=\"data row26 col21\" >0.558</td>\n",
       "                        <td id=\"T_1873d7cc_599d_11eb_afb3_cba9d8b76a84row26_col22\" class=\"data row26 col22\" >0.342</td>\n",
       "                        <td id=\"T_1873d7cc_599d_11eb_afb3_cba9d8b76a84row26_col23\" class=\"data row26 col23\" >0.613</td>\n",
       "                        <td id=\"T_1873d7cc_599d_11eb_afb3_cba9d8b76a84row26_col24\" class=\"data row26 col24\" >0.55</td>\n",
       "                        <td id=\"T_1873d7cc_599d_11eb_afb3_cba9d8b76a84row26_col25\" class=\"data row26 col25\" >0.56</td>\n",
       "                        <td id=\"T_1873d7cc_599d_11eb_afb3_cba9d8b76a84row26_col26\" class=\"data row26 col26\" >1.0</td>\n",
       "                        <td id=\"T_1873d7cc_599d_11eb_afb3_cba9d8b76a84row26_col27\" class=\"data row26 col27\" >0.915</td>\n",
       "                        <td id=\"T_1873d7cc_599d_11eb_afb3_cba9d8b76a84row26_col28\" class=\"data row26 col28\" >0.844</td>\n",
       "                        <td id=\"T_1873d7cc_599d_11eb_afb3_cba9d8b76a84row26_col29\" class=\"data row26 col29\" >0.527</td>\n",
       "                        <td id=\"T_1873d7cc_599d_11eb_afb3_cba9d8b76a84row26_col30\" class=\"data row26 col30\" >0.762</td>\n",
       "            </tr>\n",
       "            <tr>\n",
       "                        <th id=\"T_1873d7cc_599d_11eb_afb3_cba9d8b76a84level0_row27\" class=\"row_heading level0 row27\" >concavity_worst</th>\n",
       "                        <td id=\"T_1873d7cc_599d_11eb_afb3_cba9d8b76a84row27_col0\" class=\"data row27 col0\" >0.706</td>\n",
       "                        <td id=\"T_1873d7cc_599d_11eb_afb3_cba9d8b76a84row27_col1\" class=\"data row27 col1\" >0.596</td>\n",
       "                        <td id=\"T_1873d7cc_599d_11eb_afb3_cba9d8b76a84row27_col2\" class=\"data row27 col2\" >0.34</td>\n",
       "                        <td id=\"T_1873d7cc_599d_11eb_afb3_cba9d8b76a84row27_col3\" class=\"data row27 col3\" >0.632</td>\n",
       "                        <td id=\"T_1873d7cc_599d_11eb_afb3_cba9d8b76a84row27_col4\" class=\"data row27 col4\" >0.594</td>\n",
       "                        <td id=\"T_1873d7cc_599d_11eb_afb3_cba9d8b76a84row27_col5\" class=\"data row27 col5\" >0.429</td>\n",
       "                        <td id=\"T_1873d7cc_599d_11eb_afb3_cba9d8b76a84row27_col6\" class=\"data row27 col6\" >0.838</td>\n",
       "                        <td id=\"T_1873d7cc_599d_11eb_afb3_cba9d8b76a84row27_col7\" class=\"data row27 col7\" >0.939</td>\n",
       "                        <td id=\"T_1873d7cc_599d_11eb_afb3_cba9d8b76a84row27_col8\" class=\"data row27 col8\" >0.827</td>\n",
       "                        <td id=\"T_1873d7cc_599d_11eb_afb3_cba9d8b76a84row27_col9\" class=\"data row27 col9\" >0.394</td>\n",
       "                        <td id=\"T_1873d7cc_599d_11eb_afb3_cba9d8b76a84row27_col10\" class=\"data row27 col10\" >0.243</td>\n",
       "                        <td id=\"T_1873d7cc_599d_11eb_afb3_cba9d8b76a84row27_col11\" class=\"data row27 col11\" >0.404</td>\n",
       "                        <td id=\"T_1873d7cc_599d_11eb_afb3_cba9d8b76a84row27_col12\" class=\"data row27 col12\" >-0.0706</td>\n",
       "                        <td id=\"T_1873d7cc_599d_11eb_afb3_cba9d8b76a84row27_col13\" class=\"data row27 col13\" >0.49</td>\n",
       "                        <td id=\"T_1873d7cc_599d_11eb_afb3_cba9d8b76a84row27_col14\" class=\"data row27 col14\" >0.5</td>\n",
       "                        <td id=\"T_1873d7cc_599d_11eb_afb3_cba9d8b76a84row27_col15\" class=\"data row27 col15\" >-0.0638</td>\n",
       "                        <td id=\"T_1873d7cc_599d_11eb_afb3_cba9d8b76a84row27_col16\" class=\"data row27 col16\" >0.701</td>\n",
       "                        <td id=\"T_1873d7cc_599d_11eb_afb3_cba9d8b76a84row27_col17\" class=\"data row27 col17\" >0.811</td>\n",
       "                        <td id=\"T_1873d7cc_599d_11eb_afb3_cba9d8b76a84row27_col18\" class=\"data row27 col18\" >0.625</td>\n",
       "                        <td id=\"T_1873d7cc_599d_11eb_afb3_cba9d8b76a84row27_col19\" class=\"data row27 col19\" >-0.118</td>\n",
       "                        <td id=\"T_1873d7cc_599d_11eb_afb3_cba9d8b76a84row27_col20\" class=\"data row27 col20\" >0.432</td>\n",
       "                        <td id=\"T_1873d7cc_599d_11eb_afb3_cba9d8b76a84row27_col21\" class=\"data row27 col21\" >0.656</td>\n",
       "                        <td id=\"T_1873d7cc_599d_11eb_afb3_cba9d8b76a84row27_col22\" class=\"data row27 col22\" >0.387</td>\n",
       "                        <td id=\"T_1873d7cc_599d_11eb_afb3_cba9d8b76a84row27_col23\" class=\"data row27 col23\" >0.701</td>\n",
       "                        <td id=\"T_1873d7cc_599d_11eb_afb3_cba9d8b76a84row27_col24\" class=\"data row27 col24\" >0.651</td>\n",
       "                        <td id=\"T_1873d7cc_599d_11eb_afb3_cba9d8b76a84row27_col25\" class=\"data row27 col25\" >0.519</td>\n",
       "                        <td id=\"T_1873d7cc_599d_11eb_afb3_cba9d8b76a84row27_col26\" class=\"data row27 col26\" >0.915</td>\n",
       "                        <td id=\"T_1873d7cc_599d_11eb_afb3_cba9d8b76a84row27_col27\" class=\"data row27 col27\" >1.0</td>\n",
       "                        <td id=\"T_1873d7cc_599d_11eb_afb3_cba9d8b76a84row27_col28\" class=\"data row27 col28\" >0.902</td>\n",
       "                        <td id=\"T_1873d7cc_599d_11eb_afb3_cba9d8b76a84row27_col29\" class=\"data row27 col29\" >0.476</td>\n",
       "                        <td id=\"T_1873d7cc_599d_11eb_afb3_cba9d8b76a84row27_col30\" class=\"data row27 col30\" >0.623</td>\n",
       "            </tr>\n",
       "            <tr>\n",
       "                        <th id=\"T_1873d7cc_599d_11eb_afb3_cba9d8b76a84level0_row28\" class=\"row_heading level0 row28\" >concave points_worst</th>\n",
       "                        <td id=\"T_1873d7cc_599d_11eb_afb3_cba9d8b76a84row28_col0\" class=\"data row28 col0\" >0.782</td>\n",
       "                        <td id=\"T_1873d7cc_599d_11eb_afb3_cba9d8b76a84row28_col1\" class=\"data row28 col1\" >0.727</td>\n",
       "                        <td id=\"T_1873d7cc_599d_11eb_afb3_cba9d8b76a84row28_col2\" class=\"data row28 col2\" >0.319</td>\n",
       "                        <td id=\"T_1873d7cc_599d_11eb_afb3_cba9d8b76a84row28_col3\" class=\"data row28 col3\" >0.758</td>\n",
       "                        <td id=\"T_1873d7cc_599d_11eb_afb3_cba9d8b76a84row28_col4\" class=\"data row28 col4\" >0.723</td>\n",
       "                        <td id=\"T_1873d7cc_599d_11eb_afb3_cba9d8b76a84row28_col5\" class=\"data row28 col5\" >0.499</td>\n",
       "                        <td id=\"T_1873d7cc_599d_11eb_afb3_cba9d8b76a84row28_col6\" class=\"data row28 col6\" >0.825</td>\n",
       "                        <td id=\"T_1873d7cc_599d_11eb_afb3_cba9d8b76a84row28_col7\" class=\"data row28 col7\" >0.905</td>\n",
       "                        <td id=\"T_1873d7cc_599d_11eb_afb3_cba9d8b76a84row28_col8\" class=\"data row28 col8\" >0.937</td>\n",
       "                        <td id=\"T_1873d7cc_599d_11eb_afb3_cba9d8b76a84row28_col9\" class=\"data row28 col9\" >0.397</td>\n",
       "                        <td id=\"T_1873d7cc_599d_11eb_afb3_cba9d8b76a84row28_col10\" class=\"data row28 col10\" >0.139</td>\n",
       "                        <td id=\"T_1873d7cc_599d_11eb_afb3_cba9d8b76a84row28_col11\" class=\"data row28 col11\" >0.509</td>\n",
       "                        <td id=\"T_1873d7cc_599d_11eb_afb3_cba9d8b76a84row28_col12\" class=\"data row28 col12\" >-0.097</td>\n",
       "                        <td id=\"T_1873d7cc_599d_11eb_afb3_cba9d8b76a84row28_col13\" class=\"data row28 col13\" >0.569</td>\n",
       "                        <td id=\"T_1873d7cc_599d_11eb_afb3_cba9d8b76a84row28_col14\" class=\"data row28 col14\" >0.62</td>\n",
       "                        <td id=\"T_1873d7cc_599d_11eb_afb3_cba9d8b76a84row28_col15\" class=\"data row28 col15\" >-0.0765</td>\n",
       "                        <td id=\"T_1873d7cc_599d_11eb_afb3_cba9d8b76a84row28_col16\" class=\"data row28 col16\" >0.587</td>\n",
       "                        <td id=\"T_1873d7cc_599d_11eb_afb3_cba9d8b76a84row28_col17\" class=\"data row28 col17\" >0.657</td>\n",
       "                        <td id=\"T_1873d7cc_599d_11eb_afb3_cba9d8b76a84row28_col18\" class=\"data row28 col18\" >0.692</td>\n",
       "                        <td id=\"T_1873d7cc_599d_11eb_afb3_cba9d8b76a84row28_col19\" class=\"data row28 col19\" >-0.141</td>\n",
       "                        <td id=\"T_1873d7cc_599d_11eb_afb3_cba9d8b76a84row28_col20\" class=\"data row28 col20\" >0.331</td>\n",
       "                        <td id=\"T_1873d7cc_599d_11eb_afb3_cba9d8b76a84row28_col21\" class=\"data row28 col21\" >0.781</td>\n",
       "                        <td id=\"T_1873d7cc_599d_11eb_afb3_cba9d8b76a84row28_col22\" class=\"data row28 col22\" >0.365</td>\n",
       "                        <td id=\"T_1873d7cc_599d_11eb_afb3_cba9d8b76a84row28_col23\" class=\"data row28 col23\" >0.813</td>\n",
       "                        <td id=\"T_1873d7cc_599d_11eb_afb3_cba9d8b76a84row28_col24\" class=\"data row28 col24\" >0.774</td>\n",
       "                        <td id=\"T_1873d7cc_599d_11eb_afb3_cba9d8b76a84row28_col25\" class=\"data row28 col25\" >0.544</td>\n",
       "                        <td id=\"T_1873d7cc_599d_11eb_afb3_cba9d8b76a84row28_col26\" class=\"data row28 col26\" >0.844</td>\n",
       "                        <td id=\"T_1873d7cc_599d_11eb_afb3_cba9d8b76a84row28_col27\" class=\"data row28 col27\" >0.902</td>\n",
       "                        <td id=\"T_1873d7cc_599d_11eb_afb3_cba9d8b76a84row28_col28\" class=\"data row28 col28\" >1.0</td>\n",
       "                        <td id=\"T_1873d7cc_599d_11eb_afb3_cba9d8b76a84row28_col29\" class=\"data row28 col29\" >0.461</td>\n",
       "                        <td id=\"T_1873d7cc_599d_11eb_afb3_cba9d8b76a84row28_col30\" class=\"data row28 col30\" >0.517</td>\n",
       "            </tr>\n",
       "            <tr>\n",
       "                        <th id=\"T_1873d7cc_599d_11eb_afb3_cba9d8b76a84level0_row29\" class=\"row_heading level0 row29\" >symmetry_worst</th>\n",
       "                        <td id=\"T_1873d7cc_599d_11eb_afb3_cba9d8b76a84row29_col0\" class=\"data row29 col0\" >0.397</td>\n",
       "                        <td id=\"T_1873d7cc_599d_11eb_afb3_cba9d8b76a84row29_col1\" class=\"data row29 col1\" >0.175</td>\n",
       "                        <td id=\"T_1873d7cc_599d_11eb_afb3_cba9d8b76a84row29_col2\" class=\"data row29 col2\" >0.121</td>\n",
       "                        <td id=\"T_1873d7cc_599d_11eb_afb3_cba9d8b76a84row29_col3\" class=\"data row29 col3\" >0.199</td>\n",
       "                        <td id=\"T_1873d7cc_599d_11eb_afb3_cba9d8b76a84row29_col4\" class=\"data row29 col4\" >0.171</td>\n",
       "                        <td id=\"T_1873d7cc_599d_11eb_afb3_cba9d8b76a84row29_col5\" class=\"data row29 col5\" >0.394</td>\n",
       "                        <td id=\"T_1873d7cc_599d_11eb_afb3_cba9d8b76a84row29_col6\" class=\"data row29 col6\" >0.45</td>\n",
       "                        <td id=\"T_1873d7cc_599d_11eb_afb3_cba9d8b76a84row29_col7\" class=\"data row29 col7\" >0.384</td>\n",
       "                        <td id=\"T_1873d7cc_599d_11eb_afb3_cba9d8b76a84row29_col8\" class=\"data row29 col8\" >0.355</td>\n",
       "                        <td id=\"T_1873d7cc_599d_11eb_afb3_cba9d8b76a84row29_col9\" class=\"data row29 col9\" >0.71</td>\n",
       "                        <td id=\"T_1873d7cc_599d_11eb_afb3_cba9d8b76a84row29_col10\" class=\"data row29 col10\" >0.295</td>\n",
       "                        <td id=\"T_1873d7cc_599d_11eb_afb3_cba9d8b76a84row29_col11\" class=\"data row29 col11\" >0.147</td>\n",
       "                        <td id=\"T_1873d7cc_599d_11eb_afb3_cba9d8b76a84row29_col12\" class=\"data row29 col12\" >-0.12</td>\n",
       "                        <td id=\"T_1873d7cc_599d_11eb_afb3_cba9d8b76a84row29_col13\" class=\"data row29 col13\" >0.167</td>\n",
       "                        <td id=\"T_1873d7cc_599d_11eb_afb3_cba9d8b76a84row29_col14\" class=\"data row29 col14\" >0.154</td>\n",
       "                        <td id=\"T_1873d7cc_599d_11eb_afb3_cba9d8b76a84row29_col15\" class=\"data row29 col15\" >-0.0671</td>\n",
       "                        <td id=\"T_1873d7cc_599d_11eb_afb3_cba9d8b76a84row29_col16\" class=\"data row29 col16\" >0.266</td>\n",
       "                        <td id=\"T_1873d7cc_599d_11eb_afb3_cba9d8b76a84row29_col17\" class=\"data row29 col17\" >0.231</td>\n",
       "                        <td id=\"T_1873d7cc_599d_11eb_afb3_cba9d8b76a84row29_col18\" class=\"data row29 col18\" >0.133</td>\n",
       "                        <td id=\"T_1873d7cc_599d_11eb_afb3_cba9d8b76a84row29_col19\" class=\"data row29 col19\" >0.283</td>\n",
       "                        <td id=\"T_1873d7cc_599d_11eb_afb3_cba9d8b76a84row29_col20\" class=\"data row29 col20\" >0.173</td>\n",
       "                        <td id=\"T_1873d7cc_599d_11eb_afb3_cba9d8b76a84row29_col21\" class=\"data row29 col21\" >0.257</td>\n",
       "                        <td id=\"T_1873d7cc_599d_11eb_afb3_cba9d8b76a84row29_col22\" class=\"data row29 col22\" >0.227</td>\n",
       "                        <td id=\"T_1873d7cc_599d_11eb_afb3_cba9d8b76a84row29_col23\" class=\"data row29 col23\" >0.281</td>\n",
       "                        <td id=\"T_1873d7cc_599d_11eb_afb3_cba9d8b76a84row29_col24\" class=\"data row29 col24\" >0.248</td>\n",
       "                        <td id=\"T_1873d7cc_599d_11eb_afb3_cba9d8b76a84row29_col25\" class=\"data row29 col25\" >0.501</td>\n",
       "                        <td id=\"T_1873d7cc_599d_11eb_afb3_cba9d8b76a84row29_col26\" class=\"data row29 col26\" >0.527</td>\n",
       "                        <td id=\"T_1873d7cc_599d_11eb_afb3_cba9d8b76a84row29_col27\" class=\"data row29 col27\" >0.476</td>\n",
       "                        <td id=\"T_1873d7cc_599d_11eb_afb3_cba9d8b76a84row29_col28\" class=\"data row29 col28\" >0.461</td>\n",
       "                        <td id=\"T_1873d7cc_599d_11eb_afb3_cba9d8b76a84row29_col29\" class=\"data row29 col29\" >1.0</td>\n",
       "                        <td id=\"T_1873d7cc_599d_11eb_afb3_cba9d8b76a84row29_col30\" class=\"data row29 col30\" >0.488</td>\n",
       "            </tr>\n",
       "            <tr>\n",
       "                        <th id=\"T_1873d7cc_599d_11eb_afb3_cba9d8b76a84level0_row30\" class=\"row_heading level0 row30\" >fractal_dimension_worst</th>\n",
       "                        <td id=\"T_1873d7cc_599d_11eb_afb3_cba9d8b76a84row30_col0\" class=\"data row30 col0\" >0.311</td>\n",
       "                        <td id=\"T_1873d7cc_599d_11eb_afb3_cba9d8b76a84row30_col1\" class=\"data row30 col1\" >0.0446</td>\n",
       "                        <td id=\"T_1873d7cc_599d_11eb_afb3_cba9d8b76a84row30_col2\" class=\"data row30 col2\" >0.116</td>\n",
       "                        <td id=\"T_1873d7cc_599d_11eb_afb3_cba9d8b76a84row30_col3\" class=\"data row30 col3\" >0.089</td>\n",
       "                        <td id=\"T_1873d7cc_599d_11eb_afb3_cba9d8b76a84row30_col4\" class=\"data row30 col4\" >0.0388</td>\n",
       "                        <td id=\"T_1873d7cc_599d_11eb_afb3_cba9d8b76a84row30_col5\" class=\"data row30 col5\" >0.511</td>\n",
       "                        <td id=\"T_1873d7cc_599d_11eb_afb3_cba9d8b76a84row30_col6\" class=\"data row30 col6\" >0.689</td>\n",
       "                        <td id=\"T_1873d7cc_599d_11eb_afb3_cba9d8b76a84row30_col7\" class=\"data row30 col7\" >0.542</td>\n",
       "                        <td id=\"T_1873d7cc_599d_11eb_afb3_cba9d8b76a84row30_col8\" class=\"data row30 col8\" >0.421</td>\n",
       "                        <td id=\"T_1873d7cc_599d_11eb_afb3_cba9d8b76a84row30_col9\" class=\"data row30 col9\" >0.41</td>\n",
       "                        <td id=\"T_1873d7cc_599d_11eb_afb3_cba9d8b76a84row30_col10\" class=\"data row30 col10\" >0.761</td>\n",
       "                        <td id=\"T_1873d7cc_599d_11eb_afb3_cba9d8b76a84row30_col11\" class=\"data row30 col11\" >0.111</td>\n",
       "                        <td id=\"T_1873d7cc_599d_11eb_afb3_cba9d8b76a84row30_col12\" class=\"data row30 col12\" >-0.0481</td>\n",
       "                        <td id=\"T_1873d7cc_599d_11eb_afb3_cba9d8b76a84row30_col13\" class=\"data row30 col13\" >0.186</td>\n",
       "                        <td id=\"T_1873d7cc_599d_11eb_afb3_cba9d8b76a84row30_col14\" class=\"data row30 col14\" >0.0917</td>\n",
       "                        <td id=\"T_1873d7cc_599d_11eb_afb3_cba9d8b76a84row30_col15\" class=\"data row30 col15\" >0.13</td>\n",
       "                        <td id=\"T_1873d7cc_599d_11eb_afb3_cba9d8b76a84row30_col16\" class=\"data row30 col16\" >0.605</td>\n",
       "                        <td id=\"T_1873d7cc_599d_11eb_afb3_cba9d8b76a84row30_col17\" class=\"data row30 col17\" >0.506</td>\n",
       "                        <td id=\"T_1873d7cc_599d_11eb_afb3_cba9d8b76a84row30_col18\" class=\"data row30 col18\" >0.357</td>\n",
       "                        <td id=\"T_1873d7cc_599d_11eb_afb3_cba9d8b76a84row30_col19\" class=\"data row30 col19\" >0.0111</td>\n",
       "                        <td id=\"T_1873d7cc_599d_11eb_afb3_cba9d8b76a84row30_col20\" class=\"data row30 col20\" >0.713</td>\n",
       "                        <td id=\"T_1873d7cc_599d_11eb_afb3_cba9d8b76a84row30_col21\" class=\"data row30 col21\" >0.127</td>\n",
       "                        <td id=\"T_1873d7cc_599d_11eb_afb3_cba9d8b76a84row30_col22\" class=\"data row30 col22\" >0.193</td>\n",
       "                        <td id=\"T_1873d7cc_599d_11eb_afb3_cba9d8b76a84row30_col23\" class=\"data row30 col23\" >0.179</td>\n",
       "                        <td id=\"T_1873d7cc_599d_11eb_afb3_cba9d8b76a84row30_col24\" class=\"data row30 col24\" >0.119</td>\n",
       "                        <td id=\"T_1873d7cc_599d_11eb_afb3_cba9d8b76a84row30_col25\" class=\"data row30 col25\" >0.615</td>\n",
       "                        <td id=\"T_1873d7cc_599d_11eb_afb3_cba9d8b76a84row30_col26\" class=\"data row30 col26\" >0.762</td>\n",
       "                        <td id=\"T_1873d7cc_599d_11eb_afb3_cba9d8b76a84row30_col27\" class=\"data row30 col27\" >0.623</td>\n",
       "                        <td id=\"T_1873d7cc_599d_11eb_afb3_cba9d8b76a84row30_col28\" class=\"data row30 col28\" >0.517</td>\n",
       "                        <td id=\"T_1873d7cc_599d_11eb_afb3_cba9d8b76a84row30_col29\" class=\"data row30 col29\" >0.488</td>\n",
       "                        <td id=\"T_1873d7cc_599d_11eb_afb3_cba9d8b76a84row30_col30\" class=\"data row30 col30\" >1.0</td>\n",
       "            </tr>\n",
       "    </tbody></table>"
      ],
      "text/plain": [
       "<pandas.io.formats.style.Styler at 0x7f5ace5cc450>"
      ]
     },
     "execution_count": 851,
     "metadata": {},
     "output_type": "execute_result"
    }
   ],
   "source": [
    "#la matrice de correlation \n",
    "matrice_corr = data.corr(method='spearman').style.format(\"{:.3}\").background_gradient(cmap=plt.get_cmap('coolwarm'))\n",
    "matrice_corr"
   ]
  },
  {
   "cell_type": "markdown",
   "metadata": {},
   "source": [
    "\n",
    "\n",
    "##### Principe de K-NN : dis moi qui sont tes voisins, je te dirais qui tu es !\n",
    "\n"
   ]
  },
  {
   "cell_type": "markdown",
   "metadata": {},
   "source": [
    "###  Divisez les données en un ensemble d'entraînement et de test séparé\n"
   ]
  },
  {
   "cell_type": "code",
   "execution_count": 852,
   "metadata": {},
   "outputs": [],
   "source": [
    "# We define  X_train, X_test, Y_train, Y_test\n",
    "\n",
    "X_train, X_test, Y_train, Y_test = train_test_split(X,y, test_size =0.25, random_state=42)\n"
   ]
  },
  {
   "cell_type": "code",
   "execution_count": 853,
   "metadata": {
    "scrolled": false
   },
   "outputs": [
    {
     "name": "stdout",
     "output_type": "stream",
     "text": [
      "K:3 Time: 0.006   Score_train :0.951 Score_test : 0.93 \n",
      "              precision    recall  f1-score   support\n",
      "\n",
      "           0       0.94      0.94      0.94        89\n",
      "           1       0.91      0.91      0.91        54\n",
      "\n",
      "    accuracy                           0.93       143\n",
      "   macro avg       0.93      0.93      0.93       143\n",
      "weighted avg       0.93      0.93      0.93       143\n",
      "\n"
     ]
    }
   ],
   "source": [
    "# Uune première itération sans scaller les données\n",
    "# juste pour avoir un point de repère\n",
    "n_neig=3\n",
    "model = KNeighborsClassifier(n_neighbors=n_neig) \n",
    "start = time()\n",
    "model.fit(X_train,Y_train)\n",
    "T3= time()-start\n",
    "\n",
    "S3 = round(model.score(X_train,Y_train),3)\n",
    "S3T = round(model.score(X_test,Y_test),3)\n",
    "Y_pred = model.predict(X_test)\n",
    "\n",
    "f1Score = round(f1_score(Y_test, Y_pred, average='weighted'),3)\n",
    "\n",
    "\n",
    "T3 = round(T3,3)\n",
    "print(f\"K:{n_neig} Time: {T3}   Score_train :{S3} Score_test : {S3T} \")\n",
    "\n",
    "print(classification_report(Y_test, Y_pred))\n"
   ]
  },
  {
   "cell_type": "code",
   "execution_count": 854,
   "metadata": {
    "scrolled": true
   },
   "outputs": [
    {
     "name": "stdout",
     "output_type": "stream",
     "text": [
      "[[0.33333333 0.66666667]\n",
      " [0.         1.        ]\n",
      " [0.         1.        ]\n",
      " [1.         0.        ]\n",
      " [1.         0.        ]\n",
      " [0.         1.        ]\n",
      " [0.         1.        ]\n",
      " [0.         1.        ]\n",
      " [1.         0.        ]\n",
      " [1.         0.        ]]\n"
     ]
    }
   ],
   "source": [
    "#model.predict_proba(X_test)[:, 1] #x est une observation\n",
    "y_pred_prob = model.predict_proba(X_test)\n",
    "print(y_pred_prob[:10])\n",
    "# la première colonne représente la probabilité  'p' qu'un  sujet\n",
    "# se trouve dans la catégorie 1  et 2me colonne la probabilté\n",
    "# qu'il soit dans la 2 éme catégorie, elle est égale à \n",
    "# 1-p\n",
    "#Si P > 0.5  ===> prédiction classe (y =1 )  \n",
    "#Si P > 0.5  ===> prédiction classe (y =0 )"
   ]
  },
  {
   "cell_type": "code",
   "execution_count": 855,
   "metadata": {},
   "outputs": [
    {
     "data": {
      "text/plain": [
       "array([[84,  5],\n",
       "       [ 5, 49]])"
      ]
     },
     "execution_count": 855,
     "metadata": {},
     "output_type": "execute_result"
    }
   ],
   "source": [
    "#Les coefficients sur la diagonale indique les éléments\n",
    "#sont bien classés et les autres sont les vaux positifs.\n",
    "conf = confusion_matrix(Y_test, model.predict(X_test))\n",
    "conf"
   ]
  },
  {
   "cell_type": "markdown",
   "metadata": {},
   "source": [
    "Equation of the precision and recall\n",
    "\n",
    "Precision and recall are defined as :\n",
    "\n",
    "Precision = TP / TP + FP\n",
    "\n",
    "Recall = TP / TP + FN\n",
    "\n",
    "where :\n",
    "\n",
    "TP : True Positive FP : False Positive FN : False Negative\n",
    "\n",
    "La précision permet de répondre à la question suivante: \n",
    "Quelle proportion d'identifications positives était effectivement correcte ? Ainsi, un modèle ne produisant aucun faux positif a une précision de 1,0 et plus un modèle produit de Faux positive (FP) est plus sa précision diminue.\n",
    "\n",
    "Accuracy\n",
    "\n",
    "Used as a statistical measure of how well binary claccification test correctly identifies or excludes a condition. That is, the accuracy is the proportion of correct predictions (both true positives and true negatives) among the total number of cases examined.\n",
    "\n",
    "Accuracy = (TP + TN)/(TP + TN + FP + FN)\n",
    "\n",
    "where: TP = True positive; FP = False positive; TN = True negative; FN = False negative\n",
    "\n",
    "It return the mean accuracy on the given test data and labels.\n"
   ]
  },
  {
   "cell_type": "code",
   "execution_count": 856,
   "metadata": {
    "scrolled": true
   },
   "outputs": [
    {
     "name": "stdout",
     "output_type": "stream",
     "text": [
      "K:3 Time: 0.006   Score_train :0.946 Score_test : 0.944 \n",
      "              precision    recall  f1-score   support\n",
      "\n",
      "           0       0.96      0.96      0.96        89\n",
      "           1       0.93      0.93      0.93        54\n",
      "\n",
      "    accuracy                           0.94       143\n",
      "   macro avg       0.94      0.94      0.94       143\n",
      "weighted avg       0.94      0.94      0.94       143\n",
      "\n"
     ]
    }
   ],
   "source": [
    "#la combinaison données scaled + KNeighborsClassifier(n_neighbors=3)\n",
    "# On constate une am les résultats \n",
    "\n",
    "# Standardisation des données et et test_size =0.25\n",
    "\n",
    "X_trainSS = StandardScaler().fit_transform(X_train)\n",
    "\n",
    "n_neig=3\n",
    "model = KNeighborsClassifier(n_neighbors=n_neig) \n",
    "model.fit(X_trainSS,y_train)\n",
    "\n",
    "X_testSS = StandardScaler().fit_transform(X_test)\n",
    "\n",
    "model.fit(X_testSS,Y_test)\n",
    "\n",
    "y_pred= model.predict(X_testSS)\n",
    "\n",
    "S3 = round(model.score(X_trainSS,Y_train),3)\n",
    "S3T = round(model.score(X_testSS,Y_test),3)\n",
    "Y_pred = model.predict(X_testSS)\n",
    "\n",
    "f1Score = round(f1_score(Y_test, Y_pred, average='weighted'),3)\n",
    "\n",
    "\n",
    "T3 = round(T3,3)\n",
    "print(f\"K:{n_neig} Time: {T3}   Score_train :{S3} Score_test : {S3T} \")\n",
    "\n",
    "print(classification_report(Y_test, Y_pred))\n"
   ]
  },
  {
   "cell_type": "markdown",
   "metadata": {},
   "source": [
    "Les premiers résultats sans aucun preporcessing et surl'ensemble des données du data set donnent des scores satisfaisants. Il seront utilisées pour la comparaison avec les étapes suivantes\n",
    "Dans la prochaine étapes nous allons suivre 2 pistes.\n",
    "1. Définition du nombre du Kneigbord optimal.\n",
    "2. Reduction des dimensions en utilisant Kmeans, data scaled, dataKneigbord en utilisant les pipes lines\n",
    "3. Elimination des features qui ont une faible correlation avec la target\n",
    "4. le recours à la Cross Validation, GridSearchCV si le temps le permet"
   ]
  },
  {
   "cell_type": "markdown",
   "metadata": {},
   "source": [
    "#### Détermination du Définition du nombre du Kneigbord optimal : réglage des hyperparamètres\n",
    "#####  a - recours à la Cross Validation\n",
    "Le principe de la Cross Validation est le suivant :\n",
    "- Il s'agit de découper le set_train  en N découpe.\n",
    "- Entrainer le modèle sur les N-1 découpe (set_train) et le test sur la découpe restante(set_test).\n",
    "- refaire l'étape 2 avec N configurations possibles, en choissant à chaque fois un set_test différent. \n",
    "- Au final, la moyenne est faite sur N score obtenu.\n",
    "De cette manière, si on veut choisir entre deux modèles, le choix se fixera sur celui qui aurait obtenu la moyenne du meilleur score.\n",
    "\n",
    "Il existe plusieurs manière de decouper en set-train. Celle implementait par défaut est le straitiedKfold. Il y a aussi lKfold, le shuffleSplit..\n",
    "Elles sont détaillées sur Cross Validation Splitter Classes.\n",
    "Pour l'utiliser dans notre cas, il suffit aprés avoir importer \n",
    "de préciser ;\n",
    "cross_val_score(KNeighborsClassifier(k), X_train, y_train, cv=5)\n",
    "cv : est le nombre de split\n",
    "K : le nombre de KNeighbors\n",
    "et on peut aussi precessing le scoring. On utilsera celle par défaut l'accuracy.\n"
   ]
  },
  {
   "cell_type": "markdown",
   "metadata": {},
   "source": [
    "La validation Curve est très utile pour repérer l'overfitting\n",
    "Un modèle \"overtfit\" quand les erreurs sur le train_set diminuent , mais celle sur le test_set augmentent. Le modèle s'est trop perfectionné le train_set et a perdu le sens de la généralisation.\n",
    "On général, on est en présence d'un trés bon score sur le train set et un mauvais score sur le test set. \n",
    "Nous essayerons par la suite k = 3 et 7.\n",
    "Il existe aussi d'autres hyper_paramètres à optimiser dans le cadre KNeighborsClassifier (la distance par exemple). Nous ferons appelle à la GridSearchCv"
   ]
  },
  {
   "cell_type": "code",
   "execution_count": 857,
   "metadata": {},
   "outputs": [
    {
     "data": {
      "text/plain": [
       "Text(0.5, 0, 'KNeighbors')"
      ]
     },
     "execution_count": 857,
     "metadata": {},
     "output_type": "execute_result"
    },
    {
     "data": {
      "image/png": "[encoded data removed]",
      "text/plain": [
       "<Figure size 432x288 with 1 Axes>"
      ]
     },
     "metadata": {
      "needs_background": "light"
     },
     "output_type": "display_data"
    }
   ],
   "source": [
    "#determination du nombre de Kneighbord optimal avec la \n",
    "# cross_val_score\n",
    "valScore =[]\n",
    "for k in range(2,30) :\n",
    "    S = round(cross_val_score(KNeighborsClassifier(k), X_train, y_train, cv=10, scoring='accuracy').mean(),3)\n",
    "    valScore.append(S)\n",
    "plt.plot(valScore)\n",
    "plt.ylabel('Score')\n",
    "plt.xlabel('KNeighbors')\n",
    "#plt.legend()"
   ]
  },
  {
   "cell_type": "markdown",
   "metadata": {},
   "source": [
    "Le nombre de voisin optimal est le nombre = 5\n",
    "Nous continuerons à tester avec un k dans un interval"
   ]
  },
  {
   "cell_type": "markdown",
   "metadata": {},
   "source": [
    "##### b recours à la Validation Curve\n",
    "C'est une fonction Scklearn qui teste toutes les valeurs pour un hyper paramètre donnée. Elle permet ainsi de calcluer le score sur le set_train et les set_test."
   ]
  },
  {
   "cell_type": "code",
   "execution_count": 858,
   "metadata": {},
   "outputs": [],
   "source": [
    "from sklearn.model_selection import validation_curve"
   ]
  },
  {
   "cell_type": "code",
   "execution_count": 859,
   "metadata": {
    "scrolled": true
   },
   "outputs": [
    {
     "name": "stderr",
     "output_type": "stream",
     "text": [
      "/home/sacia/anaconda3/envs/MachineLearning/lib/python3.7/site-packages/sklearn/utils/validation.py:70: FutureWarning:\n",
      "\n",
      "Pass param_name=n_neighbors, param_range=[ 2  3  4  5  6  7  8  9 10 11 12 13 14 15 16 17 18 19 20 21 22 23 24 25\n",
      " 26 27 28 29] as keyword args. From version 0.25 passing these as positional arguments will result in an error\n",
      "\n"
     ]
    }
   ],
   "source": [
    "model = KNeighborsClassifier()\n",
    "CV= 10\n",
    "k =  np.arange(2,30)\n",
    "train_set, val_set = validation_curve(model, X_train,Y_train,\"n_neighbors\",k,cv = CV)"
   ]
  },
  {
   "cell_type": "code",
   "execution_count": 860,
   "metadata": {
    "scrolled": true
   },
   "outputs": [
    {
     "data": {
      "text/plain": [
       "<matplotlib.legend.Legend at 0x7f5ace3655d0>"
      ]
     },
     "execution_count": 860,
     "metadata": {},
     "output_type": "execute_result"
    },
    {
     "data": {
      "image/png": "[encoded data removed]",
      "text/plain": [
       "<Figure size 432x288 with 1 Axes>"
      ]
     },
     "metadata": {
      "needs_background": "light"
     },
     "output_type": "display_data"
    }
   ],
   "source": [
    "plt.plot(k,train_set.mean(axis=1), label= \"Train\")\n",
    "plt.plot(k,val_set.mean(axis=1), label=\"Validation\")\n",
    "plt.xlabel(\"k\")\n",
    "plt.ylabel(\"Score\")\n",
    "plt.legend()"
   ]
  },
  {
   "cell_type": "code",
   "execution_count": 861,
   "metadata": {
    "scrolled": true
   },
   "outputs": [
    {
     "name": "stderr",
     "output_type": "stream",
     "text": [
      "/home/sacia/anaconda3/envs/MachineLearning/lib/python3.7/site-packages/sklearn/utils/validation.py:70: FutureWarning:\n",
      "\n",
      "Pass param_name=n_neighbors, param_range=[2 3 4 5 6 7 8 9] as keyword args. From version 0.25 passing these as positional arguments will result in an error\n",
      "\n"
     ]
    },
    {
     "data": {
      "text/plain": [
       "<matplotlib.legend.Legend at 0x7f5ace32aed0>"
      ]
     },
     "execution_count": 861,
     "metadata": {},
     "output_type": "execute_result"
    },
    {
     "data": {
      "image/png": "[encoded data removed]",
      "text/plain": [
       "<Figure size 432x288 with 1 Axes>"
      ]
     },
     "metadata": {
      "needs_background": "light"
     },
     "output_type": "display_data"
    }
   ],
   "source": [
    "from sklearn.model_selection import validation_curve\n",
    "model = KNeighborsClassifier()\n",
    "k = np.arange(2,10)\n",
    "train_score , val_score = validation_curve(model,X_train,Y_train,'n_neighbors',k, cv = CV, scoring='accuracy')\n",
    "TSM = train_score.mean(axis=1)\n",
    "\n",
    "#print(TSM,3)\n",
    "plt.plot(k,train_score.mean(axis=1),label = \"train\")\n",
    "plt.plot(k,val_score.mean(axis=1),label = \"validation\")\n",
    "plt.xlabel(\"n_neighbors\")\n",
    "plt.ylabel(\"Score\")\n",
    "plt.legend()"
   ]
  },
  {
   "cell_type": "code",
   "execution_count": 862,
   "metadata": {},
   "outputs": [],
   "source": [
    "# Reduction des dimensions et détermination du n_components optimal\n",
    "# Nous commençons avec le nombre de 10\n",
    "PCA = PCA(n_components=10)\n",
    "data_reduit10 = PCA.fit_transform(X)"
   ]
  },
  {
   "cell_type": "code",
   "execution_count": 863,
   "metadata": {},
   "outputs": [
    {
     "data": {
      "text/plain": [
       "[<matplotlib.lines.Line2D at 0x7f5ace25bf90>]"
      ]
     },
     "execution_count": 863,
     "metadata": {},
     "output_type": "execute_result"
    },
    {
     "data": {
      "image/png": "[encoded data removed]",
      "text/plain": [
       "<Figure size 432x288 with 1 Axes>"
      ]
     },
     "metadata": {
      "needs_background": "light"
     },
     "output_type": "display_data"
    }
   ],
   "source": [
    "# Le pourcentage de variance préservé pour chaque composante\n",
    "plt.plot(np.cumsum(PCA.explained_variance_ratio_))\n"
   ]
  },
  {
   "cell_type": "code",
   "execution_count": 864,
   "metadata": {},
   "outputs": [],
   "source": [
    "\n",
    "from sklearn.preprocessing import StandardScaler\n"
   ]
  },
  {
   "cell_type": "markdown",
   "metadata": {},
   "source": [
    "2. La standardisation : StandardScaler\n",
    "\n",
    "La deuxième technique de normalisation est la Standardisation de tel sorte que chaque X est une moyenne nulle est un écrat type égale à 1\n",
    "\n",
    "Xscaled = X - X.mean / X.std\n"
   ]
  },
  {
   "cell_type": "code",
   "execution_count": 865,
   "metadata": {},
   "outputs": [],
   "source": [
    "# La standardisation des données \n",
    "#X_trainSS = StandardScaler().fit_transform(X_train)\n",
    "#X_testSS = StandardScaler().fit_transform(X_test)\n",
    "from sklearn import metrics\n",
    "from sklearn.svm import LinearSVC\n",
    "from sklearn.pipeline import Pipeline"
   ]
  },
  {
   "cell_type": "code",
   "execution_count": 867,
   "metadata": {},
   "outputs": [
    {
     "name": "stdout",
     "output_type": "stream",
     "text": [
      "temps total : 0.018\n"
     ]
    },
    {
     "name": "stderr",
     "output_type": "stream",
     "text": [
      "/home/sacia/anaconda3/envs/MachineLearning/lib/python3.7/site-packages/sklearn/svm/_base.py:977: ConvergenceWarning:\n",
      "\n",
      "Liblinear failed to converge, increase the number of iterations.\n",
      "\n"
     ]
    },
    {
     "data": {
      "text/html": [
       "<div>\n",
       "<style scoped>\n",
       "    .dataframe tbody tr th:only-of-type {\n",
       "        vertical-align: middle;\n",
       "    }\n",
       "\n",
       "    .dataframe tbody tr th {\n",
       "        vertical-align: top;\n",
       "    }\n",
       "\n",
       "    .dataframe thead th {\n",
       "        text-align: right;\n",
       "    }\n",
       "</style>\n",
       "<table border=\"1\" class=\"dataframe\">\n",
       "  <thead>\n",
       "    <tr style=\"text-align: right;\">\n",
       "      <th></th>\n",
       "      <th>Pipe</th>\n",
       "      <th>Time</th>\n",
       "      <th>f1_score</th>\n",
       "      <th>Train Score</th>\n",
       "      <th>Test Score</th>\n",
       "      <th>Precision</th>\n",
       "      <th>Recall</th>\n",
       "    </tr>\n",
       "  </thead>\n",
       "  <tbody>\n",
       "    <tr>\n",
       "      <th>0</th>\n",
       "      <td>SS+kNeig_3</td>\n",
       "      <td>0.011</td>\n",
       "      <td>0.958</td>\n",
       "      <td>0.984</td>\n",
       "      <td>0.958</td>\n",
       "      <td>0.944</td>\n",
       "      <td>0.944</td>\n",
       "    </tr>\n",
       "    <tr>\n",
       "      <th>1</th>\n",
       "      <td>SS+KNeig_7</td>\n",
       "      <td>0.007</td>\n",
       "      <td>0.958</td>\n",
       "      <td>0.967</td>\n",
       "      <td>0.958</td>\n",
       "      <td>0.944</td>\n",
       "      <td>0.944</td>\n",
       "    </tr>\n",
       "    <tr>\n",
       "      <th>2</th>\n",
       "      <td>kNeig_3</td>\n",
       "      <td>0.003</td>\n",
       "      <td>0.930</td>\n",
       "      <td>0.951</td>\n",
       "      <td>0.930</td>\n",
       "      <td>0.907</td>\n",
       "      <td>0.907</td>\n",
       "    </tr>\n",
       "    <tr>\n",
       "      <th>3</th>\n",
       "      <td>kNeig_7</td>\n",
       "      <td>0.003</td>\n",
       "      <td>0.958</td>\n",
       "      <td>0.937</td>\n",
       "      <td>0.958</td>\n",
       "      <td>0.962</td>\n",
       "      <td>0.926</td>\n",
       "    </tr>\n",
       "    <tr>\n",
       "      <th>4</th>\n",
       "      <td>kNeig_10</td>\n",
       "      <td>0.003</td>\n",
       "      <td>0.965</td>\n",
       "      <td>0.923</td>\n",
       "      <td>0.965</td>\n",
       "      <td>0.980</td>\n",
       "      <td>0.926</td>\n",
       "    </tr>\n",
       "    <tr>\n",
       "      <th>5</th>\n",
       "      <td>SVC</td>\n",
       "      <td>0.043</td>\n",
       "      <td>0.950</td>\n",
       "      <td>0.920</td>\n",
       "      <td>0.951</td>\n",
       "      <td>1.000</td>\n",
       "      <td>0.870</td>\n",
       "    </tr>\n",
       "    <tr>\n",
       "      <th>6</th>\n",
       "      <td>SS+SVC</td>\n",
       "      <td>0.009</td>\n",
       "      <td>0.965</td>\n",
       "      <td>0.988</td>\n",
       "      <td>0.965</td>\n",
       "      <td>0.930</td>\n",
       "      <td>0.982</td>\n",
       "    </tr>\n",
       "  </tbody>\n",
       "</table>\n",
       "</div>"
      ],
      "text/plain": [
       "         Pipe   Time  f1_score  Train Score  Test Score  Precision  Recall\n",
       "0  SS+kNeig_3  0.011     0.958        0.984       0.958      0.944   0.944\n",
       "1  SS+KNeig_7  0.007     0.958        0.967       0.958      0.944   0.944\n",
       "2     kNeig_3  0.003     0.930        0.951       0.930      0.907   0.907\n",
       "3     kNeig_7  0.003     0.958        0.937       0.958      0.962   0.926\n",
       "4    kNeig_10  0.003     0.965        0.923       0.965      0.980   0.926\n",
       "5         SVC  0.043     0.950        0.920       0.951      1.000   0.870\n",
       "6      SS+SVC  0.009     0.965        0.988       0.965      0.930   0.982"
      ]
     },
     "execution_count": 867,
     "metadata": {},
     "output_type": "execute_result"
    }
   ],
   "source": [
    "# Utilisation de pipeline pour tester différentes combinaison\n",
    "\n",
    "X_train, X_test, Y_train, Y_test = train_test_split(X,y, test_size =0.25, random_state=42)\n",
    "\n",
    "\n",
    "\n",
    "pipe1 = Pipeline([\n",
    "    ('SS', StandardScaler()),\n",
    "    ('kNeig_3', KNeighborsClassifier(n_neighbors=3))\n",
    "    ])\n",
    "\n",
    "pipe2 = Pipeline([\n",
    "    ('SS', StandardScaler()),\n",
    "    ('kNeig_7', KNeighborsClassifier(n_neighbors=7))\n",
    "    ])\n",
    "\n",
    "pipe3 = Pipeline([\n",
    "   # ('PCA2', PCA(n_components=4)),\n",
    "    ('kNeig_3', KNeighborsClassifier(n_neighbors=3))\n",
    "    ])\n",
    "\n",
    "pipe4 = Pipeline([\n",
    "    ('kNeig_7', KNeighborsClassifier(n_neighbors=7))\n",
    "    ])\n",
    "\n",
    "pipe5 = Pipeline([\n",
    "    ('kNeig_3', KNeighborsClassifier(n_neighbors=10))\n",
    "    ])\n",
    "pipe6 = Pipeline([\n",
    "    ('SVC', LinearSVC(max_iter=1500))\n",
    "    ])\n",
    "pipe7 = Pipeline([\n",
    "    ('SS', StandardScaler()),\n",
    "    ('SVC', LinearSVC(max_iter=1500))\n",
    "    ])\n",
    "\n",
    "                 \n",
    "# liste time ,  f1_score, pipeline\n",
    "\n",
    "t = []\n",
    "f1Score = []\n",
    "ScoreTR = []\n",
    "ScoreTS= []\n",
    "P = []\n",
    "R = []\n",
    "\n",
    "pipes = [ pipe1, pipe2, pipe3, pipe4, pipe5,pipe6,pipe7]\n",
    "\n",
    "for pipe in pipes:\n",
    "    \n",
    "    # Learn\n",
    "    start = time()\n",
    "    pipe.fit(X_train, Y_train)\n",
    "    t1 = time() - start\n",
    "    \n",
    "    # predict and save results evaluation\n",
    "    y_pred = pipe.predict(X_test)\n",
    "    \n",
    "   \n",
    "      \n",
    "    f1 = f1_score(Y_test, y_pred, average='weighted')\n",
    "    S = round(pipe.score(X_train,Y_train),3)\n",
    "    ST = round(pipe.score(X_test,Y_test),3)\n",
    "    p1 = round(metrics.precision_score(Y_test, y_pred),4)\n",
    "    r1 = round(metrics.recall_score(Y_test, y_pred),4)\n",
    "    \n",
    "    # save time and scores\n",
    "    t.append(round(t1,3))\n",
    "    f1Score.append(round(f1,3))\n",
    "    ScoreTR.append(round(S,3))\n",
    "    ScoreTS.append(round(ST,3))\n",
    "    P.append(round(p1,3))\n",
    "    R.append(round(r1,3))\n",
    "    \n",
    "time_f = time()- start\n",
    "names = [\"SS+kNeig_3\", \"SS+KNeig_7\", \"kNeig_3\", \"kNeig_7\",\"kNeig_10\",\"SVC\",\"SS+SVC\"]  \n",
    "# mettre les résultats ds un tableau\n",
    "\n",
    "print(\"temps total :\", round(time_f,3))\n",
    "\n",
    "#mettre les résultats d'un dictionnaire et le convertir ds un dataframe\n",
    "dict_result = {}\n",
    "dict_result ['Pipe'] = names\n",
    "dict_result ['Time'] = t\n",
    "dict_result ['f1_score'] = f1Score\n",
    "dict_result ['Train Score'] = ScoreTR\n",
    "dict_result ['Test Score'] = ScoreTS\n",
    "dict_result ['Precision'] = P\n",
    "dict_result ['Recall'] = R\n",
    "\n",
    "df = pd.DataFrame.from_dict(dict_result)\n",
    "#df.to_csv('result1.csv')\n",
    "#df1 = pd.read_csv('result1.csv')\n",
    "df"
   ]
  },
  {
   "cell_type": "code",
   "execution_count": 868,
   "metadata": {},
   "outputs": [
    {
     "data": {
      "application/vnd.plotly.v1+json": {
       "config": {
        "plotlyServerURL": "https://plot.ly"
       },
       "data": [
        {
         "mode": "lines",
         "name": "f1_score",
         "type": "scatter",
         "x": [
          "SS+kNeig_3",
          "SS+KNeig_7",
          "kNeig_3",
          "kNeig_7",
          "kNeig_10",
          "SVC",
          "SS+SVC"
         ],
         "y": [
          0.958,
          0.958,
          0.93,
          0.958,
          0.965,
          0.95,
          0.965
         ]
        },
        {
         "mode": "lines+markers",
         "name": "Train Score",
         "type": "scatter",
         "x": [
          "SS+kNeig_3",
          "SS+KNeig_7",
          "kNeig_3",
          "kNeig_7",
          "kNeig_10",
          "SVC",
          "SS+SVC"
         ],
         "y": [
          0.984,
          0.967,
          0.951,
          0.937,
          0.923,
          0.92,
          0.988
         ]
        },
        {
         "name": "Test Score",
         "type": "scatter",
         "x": [
          "SS+kNeig_3",
          "SS+KNeig_7",
          "kNeig_3",
          "kNeig_7",
          "kNeig_10",
          "SVC",
          "SS+SVC"
         ],
         "y": [
          0.958,
          0.958,
          0.93,
          0.958,
          0.965,
          0.951,
          0.965
         ]
        },
        {
         "mode": "lines",
         "name": "Precision",
         "type": "scatter",
         "x": [
          "SS+kNeig_3",
          "SS+KNeig_7",
          "kNeig_3",
          "kNeig_7",
          "kNeig_10",
          "SVC",
          "SS+SVC"
         ],
         "y": [
          0.944,
          0.944,
          0.907,
          0.962,
          0.98,
          1,
          0.93
         ]
        },
        {
         "mode": "lines",
         "name": "Recall",
         "type": "scatter",
         "x": [
          "SS+kNeig_3",
          "SS+KNeig_7",
          "kNeig_3",
          "kNeig_7",
          "kNeig_10",
          "SVC",
          "SS+SVC"
         ],
         "y": [
          0.944,
          0.944,
          0.907,
          0.926,
          0.926,
          0.87,
          0.982
         ]
        }
       ],
       "layout": {
        "template": {
         "data": {
          "bar": [
           {
            "error_x": {
             "color": "#2a3f5f"
            },
            "error_y": {
             "color": "#2a3f5f"
            },
            "marker": {
             "line": {
              "color": "#E5ECF6",
              "width": 0.5
             }
            },
            "type": "bar"
           }
          ],
          "barpolar": [
           {
            "marker": {
             "line": {
              "color": "#E5ECF6",
              "width": 0.5
             }
            },
            "type": "barpolar"
           }
          ],
          "carpet": [
           {
            "aaxis": {
             "endlinecolor": "#2a3f5f",
             "gridcolor": "white",
             "linecolor": "white",
             "minorgridcolor": "white",
             "startlinecolor": "#2a3f5f"
            },
            "baxis": {
             "endlinecolor": "#2a3f5f",
             "gridcolor": "white",
             "linecolor": "white",
             "minorgridcolor": "white",
             "startlinecolor": "#2a3f5f"
            },
            "type": "carpet"
           }
          ],
          "choropleth": [
           {
            "colorbar": {
             "outlinewidth": 0,
             "ticks": ""
            },
            "type": "choropleth"
           }
          ],
          "contour": [
           {
            "colorbar": {
             "outlinewidth": 0,
             "ticks": ""
            },
            "colorscale": [
             [
              0,
              "#0d0887"
             ],
             [
              0.1111111111111111,
              "#46039f"
             ],
             [
              0.2222222222222222,
              "#7201a8"
             ],
             [
              0.3333333333333333,
              "#9c179e"
             ],
             [
              0.4444444444444444,
              "#bd3786"
             ],
             [
              0.5555555555555556,
              "#d8576b"
             ],
             [
              0.6666666666666666,
              "#ed7953"
             ],
             [
              0.7777777777777778,
              "#fb9f3a"
             ],
             [
              0.8888888888888888,
              "#fdca26"
             ],
             [
              1,
              "#f0f921"
             ]
            ],
            "type": "contour"
           }
          ],
          "contourcarpet": [
           {
            "colorbar": {
             "outlinewidth": 0,
             "ticks": ""
            },
            "type": "contourcarpet"
           }
          ],
          "heatmap": [
           {
            "colorbar": {
             "outlinewidth": 0,
             "ticks": ""
            },
            "colorscale": [
             [
              0,
              "#0d0887"
             ],
             [
              0.1111111111111111,
              "#46039f"
             ],
             [
              0.2222222222222222,
              "#7201a8"
             ],
             [
              0.3333333333333333,
              "#9c179e"
             ],
             [
              0.4444444444444444,
              "#bd3786"
             ],
             [
              0.5555555555555556,
              "#d8576b"
             ],
             [
              0.6666666666666666,
              "#ed7953"
             ],
             [
              0.7777777777777778,
              "#fb9f3a"
             ],
             [
              0.8888888888888888,
              "#fdca26"
             ],
             [
              1,
              "#f0f921"
             ]
            ],
            "type": "heatmap"
           }
          ],
          "heatmapgl": [
           {
            "colorbar": {
             "outlinewidth": 0,
             "ticks": ""
            },
            "colorscale": [
             [
              0,
              "#0d0887"
             ],
             [
              0.1111111111111111,
              "#46039f"
             ],
             [
              0.2222222222222222,
              "#7201a8"
             ],
             [
              0.3333333333333333,
              "#9c179e"
             ],
             [
              0.4444444444444444,
              "#bd3786"
             ],
             [
              0.5555555555555556,
              "#d8576b"
             ],
             [
              0.6666666666666666,
              "#ed7953"
             ],
             [
              0.7777777777777778,
              "#fb9f3a"
             ],
             [
              0.8888888888888888,
              "#fdca26"
             ],
             [
              1,
              "#f0f921"
             ]
            ],
            "type": "heatmapgl"
           }
          ],
          "histogram": [
           {
            "marker": {
             "colorbar": {
              "outlinewidth": 0,
              "ticks": ""
             }
            },
            "type": "histogram"
           }
          ],
          "histogram2d": [
           {
            "colorbar": {
             "outlinewidth": 0,
             "ticks": ""
            },
            "colorscale": [
             [
              0,
              "#0d0887"
             ],
             [
              0.1111111111111111,
              "#46039f"
             ],
             [
              0.2222222222222222,
              "#7201a8"
             ],
             [
              0.3333333333333333,
              "#9c179e"
             ],
             [
              0.4444444444444444,
              "#bd3786"
             ],
             [
              0.5555555555555556,
              "#d8576b"
             ],
             [
              0.6666666666666666,
              "#ed7953"
             ],
             [
              0.7777777777777778,
              "#fb9f3a"
             ],
             [
              0.8888888888888888,
              "#fdca26"
             ],
             [
              1,
              "#f0f921"
             ]
            ],
            "type": "histogram2d"
           }
          ],
          "histogram2dcontour": [
           {
            "colorbar": {
             "outlinewidth": 0,
             "ticks": ""
            },
            "colorscale": [
             [
              0,
              "#0d0887"
             ],
             [
              0.1111111111111111,
              "#46039f"
             ],
             [
              0.2222222222222222,
              "#7201a8"
             ],
             [
              0.3333333333333333,
              "#9c179e"
             ],
             [
              0.4444444444444444,
              "#bd3786"
             ],
             [
              0.5555555555555556,
              "#d8576b"
             ],
             [
              0.6666666666666666,
              "#ed7953"
             ],
             [
              0.7777777777777778,
              "#fb9f3a"
             ],
             [
              0.8888888888888888,
              "#fdca26"
             ],
             [
              1,
              "#f0f921"
             ]
            ],
            "type": "histogram2dcontour"
           }
          ],
          "mesh3d": [
           {
            "colorbar": {
             "outlinewidth": 0,
             "ticks": ""
            },
            "type": "mesh3d"
           }
          ],
          "parcoords": [
           {
            "line": {
             "colorbar": {
              "outlinewidth": 0,
              "ticks": ""
             }
            },
            "type": "parcoords"
           }
          ],
          "pie": [
           {
            "automargin": true,
            "type": "pie"
           }
          ],
          "scatter": [
           {
            "marker": {
             "colorbar": {
              "outlinewidth": 0,
              "ticks": ""
             }
            },
            "type": "scatter"
           }
          ],
          "scatter3d": [
           {
            "line": {
             "colorbar": {
              "outlinewidth": 0,
              "ticks": ""
             }
            },
            "marker": {
             "colorbar": {
              "outlinewidth": 0,
              "ticks": ""
             }
            },
            "type": "scatter3d"
           }
          ],
          "scattercarpet": [
           {
            "marker": {
             "colorbar": {
              "outlinewidth": 0,
              "ticks": ""
             }
            },
            "type": "scattercarpet"
           }
          ],
          "scattergeo": [
           {
            "marker": {
             "colorbar": {
              "outlinewidth": 0,
              "ticks": ""
             }
            },
            "type": "scattergeo"
           }
          ],
          "scattergl": [
           {
            "marker": {
             "colorbar": {
              "outlinewidth": 0,
              "ticks": ""
             }
            },
            "type": "scattergl"
           }
          ],
          "scattermapbox": [
           {
            "marker": {
             "colorbar": {
              "outlinewidth": 0,
              "ticks": ""
             }
            },
            "type": "scattermapbox"
           }
          ],
          "scatterpolar": [
           {
            "marker": {
             "colorbar": {
              "outlinewidth": 0,
              "ticks": ""
             }
            },
            "type": "scatterpolar"
           }
          ],
          "scatterpolargl": [
           {
            "marker": {
             "colorbar": {
              "outlinewidth": 0,
              "ticks": ""
             }
            },
            "type": "scatterpolargl"
           }
          ],
          "scatterternary": [
           {
            "marker": {
             "colorbar": {
              "outlinewidth": 0,
              "ticks": ""
             }
            },
            "type": "scatterternary"
           }
          ],
          "surface": [
           {
            "colorbar": {
             "outlinewidth": 0,
             "ticks": ""
            },
            "colorscale": [
             [
              0,
              "#0d0887"
             ],
             [
              0.1111111111111111,
              "#46039f"
             ],
             [
              0.2222222222222222,
              "#7201a8"
             ],
             [
              0.3333333333333333,
              "#9c179e"
             ],
             [
              0.4444444444444444,
              "#bd3786"
             ],
             [
              0.5555555555555556,
              "#d8576b"
             ],
             [
              0.6666666666666666,
              "#ed7953"
             ],
             [
              0.7777777777777778,
              "#fb9f3a"
             ],
             [
              0.8888888888888888,
              "#fdca26"
             ],
             [
              1,
              "#f0f921"
             ]
            ],
            "type": "surface"
           }
          ],
          "table": [
           {
            "cells": {
             "fill": {
              "color": "#EBF0F8"
             },
             "line": {
              "color": "white"
             }
            },
            "header": {
             "fill": {
              "color": "#C8D4E3"
             },
             "line": {
              "color": "white"
             }
            },
            "type": "table"
           }
          ]
         },
         "layout": {
          "annotationdefaults": {
           "arrowcolor": "#2a3f5f",
           "arrowhead": 0,
           "arrowwidth": 1
          },
          "coloraxis": {
           "colorbar": {
            "outlinewidth": 0,
            "ticks": ""
           }
          },
          "colorscale": {
           "diverging": [
            [
             0,
             "#8e0152"
            ],
            [
             0.1,
             "#c51b7d"
            ],
            [
             0.2,
             "#de77ae"
            ],
            [
             0.3,
             "#f1b6da"
            ],
            [
             0.4,
             "#fde0ef"
            ],
            [
             0.5,
             "#f7f7f7"
            ],
            [
             0.6,
             "#e6f5d0"
            ],
            [
             0.7,
             "#b8e186"
            ],
            [
             0.8,
             "#7fbc41"
            ],
            [
             0.9,
             "#4d9221"
            ],
            [
             1,
             "#276419"
            ]
           ],
           "sequential": [
            [
             0,
             "#0d0887"
            ],
            [
             0.1111111111111111,
             "#46039f"
            ],
            [
             0.2222222222222222,
             "#7201a8"
            ],
            [
             0.3333333333333333,
             "#9c179e"
            ],
            [
             0.4444444444444444,
             "#bd3786"
            ],
            [
             0.5555555555555556,
             "#d8576b"
            ],
            [
             0.6666666666666666,
             "#ed7953"
            ],
            [
             0.7777777777777778,
             "#fb9f3a"
            ],
            [
             0.8888888888888888,
             "#fdca26"
            ],
            [
             1,
             "#f0f921"
            ]
           ],
           "sequentialminus": [
            [
             0,
             "#0d0887"
            ],
            [
             0.1111111111111111,
             "#46039f"
            ],
            [
             0.2222222222222222,
             "#7201a8"
            ],
            [
             0.3333333333333333,
             "#9c179e"
            ],
            [
             0.4444444444444444,
             "#bd3786"
            ],
            [
             0.5555555555555556,
             "#d8576b"
            ],
            [
             0.6666666666666666,
             "#ed7953"
            ],
            [
             0.7777777777777778,
             "#fb9f3a"
            ],
            [
             0.8888888888888888,
             "#fdca26"
            ],
            [
             1,
             "#f0f921"
            ]
           ]
          },
          "colorway": [
           "#636efa",
           "#EF553B",
           "#00cc96",
           "#ab63fa",
           "#FFA15A",
           "#19d3f3",
           "#FF6692",
           "#B6E880",
           "#FF97FF",
           "#FECB52"
          ],
          "font": {
           "color": "#2a3f5f"
          },
          "geo": {
           "bgcolor": "white",
           "lakecolor": "white",
           "landcolor": "#E5ECF6",
           "showlakes": true,
           "showland": true,
           "subunitcolor": "white"
          },
          "hoverlabel": {
           "align": "left"
          },
          "hovermode": "closest",
          "mapbox": {
           "style": "light"
          },
          "paper_bgcolor": "white",
          "plot_bgcolor": "#E5ECF6",
          "polar": {
           "angularaxis": {
            "gridcolor": "white",
            "linecolor": "white",
            "ticks": ""
           },
           "bgcolor": "#E5ECF6",
           "radialaxis": {
            "gridcolor": "white",
            "linecolor": "white",
            "ticks": ""
           }
          },
          "scene": {
           "xaxis": {
            "backgroundcolor": "#E5ECF6",
            "gridcolor": "white",
            "gridwidth": 2,
            "linecolor": "white",
            "showbackground": true,
            "ticks": "",
            "zerolinecolor": "white"
           },
           "yaxis": {
            "backgroundcolor": "#E5ECF6",
            "gridcolor": "white",
            "gridwidth": 2,
            "linecolor": "white",
            "showbackground": true,
            "ticks": "",
            "zerolinecolor": "white"
           },
           "zaxis": {
            "backgroundcolor": "#E5ECF6",
            "gridcolor": "white",
            "gridwidth": 2,
            "linecolor": "white",
            "showbackground": true,
            "ticks": "",
            "zerolinecolor": "white"
           }
          },
          "shapedefaults": {
           "line": {
            "color": "#2a3f5f"
           }
          },
          "ternary": {
           "aaxis": {
            "gridcolor": "white",
            "linecolor": "white",
            "ticks": ""
           },
           "baxis": {
            "gridcolor": "white",
            "linecolor": "white",
            "ticks": ""
           },
           "bgcolor": "#E5ECF6",
           "caxis": {
            "gridcolor": "white",
            "linecolor": "white",
            "ticks": ""
           }
          },
          "title": {
           "x": 0.05
          },
          "xaxis": {
           "automargin": true,
           "gridcolor": "white",
           "linecolor": "white",
           "ticks": "",
           "title": {
            "standoff": 15
           },
           "zerolinecolor": "white",
           "zerolinewidth": 2
          },
          "yaxis": {
           "automargin": true,
           "gridcolor": "white",
           "linecolor": "white",
           "ticks": "",
           "title": {
            "standoff": 15
           },
           "zerolinecolor": "white",
           "zerolinewidth": 2
          }
         }
        }
       }
      },
      "text/html": [
       "<div>                            <div id=\"7bf4060f-6e3a-4534-b82e-f56435b65055\" class=\"plotly-graph-div\" style=\"height:525px; width:100%;\"></div>            <script type=\"text/javascript\">                require([\"plotly\"], function(Plotly) {                    window.PLOTLYENV=window.PLOTLYENV || {};                                    if (document.getElementById(\"7bf4060f-6e3a-4534-b82e-f56435b65055\")) {                    Plotly.newPlot(                        \"7bf4060f-6e3a-4534-b82e-f56435b65055\",                        [{\"mode\": \"lines\", \"name\": \"f1_score\", \"type\": \"scatter\", \"x\": [\"SS+kNeig_3\", \"SS+KNeig_7\", \"kNeig_3\", \"kNeig_7\", \"kNeig_10\", \"SVC\", \"SS+SVC\"], \"y\": [0.958, 0.958, 0.93, 0.958, 0.965, 0.95, 0.965]}, {\"mode\": \"lines+markers\", \"name\": \"Train Score\", \"type\": \"scatter\", \"x\": [\"SS+kNeig_3\", \"SS+KNeig_7\", \"kNeig_3\", \"kNeig_7\", \"kNeig_10\", \"SVC\", \"SS+SVC\"], \"y\": [0.984, 0.967, 0.951, 0.937, 0.923, 0.92, 0.988]}, {\"name\": \"Test Score\", \"type\": \"scatter\", \"x\": [\"SS+kNeig_3\", \"SS+KNeig_7\", \"kNeig_3\", \"kNeig_7\", \"kNeig_10\", \"SVC\", \"SS+SVC\"], \"y\": [0.958, 0.958, 0.93, 0.958, 0.965, 0.951, 0.965]}, {\"mode\": \"lines\", \"name\": \"Precision\", \"type\": \"scatter\", \"x\": [\"SS+kNeig_3\", \"SS+KNeig_7\", \"kNeig_3\", \"kNeig_7\", \"kNeig_10\", \"SVC\", \"SS+SVC\"], \"y\": [0.944, 0.944, 0.907, 0.962, 0.98, 1.0, 0.93]}, {\"mode\": \"lines\", \"name\": \"Recall\", \"type\": \"scatter\", \"x\": [\"SS+kNeig_3\", \"SS+KNeig_7\", \"kNeig_3\", \"kNeig_7\", \"kNeig_10\", \"SVC\", \"SS+SVC\"], \"y\": [0.944, 0.944, 0.907, 0.926, 0.926, 0.87, 0.982]}],                        {\"template\": {\"data\": {\"bar\": [{\"error_x\": {\"color\": \"#2a3f5f\"}, \"error_y\": {\"color\": \"#2a3f5f\"}, \"marker\": {\"line\": {\"color\": \"#E5ECF6\", \"width\": 0.5}}, \"type\": \"bar\"}], \"barpolar\": [{\"marker\": {\"line\": {\"color\": \"#E5ECF6\", \"width\": 0.5}}, \"type\": \"barpolar\"}], \"carpet\": [{\"aaxis\": {\"endlinecolor\": \"#2a3f5f\", \"gridcolor\": \"white\", \"linecolor\": \"white\", \"minorgridcolor\": \"white\", \"startlinecolor\": \"#2a3f5f\"}, \"baxis\": {\"endlinecolor\": \"#2a3f5f\", \"gridcolor\": \"white\", \"linecolor\": \"white\", \"minorgridcolor\": \"white\", \"startlinecolor\": \"#2a3f5f\"}, \"type\": \"carpet\"}], \"choropleth\": [{\"colorbar\": {\"outlinewidth\": 0, \"ticks\": \"\"}, \"type\": \"choropleth\"}], \"contour\": [{\"colorbar\": {\"outlinewidth\": 0, \"ticks\": \"\"}, \"colorscale\": [[0.0, \"#0d0887\"], [0.1111111111111111, \"#46039f\"], [0.2222222222222222, \"#7201a8\"], [0.3333333333333333, \"#9c179e\"], [0.4444444444444444, \"#bd3786\"], [0.5555555555555556, \"#d8576b\"], [0.6666666666666666, \"#ed7953\"], [0.7777777777777778, \"#fb9f3a\"], [0.8888888888888888, \"#fdca26\"], [1.0, \"#f0f921\"]], \"type\": \"contour\"}], \"contourcarpet\": [{\"colorbar\": {\"outlinewidth\": 0, \"ticks\": \"\"}, \"type\": \"contourcarpet\"}], \"heatmap\": [{\"colorbar\": {\"outlinewidth\": 0, \"ticks\": \"\"}, \"colorscale\": [[0.0, \"#0d0887\"], [0.1111111111111111, \"#46039f\"], [0.2222222222222222, \"#7201a8\"], [0.3333333333333333, \"#9c179e\"], [0.4444444444444444, \"#bd3786\"], [0.5555555555555556, \"#d8576b\"], [0.6666666666666666, \"#ed7953\"], [0.7777777777777778, \"#fb9f3a\"], [0.8888888888888888, \"#fdca26\"], [1.0, \"#f0f921\"]], \"type\": \"heatmap\"}], \"heatmapgl\": [{\"colorbar\": {\"outlinewidth\": 0, \"ticks\": \"\"}, \"colorscale\": [[0.0, \"#0d0887\"], [0.1111111111111111, \"#46039f\"], [0.2222222222222222, \"#7201a8\"], [0.3333333333333333, \"#9c179e\"], [0.4444444444444444, \"#bd3786\"], [0.5555555555555556, \"#d8576b\"], [0.6666666666666666, \"#ed7953\"], [0.7777777777777778, \"#fb9f3a\"], [0.8888888888888888, \"#fdca26\"], [1.0, \"#f0f921\"]], \"type\": \"heatmapgl\"}], \"histogram\": [{\"marker\": {\"colorbar\": {\"outlinewidth\": 0, \"ticks\": \"\"}}, \"type\": \"histogram\"}], \"histogram2d\": [{\"colorbar\": {\"outlinewidth\": 0, \"ticks\": \"\"}, \"colorscale\": [[0.0, \"#0d0887\"], [0.1111111111111111, \"#46039f\"], [0.2222222222222222, \"#7201a8\"], [0.3333333333333333, \"#9c179e\"], [0.4444444444444444, \"#bd3786\"], [0.5555555555555556, \"#d8576b\"], [0.6666666666666666, \"#ed7953\"], [0.7777777777777778, \"#fb9f3a\"], [0.8888888888888888, \"#fdca26\"], [1.0, \"#f0f921\"]], \"type\": \"histogram2d\"}], \"histogram2dcontour\": [{\"colorbar\": {\"outlinewidth\": 0, \"ticks\": \"\"}, \"colorscale\": [[0.0, \"#0d0887\"], [0.1111111111111111, \"#46039f\"], [0.2222222222222222, \"#7201a8\"], [0.3333333333333333, \"#9c179e\"], [0.4444444444444444, \"#bd3786\"], [0.5555555555555556, \"#d8576b\"], [0.6666666666666666, \"#ed7953\"], [0.7777777777777778, \"#fb9f3a\"], [0.8888888888888888, \"#fdca26\"], [1.0, \"#f0f921\"]], \"type\": \"histogram2dcontour\"}], \"mesh3d\": [{\"colorbar\": {\"outlinewidth\": 0, \"ticks\": \"\"}, \"type\": \"mesh3d\"}], \"parcoords\": [{\"line\": {\"colorbar\": {\"outlinewidth\": 0, \"ticks\": \"\"}}, \"type\": \"parcoords\"}], \"pie\": [{\"automargin\": true, \"type\": \"pie\"}], \"scatter\": [{\"marker\": {\"colorbar\": {\"outlinewidth\": 0, \"ticks\": \"\"}}, \"type\": \"scatter\"}], \"scatter3d\": [{\"line\": {\"colorbar\": {\"outlinewidth\": 0, \"ticks\": \"\"}}, \"marker\": {\"colorbar\": {\"outlinewidth\": 0, \"ticks\": \"\"}}, \"type\": \"scatter3d\"}], \"scattercarpet\": [{\"marker\": {\"colorbar\": {\"outlinewidth\": 0, \"ticks\": \"\"}}, \"type\": \"scattercarpet\"}], \"scattergeo\": [{\"marker\": {\"colorbar\": {\"outlinewidth\": 0, \"ticks\": \"\"}}, \"type\": \"scattergeo\"}], \"scattergl\": [{\"marker\": {\"colorbar\": {\"outlinewidth\": 0, \"ticks\": \"\"}}, \"type\": \"scattergl\"}], \"scattermapbox\": [{\"marker\": {\"colorbar\": {\"outlinewidth\": 0, \"ticks\": \"\"}}, \"type\": \"scattermapbox\"}], \"scatterpolar\": [{\"marker\": {\"colorbar\": {\"outlinewidth\": 0, \"ticks\": \"\"}}, \"type\": \"scatterpolar\"}], \"scatterpolargl\": [{\"marker\": {\"colorbar\": {\"outlinewidth\": 0, \"ticks\": \"\"}}, \"type\": \"scatterpolargl\"}], \"scatterternary\": [{\"marker\": {\"colorbar\": {\"outlinewidth\": 0, \"ticks\": \"\"}}, \"type\": \"scatterternary\"}], \"surface\": [{\"colorbar\": {\"outlinewidth\": 0, \"ticks\": \"\"}, \"colorscale\": [[0.0, \"#0d0887\"], [0.1111111111111111, \"#46039f\"], [0.2222222222222222, \"#7201a8\"], [0.3333333333333333, \"#9c179e\"], [0.4444444444444444, \"#bd3786\"], [0.5555555555555556, \"#d8576b\"], [0.6666666666666666, \"#ed7953\"], [0.7777777777777778, \"#fb9f3a\"], [0.8888888888888888, \"#fdca26\"], [1.0, \"#f0f921\"]], \"type\": \"surface\"}], \"table\": [{\"cells\": {\"fill\": {\"color\": \"#EBF0F8\"}, \"line\": {\"color\": \"white\"}}, \"header\": {\"fill\": {\"color\": \"#C8D4E3\"}, \"line\": {\"color\": \"white\"}}, \"type\": \"table\"}]}, \"layout\": {\"annotationdefaults\": {\"arrowcolor\": \"#2a3f5f\", \"arrowhead\": 0, \"arrowwidth\": 1}, \"coloraxis\": {\"colorbar\": {\"outlinewidth\": 0, \"ticks\": \"\"}}, \"colorscale\": {\"diverging\": [[0, \"#8e0152\"], [0.1, \"#c51b7d\"], [0.2, \"#de77ae\"], [0.3, \"#f1b6da\"], [0.4, \"#fde0ef\"], [0.5, \"#f7f7f7\"], [0.6, \"#e6f5d0\"], [0.7, \"#b8e186\"], [0.8, \"#7fbc41\"], [0.9, \"#4d9221\"], [1, \"#276419\"]], \"sequential\": [[0.0, \"#0d0887\"], [0.1111111111111111, \"#46039f\"], [0.2222222222222222, \"#7201a8\"], [0.3333333333333333, \"#9c179e\"], [0.4444444444444444, \"#bd3786\"], [0.5555555555555556, \"#d8576b\"], [0.6666666666666666, \"#ed7953\"], [0.7777777777777778, \"#fb9f3a\"], [0.8888888888888888, \"#fdca26\"], [1.0, \"#f0f921\"]], \"sequentialminus\": [[0.0, \"#0d0887\"], [0.1111111111111111, \"#46039f\"], [0.2222222222222222, \"#7201a8\"], [0.3333333333333333, \"#9c179e\"], [0.4444444444444444, \"#bd3786\"], [0.5555555555555556, \"#d8576b\"], [0.6666666666666666, \"#ed7953\"], [0.7777777777777778, \"#fb9f3a\"], [0.8888888888888888, \"#fdca26\"], [1.0, \"#f0f921\"]]}, \"colorway\": [\"#636efa\", \"#EF553B\", \"#00cc96\", \"#ab63fa\", \"#FFA15A\", \"#19d3f3\", \"#FF6692\", \"#B6E880\", \"#FF97FF\", \"#FECB52\"], \"font\": {\"color\": \"#2a3f5f\"}, \"geo\": {\"bgcolor\": \"white\", \"lakecolor\": \"white\", \"landcolor\": \"#E5ECF6\", \"showlakes\": true, \"showland\": true, \"subunitcolor\": \"white\"}, \"hoverlabel\": {\"align\": \"left\"}, \"hovermode\": \"closest\", \"mapbox\": {\"style\": \"light\"}, \"paper_bgcolor\": \"white\", \"plot_bgcolor\": \"#E5ECF6\", \"polar\": {\"angularaxis\": {\"gridcolor\": \"white\", \"linecolor\": \"white\", \"ticks\": \"\"}, \"bgcolor\": \"#E5ECF6\", \"radialaxis\": {\"gridcolor\": \"white\", \"linecolor\": \"white\", \"ticks\": \"\"}}, \"scene\": {\"xaxis\": {\"backgroundcolor\": \"#E5ECF6\", \"gridcolor\": \"white\", \"gridwidth\": 2, \"linecolor\": \"white\", \"showbackground\": true, \"ticks\": \"\", \"zerolinecolor\": \"white\"}, \"yaxis\": {\"backgroundcolor\": \"#E5ECF6\", \"gridcolor\": \"white\", \"gridwidth\": 2, \"linecolor\": \"white\", \"showbackground\": true, \"ticks\": \"\", \"zerolinecolor\": \"white\"}, \"zaxis\": {\"backgroundcolor\": \"#E5ECF6\", \"gridcolor\": \"white\", \"gridwidth\": 2, \"linecolor\": \"white\", \"showbackground\": true, \"ticks\": \"\", \"zerolinecolor\": \"white\"}}, \"shapedefaults\": {\"line\": {\"color\": \"#2a3f5f\"}}, \"ternary\": {\"aaxis\": {\"gridcolor\": \"white\", \"linecolor\": \"white\", \"ticks\": \"\"}, \"baxis\": {\"gridcolor\": \"white\", \"linecolor\": \"white\", \"ticks\": \"\"}, \"bgcolor\": \"#E5ECF6\", \"caxis\": {\"gridcolor\": \"white\", \"linecolor\": \"white\", \"ticks\": \"\"}}, \"title\": {\"x\": 0.05}, \"xaxis\": {\"automargin\": true, \"gridcolor\": \"white\", \"linecolor\": \"white\", \"ticks\": \"\", \"title\": {\"standoff\": 15}, \"zerolinecolor\": \"white\", \"zerolinewidth\": 2}, \"yaxis\": {\"automargin\": true, \"gridcolor\": \"white\", \"linecolor\": \"white\", \"ticks\": \"\", \"title\": {\"standoff\": 15}, \"zerolinecolor\": \"white\", \"zerolinewidth\": 2}}}},                        {\"responsive\": true}                    ).then(function(){\n",
       "                            \n",
       "var gd = document.getElementById('7bf4060f-6e3a-4534-b82e-f56435b65055');\n",
       "var x = new MutationObserver(function (mutations, observer) {{\n",
       "        var display = window.getComputedStyle(gd).display;\n",
       "        if (!display || display === 'none') {{\n",
       "            console.log([gd, 'removed!']);\n",
       "            Plotly.purge(gd);\n",
       "            observer.disconnect();\n",
       "        }}\n",
       "}});\n",
       "\n",
       "// Listen for the removal of the full notebook cells\n",
       "var notebookContainer = gd.closest('#notebook-container');\n",
       "if (notebookContainer) {{\n",
       "    x.observe(notebookContainer, {childList: true});\n",
       "}}\n",
       "\n",
       "// Listen for the clearing of the current output cell\n",
       "var outputEl = gd.closest('.output');\n",
       "if (outputEl) {{\n",
       "    x.observe(outputEl, {childList: true});\n",
       "}}\n",
       "\n",
       "                        })                };                });            </script>        </div>"
      ]
     },
     "metadata": {},
     "output_type": "display_data"
    }
   ],
   "source": [
    "# comaparaison des performances des cinq classifiers selon les différentes metrics\n",
    "import plotly.graph_objs as go\n",
    "\n",
    "#from plotly.offline import init_notebook_mode, iplot, plot\n",
    "#import plotly as py\n",
    "\n",
    "\n",
    "figPipe = go.Figure()\n",
    "figPipe.add_trace(go.Scatter(x=df[\"Pipe\"], y=df[\"f1_score\"],\n",
    "                    mode='lines',\n",
    "                    name='f1_score'))\n",
    "figPipe.add_trace(go.Scatter(x=df[\"Pipe\"], y=df[\"Train Score\"],\n",
    "                    mode='lines+markers',\n",
    "                    name='Train Score'))\n",
    "figPipe.add_trace(go.Scatter(x=df[\"Pipe\"], y=df[\"Test Score\"],\n",
    "                    #mode='lines+markers',\n",
    "                    name='Test Score'))\n",
    "figPipe.add_trace(go.Scatter(x=df[\"Pipe\"], y=df[\"Precision\"],\n",
    "                    mode='lines',\n",
    "                    name='Precision'))\n",
    "figPipe.add_trace(go.Scatter(x=df[\"Pipe\"], y=df[\"Recall\"],\n",
    "                    mode='lines',\n",
    "                    name='Recall'))\n",
    "\n",
    "\n",
    "\n",
    "\n"
   ]
  },
  {
   "cell_type": "code",
   "execution_count": 869,
   "metadata": {
    "scrolled": true
   },
   "outputs": [
    {
     "name": "stdout",
     "output_type": "stream",
     "text": [
      "K:3 Time: 0.006   Score_train :0.946 Score_test : 0.944 \n",
      "              precision    recall  f1-score   support\n",
      "\n",
      "           0       0.96      0.96      0.96        89\n",
      "           1       0.93      0.93      0.93        54\n",
      "\n",
      "    accuracy                           0.94       143\n",
      "   macro avg       0.94      0.94      0.94       143\n",
      "weighted avg       0.94      0.94      0.94       143\n",
      "\n"
     ]
    }
   ],
   "source": [
    "# Tester la combinaison des données standardisées + KNeighborsClassifier(n_neighbors=3)\n",
    "#  sans Pipeline.\n",
    "# On constate que le pipeline améliore les résultats \n",
    "\n",
    "# Standardisation des données et et test_size =0.25\n",
    "\n",
    "X_trainSS = StandardScaler().fit_transform(X_train)\n",
    "\n",
    "n_neig=3\n",
    "model = KNeighborsClassifier(n_neighbors=n_neig) \n",
    "model.fit(X_trainSS,y_train)\n",
    "\n",
    "X_testSS = StandardScaler().fit_transform(X_test)\n",
    "\n",
    "model.fit(X_testSS,Y_test)\n",
    "\n",
    "y_pred= model.predict(X_testSS)\n",
    "\n",
    "S3 = round(model.score(X_trainSS,Y_train),3)\n",
    "S3T = round(model.score(X_testSS,Y_test),3)\n",
    "y_pred_SS_K3 = model.predict(X_testSS)\n",
    "\n",
    "f1Score = round(f1_score(Y_test, y_pred, average='weighted'),3)\n",
    "\n",
    "\n",
    "T3 = round(T3,3)\n",
    "print(f\"K:{n_neig} Time: {T3}   Score_train :{S3} Score_test : {S3T} \")\n",
    "\n",
    "y_pred_prob = model.predict_proba(X_test)[0:10]\n",
    "\n",
    "print(classification_report(Y_test, Y_pred))\n",
    "\n"
   ]
  },
  {
   "cell_type": "code",
   "execution_count": 870,
   "metadata": {},
   "outputs": [
    {
     "data": {
      "image/png": "[encoded data removed]",
      "text/plain": [
       "<Figure size 500x500 with 1 Axes>"
      ]
     },
     "metadata": {
      "needs_background": "light"
     },
     "output_type": "display_data"
    }
   ],
   "source": [
    "y_pred_1 =model.predict_proba(X_test)[:, 1]\n",
    "fpr_SS_K3, tpr_SS_K3, thresholds_SS_K3 = roc_curve(y_test, y_pred_SS_K3)\n",
    "plt.figure(figsize = (5,5),dpi =  100)\n",
    "plt.plot(fpr_SS_K3, tpr_SS_K3, label = 'SS_K3')\n",
    "plt.plot([0,1], [0,1], label ='Proba' )\n",
    "\n",
    "\n",
    "plt.legend()\n",
    "plt.show()\n",
    "\n"
   ]
  },
  {
   "cell_type": "code",
   "execution_count": 871,
   "metadata": {},
   "outputs": [
    {
     "data": {
      "image/png": "[encoded data removed]",
      "text/plain": [
       "<Figure size 432x288 with 1 Axes>"
      ]
     },
     "metadata": {
      "needs_background": "light"
     },
     "output_type": "display_data"
    }
   ],
   "source": [
    "# Tester la combinaison données scaled + KNeighborsClassifier(n_neighbors=3)\n",
    "svc_disp = plot_roc_curve(model, X_test, Y_test, label = \"KNN3\")\n",
    "plt.show()\n"
   ]
  },
  {
   "cell_type": "code",
   "execution_count": 872,
   "metadata": {},
   "outputs": [
    {
     "name": "stderr",
     "output_type": "stream",
     "text": [
      "/home/sacia/anaconda3/envs/MachineLearning/lib/python3.7/site-packages/sklearn/svm/_base.py:977: ConvergenceWarning:\n",
      "\n",
      "Liblinear failed to converge, increase the number of iterations.\n",
      "\n"
     ]
    },
    {
     "data": {
      "image/png": "[encoded data removed]",
      "text/plain": [
       "<Figure size 500x500 with 1 Axes>"
      ]
     },
     "metadata": {
      "needs_background": "light"
     },
     "output_type": "display_data"
    }
   ],
   "source": [
    "from sklearn.metrics import roc_curve, auc\n",
    "\n",
    "# StandardScaler() + LinearSVC\n",
    "\n",
    "pipe7 = Pipeline([\n",
    "    ('SS', StandardScaler()),\n",
    "    ('SVC', LinearSVC(max_iter=500))\n",
    "    ])\n",
    "\n",
    "pipe7.fit(X_train, Y_train)\n",
    "\n",
    "y_pred_SS_SVC = pipe.decision_function(X_test)\n",
    "\n",
    "fpr_SS_SVC, fpr_SS_SVC, thresholds_SS_SVC = roc_curve(y_test, y_pred_SS_SVC)\n",
    "\n",
    "#auc_SS_SVC = auc(fpr_SS_SVC, tpr_SS_SVC)\n",
    "\n",
    "plt.figure(figsize = (5,5),dpi =  100)\n",
    "plt.plot(fpr_SS_K3, tpr_SS_K3, label = 'SS_K3')\n",
    "plt.plot(fpr_SS_SVC, fpr_SS_SVC, label = 'SS_SVC')\n",
    "\n",
    "plt.legend()\n",
    "plt.show()\n",
    "\n"
   ]
  },
  {
   "cell_type": "code",
   "execution_count": 873,
   "metadata": {},
   "outputs": [
    {
     "name": "stderr",
     "output_type": "stream",
     "text": [
      "/home/sacia/anaconda3/envs/MachineLearning/lib/python3.7/site-packages/sklearn/utils/validation.py:70: FutureWarning:\n",
      "\n",
      "Pass param_name=n_neighbors, param_range=[2 3 4 5 6 7 8 9] as keyword args. From version 0.25 passing these as positional arguments will result in an error\n",
      "\n"
     ]
    }
   ],
   "source": [
    "#train_set, val_set = validation_curve(model, X_train,Y_train,\"n_neighbors\",k,cv = CV)\n",
    "\n"
   ]
  },
  {
   "cell_type": "markdown",
   "metadata": {},
   "source": [
    "https://scikit-learn.org/stable/modules/cross_validation.html\n",
    "\n",
    "\n",
    "https://scikit-learn.org/stable/auto_examples/model_selection/plot_validation_curve.html#sphx-glr-auto-examples-model-selection-plot-validation-curve-py"
   ]
  }
 ],
 "metadata": {
  "kernelspec": {
   "display_name": "Python 3",
   "language": "python",
   "name": "python3"
  },
  "language_info": {
   "codemirror_mode": {
    "name": "ipython",
    "version": 3
   },
   "file_extension": ".py",
   "mimetype": "text/x-python",
   "name": "python",
   "nbconvert_exporter": "python",
   "pygments_lexer": "ipython3",
   "version": "3.7.9"
  }
 },
 "nbformat": 4,
 "nbformat_minor": 4
}
