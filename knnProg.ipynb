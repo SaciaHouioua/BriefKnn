{
 "cells": [
  {
   "cell_type": "markdown",
   "metadata": {},
   "source": [
    "#### Bonus : Implémenter votre propre algorithme KNN\n",
    "Nous allons essayer de programmer une KNN sur le data set réduit avec les 23 variables au lieu de 32."
   ]
  },
  {
   "cell_type": "code",
   "execution_count": 80,
   "metadata": {},
   "outputs": [],
   "source": [
    "\n",
    "import pandas as pd\n",
    "\n",
    "import numpy as np\n",
    "from time import time"
   ]
  },
  {
   "cell_type": "code",
   "execution_count": 123,
   "metadata": {},
   "outputs": [],
   "source": [
    "data1= pd.read_csv('kNN.csv')"
   ]
  },
  {
   "cell_type": "code",
   "execution_count": 124,
   "metadata": {},
   "outputs": [
    {
     "name": "stdout",
     "output_type": "stream",
     "text": [
      "Encodage de M et B par  [1 0]\n"
     ]
    }
   ],
   "source": [
    "#la colonne Unnamed est completement vide, nous allons l'enlever du data set\n",
    "data1 = data1.drop(['id',\"Unnamed: 32\"], axis=1)\n",
    "\n",
    "data1['diagnosis']= data1['diagnosis'].astype('category').cat.codes\n",
    "print(\"Encodage de M et B par \", data1['diagnosis'].unique())"
   ]
  },
  {
   "cell_type": "code",
   "execution_count": 83,
   "metadata": {},
   "outputs": [],
   "source": [
    "# définition des labels 'y' et X les features\n",
    "#Suppression des features qui possèdent une correlation\n",
    "# infeieur à 0.35 avec la target diaganostic.\n",
    "data = data1.drop([\"symmetry_mean\",\"fractal_dimension_mean\",\"texture_se\",\"perimeter_se\",\"smoothness_se\",\"symmetry_se\",\"fractal_dimension_se\",\"fractal_dimension_worst\"], axis=1)\n",
    "\n",
    "y = data['diagnosis']\n",
    "\n",
    "X = data.drop([\"diagnosis\"], axis=1)\n",
    "\n"
   ]
  },
  {
   "cell_type": "code",
   "execution_count": 84,
   "metadata": {},
   "outputs": [
    {
     "data": {
      "text/plain": [
       "(569, 22)"
      ]
     },
     "execution_count": 84,
     "metadata": {},
     "output_type": "execute_result"
    }
   ],
   "source": [
    "X.shape # une observation d'un patient est décrite à l'aide de 22 features."
   ]
  },
  {
   "cell_type": "code",
   "execution_count": 85,
   "metadata": {},
   "outputs": [],
   "source": [
    "# calcuer la distance euclidienne entre deux observation (patients)\n",
    "def distance (a,b):\n",
    "    dis = ((a - b)**2).sum() ** 0.5\n",
    "    return round(dis,4)\n",
    "\n",
    "# calcuer la moyenne de la liste des distances\n",
    "def disMean (listDis):\n",
    "    # dans la liste figure toujours la distance d'une observation avec elle même d'ou la \n",
    "    # len(lisDis)-1\n",
    "    result = sum(listDis) /(len(listDis)-1)\n",
    "    return result\n",
    "\n",
    "# imprime le dictionnaire\n",
    "def printDic(dic):\n",
    "    for k in dic.keys():\n",
    "        print(k , \":\", dic[k])\n",
    "\n",
    "# Standard scaler Manuel\n",
    "def StandScal (X) :\n",
    "    X_ss = (X - X.mean(axis = 0))/ X.std(axis=0)\n",
    "    return X_ss      "
   ]
  },
  {
   "cell_type": "code",
   "execution_count": 128,
   "metadata": {},
   "outputs": [],
   "source": [
    "# alogorithme principal\n",
    "\n",
    "m = 10\n",
    "# Standardisation \n",
    "X_ss = StandScal(X)\n",
    "\n",
    "# faire un test avec un dataset de taille m\n",
    "data= X_ss.iloc[:m,:]\n",
    "\n",
    "\n",
    "# Initialiser k au nombre de plus proches voisins choisi\n",
    "k= 3\n",
    "\n",
    "# structure de données qui recoit les résultats sous forme de dic ou Keys : index obersvation\n",
    "# values représentent les  distance\n",
    "# dictance_e = {j : sort}\n",
    "# sort est la liste des index des k distance les plus faible renvoyé par argsort() \n",
    "# de la liste des distance  dic (préalablement transformée sour forme d'un array)\n",
    "\n",
    "\n",
    "\n",
    "dictance_e = {}\n",
    "\n",
    "# demarrage à partir de la ligne j = 0\n",
    "j = 0\n",
    "# un dictionnaire qui contient en keys le tuple(i,j) , values : la distance entre le tupe (i, j)\n",
    "counted ={(0,0):0}\n",
    "\n",
    "for j in range(data.shape[0]):\n",
    "    # dis : la liste qui contien\n",
    "    dis = [] \n",
    "    \n",
    "    a = data.iloc[j,:]\n",
    "    \n",
    "    for i in range(data.shape[0]):\n",
    "        if (i,j) not in counted.keys() or (j,i) not in counted.keys():\n",
    "            b = data.iloc[i,:]\n",
    "            d = distance (a,b)  \n",
    "            counted[(i,j)] = d \n",
    "        else :\n",
    "            d = counted[(i,j)]\n",
    "        \n",
    "        dis.append(d)\n",
    "        \n",
    "           \n",
    "# Trier cette collection ordonnée contenant distances et indices de la plus petite distance à la plus grande (dans ordre croissant).\n",
    "#list to array\n",
    "    adis =np.array(dis)\n",
    "    sort = adis.argsort()\n",
    "    liste=np.delete(sort,0) # le premier element correspondant à la distance 0 avec soi-meme\n",
    "    \n",
    "#Obtenir les étiquettes des k entrées sélectionnées  \n",
    "# k +1 car la distance d'une observation avec elle même est égale à 0\n",
    "    dictance_e[j] = liste[:k]\n",
    "    \n"
   ]
  },
  {
   "cell_type": "code",
   "execution_count": 129,
   "metadata": {},
   "outputs": [
    {
     "name": "stdout",
     "output_type": "stream",
     "text": [
      "[1, 2, 6]\n",
      "label true : 1\n",
      "label predict : 1.0\n",
      "diag = M\n"
     ]
    }
   ],
   "source": [
    "# i : une obervation i pour laquel on veut faire une prédication\n",
    "\n",
    "i = 4\n",
    "# diag est la \n",
    "List_distance = []\n",
    "print(list(dictance_e.get(i)))\n",
    "for i in list(dictance_e.get(i)):\n",
    "       List_distance.append(y[i])\n",
    "        \n",
    "value = np.mean(List_distance)\n",
    "\n",
    "print(\"label true :\", y[i])\n",
    "print(\"label predict :\", value)\n",
    "      \n",
    "if value > 0.5 :\n",
    "     print('diag = M')\n",
    "elif value < 0.5 :\n",
    "     print ('diag = B')\n",
    "else :\n",
    "     print(\"% M  % B = % 50\")"
   ]
  },
  {
   "cell_type": "code",
   "execution_count": 130,
   "metadata": {},
   "outputs": [],
   "source": [
    "#printDic(dictance_e)"
   ]
  },
  {
   "cell_type": "code",
   "execution_count": 91,
   "metadata": {},
   "outputs": [],
   "source": [
    "# optimissation du code précedent\n",
    "def KNN_distance(X,m,k):\n",
    "    # m : dimension de test \n",
    "    # X : features\n",
    "    # k : knn \n",
    "    \n",
    "    #m = 100\n",
    "     # Initialiser k au nombre de plus proches voisins choisi\n",
    "    #k= 3\n",
    "\n",
    "    # Standardisation \n",
    "    X_ss = StandScal(X)\n",
    "\n",
    "    # faire un test avec un dataset de taille m\n",
    "    data= X_ss.iloc[:m,:]\n",
    "\n",
    "\n",
    "   \n",
    "    # structure de données qui recoit les résultats sous forme de dic ou Keys : index obersvation\n",
    "    # values représentent les  distance\n",
    "    # dictance_e = {j : sort}\n",
    "    # sort est la liste des index des k distance les plus faible renvoyé par argsort() \n",
    "    # de la liste des distance  dic (préalablement transformée sour forme d'un array)\n",
    "\n",
    "\n",
    "    dictance_e = {}\n",
    "\n",
    "    # demarrage à partir de la ligne j = 0\n",
    "    j = 0\n",
    "    # un dictionnaire qui contient en keys le tuple(i,j) , values : la distance entre le tupe (i, j)\n",
    "    counted ={(0,0):0}\n",
    "\n",
    "    for j in range(data.shape[0]):\n",
    "        # dis : la liste qui contien\n",
    "        dis = [] \n",
    "    \n",
    "        a = data.iloc[j,:]\n",
    "    \n",
    "        for i in range(data.shape[0]):\n",
    "            if (i,j) not in counted.keys() or (j,i) not in counted.keys():\n",
    "                b = data.iloc[i,:]\n",
    "                d = distance (a,b)  \n",
    "                counted[(i,j)] = d \n",
    "            else :\n",
    "                d = counted[(i,j)]\n",
    "        \n",
    "            dis.append(d)\n",
    "        \n",
    "           \n",
    "    # Trier cette collection ordonnée contenant distances et indices de la plus petite distance à la plus grande (dans ordre croissant).\n",
    "    #list to array\n",
    "         \n",
    "        adis =np.array(dis)\n",
    "        sort = adis.argsort()\n",
    "        liste=np.delete(sort,0)\n",
    "    \n",
    "    #Obtenir les étiquettes des k entrées sélectionnées  \n",
    "    # k +1 car la distance d'une observation avec elle même est égale à 0\n",
    "    \n",
    "        dictance_e[j] = liste[:k]\n",
    "    \n",
    "    return dictance_e\n",
    "    \n"
   ]
  },
  {
   "cell_type": "code",
   "execution_count": 125,
   "metadata": {},
   "outputs": [],
   "source": [
    "def KNN (k , i , dictance_e):\n",
    "    \n",
    "    List_distance = []\n",
    "    \n",
    "    for i in list(dictance_e.get(i)):\n",
    "        List_distance.append(y[i])\n",
    "        \n",
    "    value = np.mean(List_distance)\n",
    "\n",
    "    print(\"label true :\", y[i])\n",
    "    print(\"label predict :\", value)\n",
    "      \n",
    "    if value > 0.5 :\n",
    "            print('diag = M')\n",
    "    elif value < 0.5 :\n",
    "        print ('diag = B')\n",
    "    else :\n",
    "        print(\"% M  % B = % 50\")\n",
    "    "
   ]
  },
  {
   "cell_type": "code",
   "execution_count": 111,
   "metadata": {},
   "outputs": [],
   "source": [
    "def predict (X, m, k , i):\n",
    "    # X : features\n",
    "    # m : dimension de test \n",
    "    # k : knn \n",
    "    # i : element à prédire\n",
    "    dic_distance = KNN_distance(X,m,k)\n",
    "    #printDic (dic_distance)\n",
    "    KNN (k , i , dic_distance)\n"
   ]
  },
  {
   "cell_type": "code",
   "execution_count": 126,
   "metadata": {},
   "outputs": [
    {
     "name": "stdout",
     "output_type": "stream",
     "text": [
      "label true : 1\n",
      "label predict : 1.0\n",
      "diag = M\n"
     ]
    }
   ],
   "source": [
    "# dic_distance\n",
    "predict(X,50,3,5)\n"
   ]
  },
  {
   "cell_type": "code",
   "execution_count": null,
   "metadata": {},
   "outputs": [],
   "source": []
  }
 ],
 "metadata": {
  "kernelspec": {
   "display_name": "Python 3",
   "language": "python",
   "name": "python3"
  },
  "language_info": {
   "codemirror_mode": {
    "name": "ipython",
    "version": 3
   },
   "file_extension": ".py",
   "mimetype": "text/x-python",
   "name": "python",
   "nbconvert_exporter": "python",
   "pygments_lexer": "ipython3",
   "version": "3.7.9"
  }
 },
 "nbformat": 4,
 "nbformat_minor": 4
}
