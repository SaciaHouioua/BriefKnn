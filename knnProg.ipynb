{
 "cells": [
  {
   "cell_type": "code",
   "execution_count": 1,
   "metadata": {},
   "outputs": [],
   "source": [
    "\n",
    "import pandas as pd\n",
    "\n",
    "import numpy as np\n",
    "from time import time"
   ]
  },
  {
   "cell_type": "code",
   "execution_count": 5,
   "metadata": {},
   "outputs": [],
   "source": [
    "data1= pd.read_csv('kNN.csv')"
   ]
  },
  {
   "cell_type": "code",
   "execution_count": 6,
   "metadata": {},
   "outputs": [
    {
     "name": "stdout",
     "output_type": "stream",
     "text": [
      "Encodage de M et B par  [1 0]\n"
     ]
    }
   ],
   "source": [
    "#la colonne Unnamed est completement vide, nous allons l'enlever du data set\n",
    "data1 = data1.drop(['id',\"Unnamed: 32\"], axis=1)\n",
    "\n",
    "data1['diagnosis']= data1['diagnosis'].astype('category').cat.codes\n",
    "print(\"Encodage de M et B par \", data1['diagnosis'].unique())"
   ]
  },
  {
   "cell_type": "code",
   "execution_count": 8,
   "metadata": {},
   "outputs": [],
   "source": [
    "# définition des labels 'y' et X les features\n",
    "#Suppression des features qui possèdent une correlation\n",
    "# infeieur à 0.35 avec la target diaganostic.\n",
    "data = data1.drop([\"symmetry_mean\",\"fractal_dimension_mean\",\"texture_se\",\"perimeter_se\",\"smoothness_se\",\"symmetry_se\",\"fractal_dimension_se\",\"fractal_dimension_worst\"], axis=1)\n",
    "\n",
    "y = data['diagnosis']\n",
    "\n",
    "X = data.drop([\"diagnosis\"], axis=1)\n",
    "\n"
   ]
  },
  {
   "cell_type": "code",
   "execution_count": 11,
   "metadata": {},
   "outputs": [],
   "source": [
    "def distance (a,b):\n",
    "    dis = ((a - b)**2).sum() ** 0.5\n",
    "    return round(dis,4)\n",
    "\n",
    "def diagnostic(liste):\n",
    "    value = liste.count(1)/len(liste)\n",
    "    return value\n",
    "\n",
    "def printDic(dic):\n",
    "    for k in dic.keys():\n",
    "        print(k , \":\", dic[k])\n",
    "\n",
    "# Standard scaler Manuel\n",
    "def StandScal (X) :\n",
    "    X_ss = (X - X.mean(axis = 0))/ X.std(axis=0)\n",
    "    return X_ss      "
   ]
  },
  {
   "cell_type": "code",
   "execution_count": 41,
   "metadata": {},
   "outputs": [],
   "source": [
    "\n",
    "\n",
    "m = 30\n",
    "X_ss = StandScal(X)\n",
    "\n",
    "# faire un test avec un dataset de taille m\n",
    "data= X_ss.iloc[:m,:]\n",
    "\n",
    "\n",
    "# KNN = k\n",
    "\n",
    "K= 5\n",
    "\n",
    "dictance_e = {}\n",
    "j = 0\n",
    "#print(\"size data:\", data.shape[0])\n",
    "for j in range(data.shape[0]):\n",
    "    dis = []\n",
    "    \n",
    "    a = data.iloc[j,:]\n",
    "    for i in range(data.shape[0]):\n",
    "        \n",
    "        b = data.iloc[i,:]\n",
    "        d = distance (a,b)\n",
    "       \n",
    "        dis.append(d)\n",
    "    #list to array\n",
    "    adis =np.array(dis)\n",
    "    \n",
    "    \n",
    "    sort = adis.argsort() \n",
    "   \n",
    "    \n",
    "    dictance_e[j] = sort[:K]\n",
    "    \n",
    "#printDic(dictance_e)\n"
   ]
  },
  {
   "cell_type": "code",
   "execution_count": 42,
   "metadata": {},
   "outputs": [
    {
     "name": "stdout",
     "output_type": "stream",
     "text": [
      "label true : 1\n",
      "label predict : 0.4\n",
      "diag = B avec le % 0.4\n"
     ]
    }
   ],
   "source": [
    "diag = []\n",
    "i = 20\n",
    "for i in list(dictance_e.get(i)):\n",
    "       diag.append(y[i])\n",
    "\n",
    "print(\"label true :\", y[i])\n",
    "\n",
    "value = diagnostic(diag)\n",
    "\n",
    "print(\"label predict :\", value)\n",
    "      \n",
    "if value > 0.5 :\n",
    "        print('diag = M avec le %', value)\n",
    "elif value < 0.5 :\n",
    "    print ('diag = B avec le %', value)\n",
    "else :\n",
    "    print(\"% M  % B = % 50\")\n",
    " \n",
    "\n",
    "\n",
    "\n"
   ]
  },
  {
   "cell_type": "code",
   "execution_count": 44,
   "metadata": {},
   "outputs": [
    {
     "name": "stdout",
     "output_type": "stream",
     "text": [
      "0 : [ 0 25  2 22 24]\n",
      "1 : [ 1  6 29 27 23]\n",
      "2 : [ 2 25 18 17 24]\n",
      "3 : [ 3  9  8 14 22]\n",
      "4 : [ 4 27 29  1  2]\n",
      "5 : [ 5  8  7 17 26]\n",
      "6 : [ 6  1 16 29 27]\n",
      "7 : [ 7 17 16  5 11]\n",
      "8 : [ 8  5 26 15 14]\n",
      "9 : [ 9 14 15  8 26]\n",
      "10 : [10 16 13  6 19]\n",
      "11 : [11  6 26 29  7]\n",
      "12 : [12  2 25 27 22]\n",
      "13 : [13 10 16 29 27]\n",
      "14 : [14 15  8 26 28]\n",
      "15 : [15 28  8 26 14]\n",
      "16 : [16 10  6 19  7]\n",
      "17 : [17 28 24  7  8]\n",
      "18 : [18 23 24  6  2]\n",
      "19 : [19 20 16 21 29]\n",
      "20 : [20 19 21 16  7]\n",
      "21 : [21 19 20 16 13]\n",
      "22 : [22 26 11 14  5]\n",
      "23 : [23 18  1  6 24]\n",
      "24 : [24 18 17  6  2]\n",
      "25 : [25  2  0 17 22]\n",
      "26 : [26 28  8 15 14]\n",
      "27 : [27 29  4  6  1]\n",
      "28 : [28 15 26 17  8]\n",
      "29 : [29 27  6  4  1]\n"
     ]
    }
   ],
   "source": [
    "printDic(dictance_e)\n"
   ]
  },
  {
   "cell_type": "code",
   "execution_count": 40,
   "metadata": {},
   "outputs": [
    {
     "data": {
      "text/plain": [
       "array([20, 19, 21, 16,  7])"
      ]
     },
     "execution_count": 40,
     "metadata": {},
     "output_type": "execute_result"
    }
   ],
   "source": [
    "dictance_e.get(20)"
   ]
  },
  {
   "cell_type": "code",
   "execution_count": 49,
   "metadata": {},
   "outputs": [
    {
     "data": {
      "text/plain": [
       "1"
      ]
     },
     "execution_count": 49,
     "metadata": {},
     "output_type": "execute_result"
    }
   ],
   "source": [
    "y[7]"
   ]
  },
  {
   "cell_type": "code",
   "execution_count": null,
   "metadata": {},
   "outputs": [],
   "source": []
  }
 ],
 "metadata": {
  "kernelspec": {
   "display_name": "Python 3",
   "language": "python",
   "name": "python3"
  },
  "language_info": {
   "codemirror_mode": {
    "name": "ipython",
    "version": 3
   },
   "file_extension": ".py",
   "mimetype": "text/x-python",
   "name": "python",
   "nbconvert_exporter": "python",
   "pygments_lexer": "ipython3",
   "version": "3.7.9"
  }
 },
 "nbformat": 4,
 "nbformat_minor": 4
}
